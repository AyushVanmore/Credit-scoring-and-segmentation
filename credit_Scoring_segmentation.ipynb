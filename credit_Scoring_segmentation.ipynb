{
 "cells": [
  {
   "cell_type": "code",
   "execution_count": 206,
   "metadata": {},
   "outputs": [
    {
     "data": {
      "text/html": [
       "<div>\n",
       "<style scoped>\n",
       "    .dataframe tbody tr th:only-of-type {\n",
       "        vertical-align: middle;\n",
       "    }\n",
       "\n",
       "    .dataframe tbody tr th {\n",
       "        vertical-align: top;\n",
       "    }\n",
       "\n",
       "    .dataframe thead th {\n",
       "        text-align: right;\n",
       "    }\n",
       "</style>\n",
       "<table border=\"1\" class=\"dataframe\">\n",
       "  <thead>\n",
       "    <tr style=\"text-align: right;\">\n",
       "      <th></th>\n",
       "      <th>Age</th>\n",
       "      <th>Gender</th>\n",
       "      <th>Marital Status</th>\n",
       "      <th>Education Level</th>\n",
       "      <th>Employment Status</th>\n",
       "      <th>Credit Utilization Ratio</th>\n",
       "      <th>Payment History</th>\n",
       "      <th>Number of Credit Accounts</th>\n",
       "      <th>Loan Amount</th>\n",
       "      <th>Interest Rate</th>\n",
       "      <th>Loan Term</th>\n",
       "      <th>Type of Loan</th>\n",
       "    </tr>\n",
       "  </thead>\n",
       "  <tbody>\n",
       "    <tr>\n",
       "      <th>0</th>\n",
       "      <td>60</td>\n",
       "      <td>Male</td>\n",
       "      <td>Married</td>\n",
       "      <td>Master</td>\n",
       "      <td>Employed</td>\n",
       "      <td>0.22</td>\n",
       "      <td>2685.0</td>\n",
       "      <td>2</td>\n",
       "      <td>4675000</td>\n",
       "      <td>2.65</td>\n",
       "      <td>48</td>\n",
       "      <td>Personal Loan</td>\n",
       "    </tr>\n",
       "    <tr>\n",
       "      <th>1</th>\n",
       "      <td>25</td>\n",
       "      <td>Male</td>\n",
       "      <td>Married</td>\n",
       "      <td>High School</td>\n",
       "      <td>Unemployed</td>\n",
       "      <td>0.20</td>\n",
       "      <td>2371.0</td>\n",
       "      <td>9</td>\n",
       "      <td>3619000</td>\n",
       "      <td>5.19</td>\n",
       "      <td>60</td>\n",
       "      <td>Auto Loan</td>\n",
       "    </tr>\n",
       "    <tr>\n",
       "      <th>2</th>\n",
       "      <td>30</td>\n",
       "      <td>Female</td>\n",
       "      <td>Single</td>\n",
       "      <td>Master</td>\n",
       "      <td>Employed</td>\n",
       "      <td>0.22</td>\n",
       "      <td>2771.0</td>\n",
       "      <td>6</td>\n",
       "      <td>957000</td>\n",
       "      <td>2.76</td>\n",
       "      <td>12</td>\n",
       "      <td>Auto Loan</td>\n",
       "    </tr>\n",
       "    <tr>\n",
       "      <th>3</th>\n",
       "      <td>58</td>\n",
       "      <td>Female</td>\n",
       "      <td>Married</td>\n",
       "      <td>PhD</td>\n",
       "      <td>Unemployed</td>\n",
       "      <td>0.12</td>\n",
       "      <td>1371.0</td>\n",
       "      <td>2</td>\n",
       "      <td>4731000</td>\n",
       "      <td>6.57</td>\n",
       "      <td>60</td>\n",
       "      <td>Auto Loan</td>\n",
       "    </tr>\n",
       "    <tr>\n",
       "      <th>4</th>\n",
       "      <td>32</td>\n",
       "      <td>Male</td>\n",
       "      <td>Married</td>\n",
       "      <td>Bachelor</td>\n",
       "      <td>Self-Employed</td>\n",
       "      <td>0.99</td>\n",
       "      <td>828.0</td>\n",
       "      <td>2</td>\n",
       "      <td>3289000</td>\n",
       "      <td>6.28</td>\n",
       "      <td>36</td>\n",
       "      <td>Personal Loan</td>\n",
       "    </tr>\n",
       "  </tbody>\n",
       "</table>\n",
       "</div>"
      ],
      "text/plain": [
       "   Age  Gender Marital Status Education Level Employment Status  \\\n",
       "0   60    Male        Married          Master          Employed   \n",
       "1   25    Male        Married     High School        Unemployed   \n",
       "2   30  Female         Single          Master          Employed   \n",
       "3   58  Female        Married             PhD        Unemployed   \n",
       "4   32    Male        Married        Bachelor     Self-Employed   \n",
       "\n",
       "   Credit Utilization Ratio  Payment History  Number of Credit Accounts  \\\n",
       "0                      0.22           2685.0                          2   \n",
       "1                      0.20           2371.0                          9   \n",
       "2                      0.22           2771.0                          6   \n",
       "3                      0.12           1371.0                          2   \n",
       "4                      0.99            828.0                          2   \n",
       "\n",
       "   Loan Amount  Interest Rate  Loan Term   Type of Loan  \n",
       "0      4675000           2.65         48  Personal Loan  \n",
       "1      3619000           5.19         60      Auto Loan  \n",
       "2       957000           2.76         12      Auto Loan  \n",
       "3      4731000           6.57         60      Auto Loan  \n",
       "4      3289000           6.28         36  Personal Loan  "
      ]
     },
     "execution_count": 206,
     "metadata": {},
     "output_type": "execute_result"
    }
   ],
   "source": [
    "import pandas as pd\n",
    "import plotly.graph_objects as go\n",
    "import plotly.express as px\n",
    "import plotly.io as pio\n",
    "import matplotlib.pyplot as plt\n",
    "%matplotlib inline\n",
    "pio.templates.default = \"plotly_white\"\n",
    "\n",
    "data = pd.read_csv(\"credit_scoring.csv\")\n",
    "data.head()"
   ]
  },
  {
   "cell_type": "code",
   "execution_count": 207,
   "metadata": {},
   "outputs": [
    {
     "data": {
      "text/html": [
       "<div>\n",
       "<style scoped>\n",
       "    .dataframe tbody tr th:only-of-type {\n",
       "        vertical-align: middle;\n",
       "    }\n",
       "\n",
       "    .dataframe tbody tr th {\n",
       "        vertical-align: top;\n",
       "    }\n",
       "\n",
       "    .dataframe thead th {\n",
       "        text-align: right;\n",
       "    }\n",
       "</style>\n",
       "<table border=\"1\" class=\"dataframe\">\n",
       "  <thead>\n",
       "    <tr style=\"text-align: right;\">\n",
       "      <th></th>\n",
       "      <th>Age</th>\n",
       "      <th>Credit Utilization Ratio</th>\n",
       "      <th>Payment History</th>\n",
       "      <th>Number of Credit Accounts</th>\n",
       "      <th>Loan Amount</th>\n",
       "      <th>Interest Rate</th>\n",
       "      <th>Loan Term</th>\n",
       "    </tr>\n",
       "  </thead>\n",
       "  <tbody>\n",
       "    <tr>\n",
       "      <th>count</th>\n",
       "      <td>1000.000000</td>\n",
       "      <td>1000.000000</td>\n",
       "      <td>1000.000000</td>\n",
       "      <td>1000.000000</td>\n",
       "      <td>1.000000e+03</td>\n",
       "      <td>1000.000000</td>\n",
       "      <td>1000.000000</td>\n",
       "    </tr>\n",
       "    <tr>\n",
       "      <th>mean</th>\n",
       "      <td>42.702000</td>\n",
       "      <td>0.509950</td>\n",
       "      <td>1452.814000</td>\n",
       "      <td>5.580000</td>\n",
       "      <td>2.471401e+06</td>\n",
       "      <td>10.686600</td>\n",
       "      <td>37.128000</td>\n",
       "    </tr>\n",
       "    <tr>\n",
       "      <th>std</th>\n",
       "      <td>13.266771</td>\n",
       "      <td>0.291057</td>\n",
       "      <td>827.934146</td>\n",
       "      <td>2.933634</td>\n",
       "      <td>1.387047e+06</td>\n",
       "      <td>5.479058</td>\n",
       "      <td>17.436274</td>\n",
       "    </tr>\n",
       "    <tr>\n",
       "      <th>min</th>\n",
       "      <td>20.000000</td>\n",
       "      <td>0.000000</td>\n",
       "      <td>0.000000</td>\n",
       "      <td>1.000000</td>\n",
       "      <td>1.080000e+05</td>\n",
       "      <td>1.010000</td>\n",
       "      <td>12.000000</td>\n",
       "    </tr>\n",
       "    <tr>\n",
       "      <th>25%</th>\n",
       "      <td>31.000000</td>\n",
       "      <td>0.250000</td>\n",
       "      <td>763.750000</td>\n",
       "      <td>3.000000</td>\n",
       "      <td>1.298000e+06</td>\n",
       "      <td>6.022500</td>\n",
       "      <td>24.000000</td>\n",
       "    </tr>\n",
       "    <tr>\n",
       "      <th>50%</th>\n",
       "      <td>42.000000</td>\n",
       "      <td>0.530000</td>\n",
       "      <td>1428.000000</td>\n",
       "      <td>6.000000</td>\n",
       "      <td>2.437500e+06</td>\n",
       "      <td>10.705000</td>\n",
       "      <td>36.000000</td>\n",
       "    </tr>\n",
       "    <tr>\n",
       "      <th>75%</th>\n",
       "      <td>54.000000</td>\n",
       "      <td>0.750000</td>\n",
       "      <td>2142.000000</td>\n",
       "      <td>8.000000</td>\n",
       "      <td>3.653250e+06</td>\n",
       "      <td>15.440000</td>\n",
       "      <td>48.000000</td>\n",
       "    </tr>\n",
       "    <tr>\n",
       "      <th>max</th>\n",
       "      <td>65.000000</td>\n",
       "      <td>1.000000</td>\n",
       "      <td>2857.000000</td>\n",
       "      <td>10.000000</td>\n",
       "      <td>4.996000e+06</td>\n",
       "      <td>19.990000</td>\n",
       "      <td>60.000000</td>\n",
       "    </tr>\n",
       "  </tbody>\n",
       "</table>\n",
       "</div>"
      ],
      "text/plain": [
       "               Age  Credit Utilization Ratio  Payment History  \\\n",
       "count  1000.000000               1000.000000      1000.000000   \n",
       "mean     42.702000                  0.509950      1452.814000   \n",
       "std      13.266771                  0.291057       827.934146   \n",
       "min      20.000000                  0.000000         0.000000   \n",
       "25%      31.000000                  0.250000       763.750000   \n",
       "50%      42.000000                  0.530000      1428.000000   \n",
       "75%      54.000000                  0.750000      2142.000000   \n",
       "max      65.000000                  1.000000      2857.000000   \n",
       "\n",
       "       Number of Credit Accounts   Loan Amount  Interest Rate    Loan Term  \n",
       "count                1000.000000  1.000000e+03    1000.000000  1000.000000  \n",
       "mean                    5.580000  2.471401e+06      10.686600    37.128000  \n",
       "std                     2.933634  1.387047e+06       5.479058    17.436274  \n",
       "min                     1.000000  1.080000e+05       1.010000    12.000000  \n",
       "25%                     3.000000  1.298000e+06       6.022500    24.000000  \n",
       "50%                     6.000000  2.437500e+06      10.705000    36.000000  \n",
       "75%                     8.000000  3.653250e+06      15.440000    48.000000  \n",
       "max                    10.000000  4.996000e+06      19.990000    60.000000  "
      ]
     },
     "execution_count": 207,
     "metadata": {},
     "output_type": "execute_result"
    }
   ],
   "source": [
    "data.describe()"
   ]
  },
  {
   "cell_type": "code",
   "execution_count": 208,
   "metadata": {},
   "outputs": [
    {
     "data": {
      "text/plain": [
       "Age                          0\n",
       "Gender                       0\n",
       "Marital Status               0\n",
       "Education Level              0\n",
       "Employment Status            0\n",
       "Credit Utilization Ratio     0\n",
       "Payment History              0\n",
       "Number of Credit Accounts    0\n",
       "Loan Amount                  0\n",
       "Interest Rate                0\n",
       "Loan Term                    0\n",
       "Type of Loan                 0\n",
       "dtype: int64"
      ]
     },
     "execution_count": 208,
     "metadata": {},
     "output_type": "execute_result"
    }
   ],
   "source": [
    "#chceking for null data values\n",
    "data.isnull().sum()"
   ]
  },
  {
   "cell_type": "markdown",
   "metadata": {},
   "source": [
    "Distribution of the credit utilization ratio in the data"
   ]
  },
  {
   "cell_type": "code",
   "execution_count": 209,
   "metadata": {},
   "outputs": [
    {
     "data": {
      "application/vnd.plotly.v1+json": {
       "config": {
        "plotlyServerURL": "https://plot.ly"
       },
       "data": [
        {
         "alignmentgroup": "True",
         "hovertemplate": "Credit Utilization Ratio=%{y}<extra></extra>",
         "legendgroup": "",
         "marker": {
          "color": "#636efa"
         },
         "name": "",
         "notched": false,
         "offsetgroup": "",
         "orientation": "v",
         "showlegend": false,
         "type": "box",
         "x0": " ",
         "xaxis": "x",
         "y": [
          0.22,
          0.2,
          0.22,
          0.12,
          0.99,
          0.94,
          0.32,
          0.66,
          0.4,
          0.06,
          0.29,
          0.51,
          0.93,
          0.66,
          1,
          0.55,
          0.67,
          0.1,
          0.34,
          0.44,
          0.21,
          0.19,
          0.92,
          0.12,
          0.72,
          0.54,
          0.98,
          0.74,
          0.91,
          0.71,
          0.31,
          0.88,
          0.87,
          0.33,
          0.58,
          0.04,
          0.95,
          0.4,
          0.29,
          0.08,
          0.24,
          0.15,
          0.46,
          0.74,
          0.71,
          0.21,
          0.38,
          0.44,
          0.59,
          0.45,
          0.22,
          0.11,
          0.58,
          0.6,
          0.11,
          0.59,
          0.85,
          0.95,
          0.29,
          0.7,
          0.48,
          0.71,
          0.28,
          0.58,
          0.6,
          0.96,
          0.45,
          0.79,
          0.17,
          0.5,
          0.96,
          0.18,
          0.33,
          0.12,
          0.36,
          0.03,
          0.46,
          0.46,
          0.27,
          0.33,
          0.32,
          0.53,
          0.08,
          0.75,
          0.43,
          0.91,
          0.44,
          0.11,
          0.75,
          0.65,
          0.79,
          0.14,
          0.75,
          0.22,
          0.23,
          0.62,
          0.4,
          0.99,
          0,
          0.59,
          0.59,
          1,
          0.62,
          0.65,
          0.43,
          0.74,
          0.94,
          0.85,
          0.18,
          0.63,
          0.6,
          0.61,
          0.67,
          0.33,
          0.04,
          0.02,
          0.08,
          0.35,
          0.95,
          0.44,
          0.04,
          0.91,
          0.65,
          0.41,
          0.85,
          0.56,
          0.36,
          0.51,
          0.77,
          0.97,
          0.82,
          0.27,
          0.37,
          0.29,
          0.78,
          0.54,
          0.66,
          0.64,
          0.04,
          0.78,
          0.04,
          0.74,
          0.43,
          0.69,
          0.51,
          0.37,
          0.37,
          0.77,
          0.17,
          0.85,
          0.57,
          0.82,
          0.43,
          0.25,
          0.66,
          0.21,
          0.45,
          0.99,
          0.45,
          0.76,
          0.22,
          0.43,
          0.39,
          0.79,
          0.71,
          0.74,
          0.33,
          0.48,
          0.31,
          0.33,
          0.48,
          0.56,
          0.96,
          0.11,
          0.72,
          0.32,
          1,
          0.99,
          0.73,
          0.52,
          0.45,
          0.67,
          0.61,
          0.68,
          0.54,
          0.45,
          0.75,
          0.18,
          0.86,
          0.72,
          0.81,
          0.74,
          0.6,
          0.56,
          0.42,
          0.91,
          0.85,
          0.72,
          1,
          0.26,
          0.86,
          0.23,
          0.79,
          0.41,
          0.49,
          0.11,
          0.96,
          0.38,
          0.92,
          0.96,
          0.76,
          0.77,
          0.19,
          0.71,
          0.13,
          0.6,
          0.38,
          0.78,
          0.01,
          0.95,
          0.38,
          0.46,
          0.25,
          0.7,
          0.98,
          0.37,
          0.14,
          0.07,
          0.56,
          0.59,
          0.46,
          0.35,
          0.31,
          0.64,
          0.95,
          0.71,
          0.78,
          0.44,
          0.87,
          0.81,
          0.99,
          0.15,
          0.63,
          0.09,
          0.34,
          0.12,
          0.65,
          0.66,
          0.34,
          0.14,
          0.21,
          0.96,
          0.88,
          0.24,
          0.55,
          0.29,
          0.08,
          0.95,
          0.01,
          0.78,
          0.46,
          0.74,
          0.32,
          0.98,
          0.29,
          0.02,
          0.49,
          0.1,
          0.93,
          0.45,
          0.81,
          0.05,
          0.8,
          0.59,
          0.17,
          0.28,
          0.14,
          0.91,
          0.53,
          0.58,
          0.7,
          0.06,
          0.06,
          0.3,
          0.31,
          0.22,
          0.67,
          0,
          0.65,
          0.17,
          0.94,
          0.28,
          0.29,
          0.31,
          0.37,
          0.67,
          0.3,
          0.95,
          0.26,
          0.41,
          0.26,
          0.4,
          0.86,
          0.91,
          0.78,
          0.2,
          0.96,
          0.05,
          0.91,
          0.46,
          0.65,
          0.71,
          0.03,
          0.53,
          0.74,
          0.79,
          0.12,
          0.32,
          0.76,
          0.38,
          0.73,
          0.95,
          0.23,
          0.88,
          0.44,
          0.1,
          0.5,
          0.5,
          0.08,
          0.85,
          0.96,
          0.85,
          0.61,
          0.26,
          0.66,
          0.85,
          0.64,
          0.75,
          0.67,
          0.45,
          0.14,
          0.34,
          0.74,
          0.6,
          0.8,
          0.71,
          0.56,
          0.05,
          0.75,
          0.66,
          0.91,
          0.96,
          0.33,
          0.78,
          0.35,
          0.24,
          0.91,
          0.17,
          0.21,
          0.05,
          0.32,
          0.93,
          0.22,
          0.04,
          0.18,
          0.1,
          0.07,
          0.96,
          0.68,
          0.86,
          0.21,
          0.73,
          0.68,
          0.04,
          0.47,
          0.54,
          0.82,
          0.64,
          0.11,
          0.59,
          0.97,
          0.6,
          0.13,
          0.6,
          0.42,
          0.48,
          0.52,
          0.85,
          0.55,
          0.78,
          0.01,
          0.04,
          0.85,
          0.04,
          0.02,
          0.93,
          0.96,
          0.86,
          0.54,
          0.31,
          0.21,
          0.96,
          0.13,
          0.52,
          0.55,
          0.75,
          0.56,
          0.52,
          0.22,
          0.12,
          0.45,
          0.08,
          0.75,
          0.17,
          0.26,
          0.04,
          0.6,
          0.37,
          0.92,
          0.41,
          0.76,
          0.11,
          0.02,
          0.22,
          0.78,
          0.74,
          0.16,
          0.22,
          0.58,
          0.06,
          0.69,
          0.57,
          0.3,
          0.24,
          0.41,
          0.19,
          0.61,
          0.79,
          0.39,
          0.58,
          1,
          0.24,
          0.6,
          0.04,
          0.92,
          0.73,
          0.78,
          0.05,
          0.13,
          0.13,
          0.78,
          0.66,
          0.69,
          0.45,
          0.73,
          0.62,
          0.39,
          0.93,
          0.35,
          0.95,
          0.15,
          0.71,
          0.32,
          0.13,
          0.08,
          0.47,
          0.93,
          0.31,
          0.54,
          0.17,
          0.78,
          0.09,
          0.55,
          0.73,
          0.86,
          0.6,
          0.15,
          0.66,
          0.32,
          0.53,
          0.61,
          0.81,
          1,
          0.3,
          0.83,
          0.78,
          0.07,
          0.71,
          0.11,
          0.73,
          0.39,
          0.52,
          0.53,
          0.32,
          0.47,
          0.33,
          0.68,
          0.92,
          0.77,
          0.59,
          0.57,
          0.56,
          0.66,
          0.62,
          0.58,
          0.86,
          0.55,
          0.01,
          0.89,
          0.19,
          0.98,
          0.89,
          0.54,
          0.17,
          0.05,
          0.28,
          0.78,
          0.24,
          0.4,
          0.38,
          0.8,
          0.69,
          0.45,
          0.96,
          0.66,
          0.33,
          0.14,
          0.57,
          0.15,
          0.38,
          0.53,
          0.7,
          1,
          0.06,
          0.04,
          0.05,
          0.8,
          0.06,
          0.1,
          0.65,
          0.61,
          0.24,
          0.11,
          0.33,
          0.9,
          0.1,
          0.22,
          0.13,
          0.6,
          0.28,
          0.98,
          0.08,
          0.3,
          0.46,
          0.08,
          0.37,
          0.94,
          0.35,
          0.95,
          0.7,
          0.44,
          0.65,
          0.23,
          0.97,
          0.21,
          0.92,
          0.9,
          0.55,
          0.53,
          0.49,
          0.01,
          0.81,
          0.93,
          0.19,
          0.15,
          0.49,
          0.51,
          0.27,
          0.6,
          0.01,
          0.8,
          0.92,
          0.74,
          0.42,
          0.12,
          0.67,
          0.57,
          0.92,
          0.21,
          0.29,
          0.55,
          0.11,
          0.36,
          0.94,
          0.5,
          0.68,
          0.5,
          0.46,
          0.39,
          0.06,
          0.84,
          0.06,
          0.02,
          0.02,
          0.81,
          0.27,
          0.07,
          0.41,
          0.66,
          0.46,
          0.65,
          0.56,
          0.85,
          0.66,
          0.6,
          0.18,
          0.55,
          0.97,
          0.12,
          0.92,
          0.82,
          0.64,
          0.52,
          0.2,
          0.97,
          0.95,
          0.95,
          0.18,
          0.01,
          0.06,
          0.62,
          0.88,
          0.87,
          0.74,
          0.47,
          0.85,
          1,
          0.68,
          0.63,
          0.86,
          0.24,
          0.3,
          0.27,
          0.34,
          0.08,
          0.08,
          0.08,
          0.3,
          0.11,
          0.97,
          0.14,
          0.84,
          0.74,
          0.33,
          0.49,
          0.89,
          0.19,
          0.71,
          0.17,
          0.36,
          0.56,
          0.8,
          0.91,
          0.85,
          0.72,
          0.95,
          0.98,
          0.4,
          0.64,
          0.73,
          0.16,
          0.26,
          0.81,
          0.74,
          0.06,
          0.42,
          0.21,
          0.29,
          0.42,
          0.48,
          0.67,
          0.89,
          0.56,
          0.66,
          0.59,
          0.98,
          0.61,
          0.38,
          0.32,
          0.76,
          0.99,
          0.97,
          0.16,
          0.5,
          0.96,
          0.56,
          0.97,
          0.74,
          0.04,
          0.74,
          0.73,
          0.67,
          0.76,
          0.08,
          0.63,
          0.24,
          0.12,
          0.1,
          0.38,
          0.6,
          0.62,
          0.58,
          0.24,
          0.69,
          0.45,
          0.77,
          0.29,
          0.17,
          0.94,
          0.14,
          0.29,
          0.79,
          0.37,
          0.45,
          0.75,
          0.43,
          0.9,
          0.55,
          0.77,
          0.72,
          0.43,
          0.81,
          0.79,
          0.53,
          0.83,
          0.06,
          0.74,
          0.2,
          0.88,
          0.61,
          0.57,
          0.73,
          0.45,
          0.4,
          0.08,
          0.53,
          0.71,
          0.05,
          0.99,
          0.32,
          0.17,
          0.07,
          0.32,
          0.51,
          0.43,
          0.04,
          0.81,
          0.7,
          0.05,
          0.16,
          0.86,
          0.76,
          0.45,
          0.86,
          0.99,
          0.35,
          0.63,
          0.12,
          0.3,
          0.21,
          0.42,
          0.57,
          0.17,
          0.76,
          0.6,
          0.82,
          0.84,
          0.41,
          0.74,
          0.14,
          0.48,
          0.77,
          0.93,
          0.12,
          0.58,
          0.66,
          0.46,
          0.83,
          0.86,
          0.76,
          0.75,
          0.22,
          0.1,
          0.03,
          0.63,
          0.69,
          0.91,
          0.97,
          0.16,
          0.3,
          0.1,
          0.13,
          0.68,
          0.66,
          0.27,
          0.27,
          0.53,
          0.81,
          0.13,
          0.44,
          0.41,
          0.93,
          0.19,
          0.67,
          0.17,
          0.74,
          0.62,
          0.49,
          0.47,
          0.14,
          0.74,
          0.75,
          0.5,
          0.49,
          0.82,
          0.4,
          0.63,
          0.36,
          0.29,
          0.01,
          0.58,
          0.07,
          0.55,
          0.52,
          0.81,
          0.18,
          0.71,
          0.87,
          0.88,
          0.97,
          0.63,
          0.73,
          0.49,
          0.43,
          0.11,
          0.74,
          0.06,
          0,
          0.88,
          0.36,
          0.82,
          0.15,
          0.77,
          0.42,
          0.09,
          0.36,
          0.96,
          0.84,
          0.74,
          0.06,
          0.5,
          0.62,
          0.64,
          0.78,
          0.2,
          0.09,
          0.7,
          0.59,
          0.16,
          0.89,
          0.77,
          0.36,
          0.97,
          0.84,
          0.79,
          0.87,
          0.77,
          0.04,
          0.98,
          0.27,
          0.34,
          0.91,
          0.15,
          0.45,
          0.35,
          1,
          0.37,
          0.62,
          0.44,
          0.95,
          0.84,
          0.17,
          0.94,
          0.12,
          0.63,
          0.63,
          0.66,
          0.26,
          0.49,
          0.9,
          0.19,
          0.22,
          0.51,
          0.49,
          0.9,
          0.03,
          0.12,
          0.21,
          0.81,
          0.6,
          0.84,
          0.72,
          0.98,
          0.86,
          0.88,
          0.58,
          0.48,
          0.56,
          0.49,
          0.22,
          0.69,
          0.03,
          0.5,
          0.29,
          0.22,
          0.39,
          0.19,
          0.9,
          0.35,
          0.53,
          0.36,
          0.98,
          0.09,
          0.39,
          0.97,
          0.56,
          0.49,
          0.71,
          0.64,
          0.14,
          0.18,
          0.47,
          0.62,
          0.08,
          0.58,
          0.63,
          0.1,
          0.98,
          0.14,
          0.49,
          0.12,
          0.01,
          0.66,
          0.96,
          0.96,
          0.93,
          0.25,
          0.13,
          0.16,
          0.55,
          0.62,
          0.12,
          0.07,
          0.47,
          0.91,
          0.74,
          0.35,
          0.48,
          0.19,
          0.08,
          0.4,
          0.3,
          0.71,
          0.82,
          0.38,
          0.21,
          0.81,
          0.93,
          0.91,
          0.27,
          0.44,
          0.44,
          0.11,
          0.02,
          0.2,
          0.98,
          0.91,
          0.03,
          0.8,
          0.8,
          0.56,
          0.67,
          0.49,
          0.1,
          0.4,
          0.74,
          0.77,
          0.18,
          0.32,
          0.17
         ],
         "y0": " ",
         "yaxis": "y"
        }
       ],
       "layout": {
        "boxmode": "group",
        "legend": {
         "tracegroupgap": 0
        },
        "template": {
         "data": {
          "bar": [
           {
            "error_x": {
             "color": "#2a3f5f"
            },
            "error_y": {
             "color": "#2a3f5f"
            },
            "marker": {
             "line": {
              "color": "white",
              "width": 0.5
             },
             "pattern": {
              "fillmode": "overlay",
              "size": 10,
              "solidity": 0.2
             }
            },
            "type": "bar"
           }
          ],
          "barpolar": [
           {
            "marker": {
             "line": {
              "color": "white",
              "width": 0.5
             },
             "pattern": {
              "fillmode": "overlay",
              "size": 10,
              "solidity": 0.2
             }
            },
            "type": "barpolar"
           }
          ],
          "carpet": [
           {
            "aaxis": {
             "endlinecolor": "#2a3f5f",
             "gridcolor": "#C8D4E3",
             "linecolor": "#C8D4E3",
             "minorgridcolor": "#C8D4E3",
             "startlinecolor": "#2a3f5f"
            },
            "baxis": {
             "endlinecolor": "#2a3f5f",
             "gridcolor": "#C8D4E3",
             "linecolor": "#C8D4E3",
             "minorgridcolor": "#C8D4E3",
             "startlinecolor": "#2a3f5f"
            },
            "type": "carpet"
           }
          ],
          "choropleth": [
           {
            "colorbar": {
             "outlinewidth": 0,
             "ticks": ""
            },
            "type": "choropleth"
           }
          ],
          "contour": [
           {
            "colorbar": {
             "outlinewidth": 0,
             "ticks": ""
            },
            "colorscale": [
             [
              0,
              "#0d0887"
             ],
             [
              0.1111111111111111,
              "#46039f"
             ],
             [
              0.2222222222222222,
              "#7201a8"
             ],
             [
              0.3333333333333333,
              "#9c179e"
             ],
             [
              0.4444444444444444,
              "#bd3786"
             ],
             [
              0.5555555555555556,
              "#d8576b"
             ],
             [
              0.6666666666666666,
              "#ed7953"
             ],
             [
              0.7777777777777778,
              "#fb9f3a"
             ],
             [
              0.8888888888888888,
              "#fdca26"
             ],
             [
              1,
              "#f0f921"
             ]
            ],
            "type": "contour"
           }
          ],
          "contourcarpet": [
           {
            "colorbar": {
             "outlinewidth": 0,
             "ticks": ""
            },
            "type": "contourcarpet"
           }
          ],
          "heatmap": [
           {
            "colorbar": {
             "outlinewidth": 0,
             "ticks": ""
            },
            "colorscale": [
             [
              0,
              "#0d0887"
             ],
             [
              0.1111111111111111,
              "#46039f"
             ],
             [
              0.2222222222222222,
              "#7201a8"
             ],
             [
              0.3333333333333333,
              "#9c179e"
             ],
             [
              0.4444444444444444,
              "#bd3786"
             ],
             [
              0.5555555555555556,
              "#d8576b"
             ],
             [
              0.6666666666666666,
              "#ed7953"
             ],
             [
              0.7777777777777778,
              "#fb9f3a"
             ],
             [
              0.8888888888888888,
              "#fdca26"
             ],
             [
              1,
              "#f0f921"
             ]
            ],
            "type": "heatmap"
           }
          ],
          "heatmapgl": [
           {
            "colorbar": {
             "outlinewidth": 0,
             "ticks": ""
            },
            "colorscale": [
             [
              0,
              "#0d0887"
             ],
             [
              0.1111111111111111,
              "#46039f"
             ],
             [
              0.2222222222222222,
              "#7201a8"
             ],
             [
              0.3333333333333333,
              "#9c179e"
             ],
             [
              0.4444444444444444,
              "#bd3786"
             ],
             [
              0.5555555555555556,
              "#d8576b"
             ],
             [
              0.6666666666666666,
              "#ed7953"
             ],
             [
              0.7777777777777778,
              "#fb9f3a"
             ],
             [
              0.8888888888888888,
              "#fdca26"
             ],
             [
              1,
              "#f0f921"
             ]
            ],
            "type": "heatmapgl"
           }
          ],
          "histogram": [
           {
            "marker": {
             "pattern": {
              "fillmode": "overlay",
              "size": 10,
              "solidity": 0.2
             }
            },
            "type": "histogram"
           }
          ],
          "histogram2d": [
           {
            "colorbar": {
             "outlinewidth": 0,
             "ticks": ""
            },
            "colorscale": [
             [
              0,
              "#0d0887"
             ],
             [
              0.1111111111111111,
              "#46039f"
             ],
             [
              0.2222222222222222,
              "#7201a8"
             ],
             [
              0.3333333333333333,
              "#9c179e"
             ],
             [
              0.4444444444444444,
              "#bd3786"
             ],
             [
              0.5555555555555556,
              "#d8576b"
             ],
             [
              0.6666666666666666,
              "#ed7953"
             ],
             [
              0.7777777777777778,
              "#fb9f3a"
             ],
             [
              0.8888888888888888,
              "#fdca26"
             ],
             [
              1,
              "#f0f921"
             ]
            ],
            "type": "histogram2d"
           }
          ],
          "histogram2dcontour": [
           {
            "colorbar": {
             "outlinewidth": 0,
             "ticks": ""
            },
            "colorscale": [
             [
              0,
              "#0d0887"
             ],
             [
              0.1111111111111111,
              "#46039f"
             ],
             [
              0.2222222222222222,
              "#7201a8"
             ],
             [
              0.3333333333333333,
              "#9c179e"
             ],
             [
              0.4444444444444444,
              "#bd3786"
             ],
             [
              0.5555555555555556,
              "#d8576b"
             ],
             [
              0.6666666666666666,
              "#ed7953"
             ],
             [
              0.7777777777777778,
              "#fb9f3a"
             ],
             [
              0.8888888888888888,
              "#fdca26"
             ],
             [
              1,
              "#f0f921"
             ]
            ],
            "type": "histogram2dcontour"
           }
          ],
          "mesh3d": [
           {
            "colorbar": {
             "outlinewidth": 0,
             "ticks": ""
            },
            "type": "mesh3d"
           }
          ],
          "parcoords": [
           {
            "line": {
             "colorbar": {
              "outlinewidth": 0,
              "ticks": ""
             }
            },
            "type": "parcoords"
           }
          ],
          "pie": [
           {
            "automargin": true,
            "type": "pie"
           }
          ],
          "scatter": [
           {
            "fillpattern": {
             "fillmode": "overlay",
             "size": 10,
             "solidity": 0.2
            },
            "type": "scatter"
           }
          ],
          "scatter3d": [
           {
            "line": {
             "colorbar": {
              "outlinewidth": 0,
              "ticks": ""
             }
            },
            "marker": {
             "colorbar": {
              "outlinewidth": 0,
              "ticks": ""
             }
            },
            "type": "scatter3d"
           }
          ],
          "scattercarpet": [
           {
            "marker": {
             "colorbar": {
              "outlinewidth": 0,
              "ticks": ""
             }
            },
            "type": "scattercarpet"
           }
          ],
          "scattergeo": [
           {
            "marker": {
             "colorbar": {
              "outlinewidth": 0,
              "ticks": ""
             }
            },
            "type": "scattergeo"
           }
          ],
          "scattergl": [
           {
            "marker": {
             "colorbar": {
              "outlinewidth": 0,
              "ticks": ""
             }
            },
            "type": "scattergl"
           }
          ],
          "scattermapbox": [
           {
            "marker": {
             "colorbar": {
              "outlinewidth": 0,
              "ticks": ""
             }
            },
            "type": "scattermapbox"
           }
          ],
          "scatterpolar": [
           {
            "marker": {
             "colorbar": {
              "outlinewidth": 0,
              "ticks": ""
             }
            },
            "type": "scatterpolar"
           }
          ],
          "scatterpolargl": [
           {
            "marker": {
             "colorbar": {
              "outlinewidth": 0,
              "ticks": ""
             }
            },
            "type": "scatterpolargl"
           }
          ],
          "scatterternary": [
           {
            "marker": {
             "colorbar": {
              "outlinewidth": 0,
              "ticks": ""
             }
            },
            "type": "scatterternary"
           }
          ],
          "surface": [
           {
            "colorbar": {
             "outlinewidth": 0,
             "ticks": ""
            },
            "colorscale": [
             [
              0,
              "#0d0887"
             ],
             [
              0.1111111111111111,
              "#46039f"
             ],
             [
              0.2222222222222222,
              "#7201a8"
             ],
             [
              0.3333333333333333,
              "#9c179e"
             ],
             [
              0.4444444444444444,
              "#bd3786"
             ],
             [
              0.5555555555555556,
              "#d8576b"
             ],
             [
              0.6666666666666666,
              "#ed7953"
             ],
             [
              0.7777777777777778,
              "#fb9f3a"
             ],
             [
              0.8888888888888888,
              "#fdca26"
             ],
             [
              1,
              "#f0f921"
             ]
            ],
            "type": "surface"
           }
          ],
          "table": [
           {
            "cells": {
             "fill": {
              "color": "#EBF0F8"
             },
             "line": {
              "color": "white"
             }
            },
            "header": {
             "fill": {
              "color": "#C8D4E3"
             },
             "line": {
              "color": "white"
             }
            },
            "type": "table"
           }
          ]
         },
         "layout": {
          "annotationdefaults": {
           "arrowcolor": "#2a3f5f",
           "arrowhead": 0,
           "arrowwidth": 1
          },
          "autotypenumbers": "strict",
          "coloraxis": {
           "colorbar": {
            "outlinewidth": 0,
            "ticks": ""
           }
          },
          "colorscale": {
           "diverging": [
            [
             0,
             "#8e0152"
            ],
            [
             0.1,
             "#c51b7d"
            ],
            [
             0.2,
             "#de77ae"
            ],
            [
             0.3,
             "#f1b6da"
            ],
            [
             0.4,
             "#fde0ef"
            ],
            [
             0.5,
             "#f7f7f7"
            ],
            [
             0.6,
             "#e6f5d0"
            ],
            [
             0.7,
             "#b8e186"
            ],
            [
             0.8,
             "#7fbc41"
            ],
            [
             0.9,
             "#4d9221"
            ],
            [
             1,
             "#276419"
            ]
           ],
           "sequential": [
            [
             0,
             "#0d0887"
            ],
            [
             0.1111111111111111,
             "#46039f"
            ],
            [
             0.2222222222222222,
             "#7201a8"
            ],
            [
             0.3333333333333333,
             "#9c179e"
            ],
            [
             0.4444444444444444,
             "#bd3786"
            ],
            [
             0.5555555555555556,
             "#d8576b"
            ],
            [
             0.6666666666666666,
             "#ed7953"
            ],
            [
             0.7777777777777778,
             "#fb9f3a"
            ],
            [
             0.8888888888888888,
             "#fdca26"
            ],
            [
             1,
             "#f0f921"
            ]
           ],
           "sequentialminus": [
            [
             0,
             "#0d0887"
            ],
            [
             0.1111111111111111,
             "#46039f"
            ],
            [
             0.2222222222222222,
             "#7201a8"
            ],
            [
             0.3333333333333333,
             "#9c179e"
            ],
            [
             0.4444444444444444,
             "#bd3786"
            ],
            [
             0.5555555555555556,
             "#d8576b"
            ],
            [
             0.6666666666666666,
             "#ed7953"
            ],
            [
             0.7777777777777778,
             "#fb9f3a"
            ],
            [
             0.8888888888888888,
             "#fdca26"
            ],
            [
             1,
             "#f0f921"
            ]
           ]
          },
          "colorway": [
           "#636efa",
           "#EF553B",
           "#00cc96",
           "#ab63fa",
           "#FFA15A",
           "#19d3f3",
           "#FF6692",
           "#B6E880",
           "#FF97FF",
           "#FECB52"
          ],
          "font": {
           "color": "#2a3f5f"
          },
          "geo": {
           "bgcolor": "white",
           "lakecolor": "white",
           "landcolor": "white",
           "showlakes": true,
           "showland": true,
           "subunitcolor": "#C8D4E3"
          },
          "hoverlabel": {
           "align": "left"
          },
          "hovermode": "closest",
          "mapbox": {
           "style": "light"
          },
          "paper_bgcolor": "white",
          "plot_bgcolor": "white",
          "polar": {
           "angularaxis": {
            "gridcolor": "#EBF0F8",
            "linecolor": "#EBF0F8",
            "ticks": ""
           },
           "bgcolor": "white",
           "radialaxis": {
            "gridcolor": "#EBF0F8",
            "linecolor": "#EBF0F8",
            "ticks": ""
           }
          },
          "scene": {
           "xaxis": {
            "backgroundcolor": "white",
            "gridcolor": "#DFE8F3",
            "gridwidth": 2,
            "linecolor": "#EBF0F8",
            "showbackground": true,
            "ticks": "",
            "zerolinecolor": "#EBF0F8"
           },
           "yaxis": {
            "backgroundcolor": "white",
            "gridcolor": "#DFE8F3",
            "gridwidth": 2,
            "linecolor": "#EBF0F8",
            "showbackground": true,
            "ticks": "",
            "zerolinecolor": "#EBF0F8"
           },
           "zaxis": {
            "backgroundcolor": "white",
            "gridcolor": "#DFE8F3",
            "gridwidth": 2,
            "linecolor": "#EBF0F8",
            "showbackground": true,
            "ticks": "",
            "zerolinecolor": "#EBF0F8"
           }
          },
          "shapedefaults": {
           "line": {
            "color": "#2a3f5f"
           }
          },
          "ternary": {
           "aaxis": {
            "gridcolor": "#DFE8F3",
            "linecolor": "#A2B1C6",
            "ticks": ""
           },
           "baxis": {
            "gridcolor": "#DFE8F3",
            "linecolor": "#A2B1C6",
            "ticks": ""
           },
           "bgcolor": "white",
           "caxis": {
            "gridcolor": "#DFE8F3",
            "linecolor": "#A2B1C6",
            "ticks": ""
           }
          },
          "title": {
           "x": 0.05
          },
          "xaxis": {
           "automargin": true,
           "gridcolor": "#EBF0F8",
           "linecolor": "#EBF0F8",
           "ticks": "",
           "title": {
            "standoff": 15
           },
           "zerolinecolor": "#EBF0F8",
           "zerolinewidth": 2
          },
          "yaxis": {
           "automargin": true,
           "gridcolor": "#EBF0F8",
           "linecolor": "#EBF0F8",
           "ticks": "",
           "title": {
            "standoff": 15
           },
           "zerolinecolor": "#EBF0F8",
           "zerolinewidth": 2
          }
         }
        },
        "title": {
         "text": "Credit Utilization Ratio Distribution"
        },
        "xaxis": {
         "anchor": "y",
         "domain": [
          0,
          1
         ]
        },
        "yaxis": {
         "anchor": "x",
         "domain": [
          0,
          1
         ],
         "title": {
          "text": "Credit Utilization Ratio"
         }
        }
       }
      }
     },
     "metadata": {},
     "output_type": "display_data"
    }
   ],
   "source": [
    "credit_utilization_fig = px.box(data, y='Credit Utilization Ratio',title='Credit Utilization Ratio Distribution')\n",
    "credit_utilization_fig.show()"
   ]
  },
  {
   "cell_type": "markdown",
   "metadata": {},
   "source": [
    "Distribution of the loan amount in the data"
   ]
  },
  {
   "cell_type": "code",
   "execution_count": 210,
   "metadata": {},
   "outputs": [
    {
     "data": {
      "application/vnd.plotly.v1+json": {
       "config": {
        "plotlyServerURL": "https://plot.ly"
       },
       "data": [
        {
         "alignmentgroup": "True",
         "bingroup": "x",
         "hovertemplate": "Loan Amount=%{x}<br>count=%{y}<extra></extra>",
         "legendgroup": "",
         "marker": {
          "color": "#636efa",
          "pattern": {
           "shape": ""
          }
         },
         "name": "",
         "nbinsx": 20,
         "offsetgroup": "",
         "orientation": "v",
         "showlegend": false,
         "type": "histogram",
         "x": [
          4675000,
          3619000,
          957000,
          4731000,
          3289000,
          1536000,
          2021000,
          1298000,
          4374000,
          4026000,
          127000,
          3237000,
          586000,
          2323000,
          3775000,
          160000,
          1210000,
          3653000,
          1707000,
          524000,
          1481000,
          4959000,
          577000,
          4956000,
          3420000,
          1211000,
          166000,
          2464000,
          3653000,
          1038000,
          1862000,
          2887000,
          1774000,
          3046000,
          1009000,
          4461000,
          2733000,
          1168000,
          2803000,
          2912000,
          711000,
          994000,
          4789000,
          2274000,
          2917000,
          2876000,
          2605000,
          2920000,
          804000,
          2434000,
          360000,
          2250000,
          3248000,
          445000,
          1383000,
          827000,
          1879000,
          3509000,
          2669000,
          2209000,
          4501000,
          482000,
          2958000,
          1373000,
          4484000,
          1870000,
          2543000,
          1759000,
          4875000,
          775000,
          274000,
          4225000,
          2518000,
          4417000,
          3808000,
          2107000,
          4281000,
          1699000,
          2604000,
          3264000,
          3339000,
          1309000,
          3288000,
          943000,
          3557000,
          3968000,
          2609000,
          3111000,
          3055000,
          380000,
          4309000,
          4775000,
          3296000,
          2635000,
          3360000,
          3208000,
          3914000,
          1821000,
          4632000,
          2326000,
          1958000,
          1006000,
          2828000,
          1904000,
          3240000,
          603000,
          2513000,
          3183000,
          2951000,
          4550000,
          1420000,
          1908000,
          3416000,
          3713000,
          753000,
          3960000,
          1959000,
          2082000,
          3992000,
          2640000,
          744000,
          2797000,
          3772000,
          539000,
          2896000,
          1172000,
          2967000,
          417000,
          467000,
          1728000,
          2197000,
          3770000,
          3245000,
          4035000,
          1122000,
          4924000,
          3125000,
          236000,
          1569000,
          2562000,
          2500000,
          1667000,
          2564000,
          455000,
          361000,
          372000,
          2194000,
          1900000,
          836000,
          3132000,
          1189000,
          2759000,
          4446000,
          2402000,
          2932000,
          354000,
          1426000,
          1197000,
          525000,
          4016000,
          524000,
          3483000,
          2446000,
          3167000,
          3933000,
          2922000,
          4996000,
          3289000,
          1810000,
          4508000,
          4782000,
          2514000,
          3811000,
          2107000,
          143000,
          850000,
          1663000,
          4243000,
          1662000,
          900000,
          2633000,
          1440000,
          4111000,
          4508000,
          4465000,
          3932000,
          480000,
          3241000,
          4607000,
          3282000,
          231000,
          2066000,
          2087000,
          3684000,
          3258000,
          3594000,
          1698000,
          4121000,
          1816000,
          4009000,
          236000,
          4288000,
          4685000,
          670000,
          4728000,
          1349000,
          2140000,
          179000,
          4855000,
          3441000,
          4301000,
          2838000,
          819000,
          3368000,
          3865000,
          204000,
          2626000,
          2169000,
          3287000,
          2736000,
          3162000,
          3778000,
          3262000,
          813000,
          2882000,
          4298000,
          3920000,
          289000,
          3498000,
          1902000,
          4527000,
          1547000,
          1286000,
          4755000,
          1737000,
          1503000,
          4711000,
          959000,
          1861000,
          3043000,
          1237000,
          3394000,
          3479000,
          631000,
          4849000,
          3930000,
          3219000,
          109000,
          1209000,
          1298000,
          3554000,
          2179000,
          4374000,
          696000,
          712000,
          3585000,
          4600000,
          2151000,
          1474000,
          346000,
          4291000,
          203000,
          2375000,
          4001000,
          2135000,
          180000,
          2447000,
          728000,
          2768000,
          1113000,
          438000,
          1559000,
          200000,
          641000,
          3413000,
          2162000,
          2190000,
          3358000,
          2053000,
          1557000,
          1292000,
          267000,
          1288000,
          3765000,
          1168000,
          4262000,
          3847000,
          3620000,
          1464000,
          729000,
          3742000,
          516000,
          4129000,
          4203000,
          2309000,
          2009000,
          4312000,
          1717000,
          830000,
          4988000,
          4898000,
          513000,
          2012000,
          4433000,
          343000,
          4337000,
          4725000,
          1957000,
          171000,
          2635000,
          2604000,
          1680000,
          2276000,
          3107000,
          1636000,
          2286000,
          4545000,
          778000,
          1429000,
          1773000,
          2718000,
          4497000,
          1872000,
          508000,
          2220000,
          1251000,
          2306000,
          2873000,
          2247000,
          3674000,
          3226000,
          1048000,
          342000,
          4502000,
          3000000,
          728000,
          761000,
          3484000,
          555000,
          118000,
          997000,
          490000,
          4151000,
          3327000,
          4397000,
          1213000,
          3602000,
          2340000,
          3897000,
          3594000,
          4685000,
          1101000,
          435000,
          1945000,
          2877000,
          2145000,
          4414000,
          4573000,
          705000,
          691000,
          4587000,
          2628000,
          4678000,
          3406000,
          1730000,
          4187000,
          4176000,
          2727000,
          3983000,
          1748000,
          2286000,
          3998000,
          1278000,
          2044000,
          435000,
          3275000,
          4144000,
          1668000,
          4118000,
          429000,
          2478000,
          4385000,
          4485000,
          4322000,
          3698000,
          2476000,
          3246000,
          3167000,
          4946000,
          1899000,
          4057000,
          4471000,
          1734000,
          1421000,
          856000,
          2290000,
          2198000,
          2263000,
          2183000,
          2357000,
          3087000,
          2746000,
          4112000,
          199000,
          4054000,
          2446000,
          1323000,
          4182000,
          908000,
          1769000,
          2504000,
          2730000,
          3573000,
          635000,
          3370000,
          4094000,
          3749000,
          2647000,
          2613000,
          3411000,
          2488000,
          3898000,
          2358000,
          4281000,
          4044000,
          3966000,
          4710000,
          3742000,
          1400000,
          4599000,
          2203000,
          2815000,
          3180000,
          4621000,
          907000,
          3360000,
          1851000,
          2330000,
          2187000,
          3683000,
          2744000,
          3246000,
          2632000,
          1261000,
          2824000,
          758000,
          2657000,
          3838000,
          4894000,
          4792000,
          852000,
          1520000,
          1043000,
          1853000,
          3259000,
          170000,
          936000,
          2175000,
          2081000,
          2967000,
          2862000,
          3708000,
          2773000,
          2339000,
          1225000,
          1998000,
          4210000,
          4598000,
          4778000,
          558000,
          1235000,
          1136000,
          2912000,
          1616000,
          4239000,
          2433000,
          2604000,
          4901000,
          3685000,
          1854000,
          4507000,
          2537000,
          2900000,
          151000,
          4080000,
          4471000,
          361000,
          2377000,
          1795000,
          2846000,
          134000,
          289000,
          1087000,
          4916000,
          989000,
          759000,
          4047000,
          3902000,
          1169000,
          2144000,
          2081000,
          2684000,
          1265000,
          1825000,
          3491000,
          3721000,
          4084000,
          1308000,
          3671000,
          4948000,
          3192000,
          4063000,
          3909000,
          2651000,
          329000,
          1036000,
          1617000,
          1869000,
          4567000,
          444000,
          3381000,
          4694000,
          2213000,
          1190000,
          2418000,
          2320000,
          1932000,
          257000,
          4920000,
          1117000,
          3956000,
          4181000,
          3361000,
          3502000,
          260000,
          3927000,
          3472000,
          3583000,
          3255000,
          4093000,
          1610000,
          903000,
          4273000,
          463000,
          4963000,
          1777000,
          1594000,
          600000,
          1526000,
          2169000,
          4330000,
          3511000,
          4885000,
          693000,
          4418000,
          662000,
          1991000,
          4518000,
          3941000,
          1813000,
          2545000,
          4547000,
          497000,
          1453000,
          2759000,
          1320000,
          1334000,
          3469000,
          1742000,
          4391000,
          2684000,
          1271000,
          842000,
          4746000,
          1142000,
          3135000,
          2277000,
          509000,
          2806000,
          3229000,
          4509000,
          2714000,
          1180000,
          752000,
          656000,
          1321000,
          217000,
          3174000,
          1047000,
          790000,
          1684000,
          813000,
          1780000,
          3493000,
          349000,
          908000,
          4634000,
          4770000,
          4872000,
          3269000,
          326000,
          2068000,
          3966000,
          4884000,
          1498000,
          3472000,
          3683000,
          4423000,
          2348000,
          2619000,
          2081000,
          410000,
          267000,
          1279000,
          2862000,
          3526000,
          2430000,
          559000,
          3359000,
          3508000,
          4347000,
          1242000,
          3542000,
          1626000,
          1516000,
          4511000,
          2516000,
          2534000,
          3435000,
          4050000,
          3211000,
          2762000,
          3708000,
          4761000,
          3761000,
          3033000,
          4888000,
          3407000,
          149000,
          2811000,
          848000,
          1201000,
          857000,
          1401000,
          1347000,
          1003000,
          1056000,
          3874000,
          149000,
          2640000,
          233000,
          822000,
          4055000,
          3587000,
          4193000,
          1081000,
          2047000,
          4062000,
          4229000,
          1430000,
          2955000,
          988000,
          3804000,
          155000,
          2159000,
          350000,
          616000,
          2653000,
          3809000,
          4466000,
          2270000,
          1139000,
          4574000,
          4432000,
          1902000,
          3597000,
          1416000,
          1088000,
          1908000,
          3895000,
          849000,
          843000,
          4645000,
          259000,
          2952000,
          2494000,
          328000,
          1799000,
          649000,
          2655000,
          4609000,
          4145000,
          687000,
          2292000,
          1222000,
          3395000,
          3103000,
          3102000,
          1854000,
          4841000,
          294000,
          2810000,
          494000,
          1993000,
          4126000,
          2898000,
          3266000,
          538000,
          950000,
          1724000,
          1255000,
          1337000,
          3641000,
          2878000,
          1941000,
          1822000,
          3119000,
          1598000,
          2115000,
          1708000,
          2173000,
          1505000,
          4251000,
          1934000,
          4452000,
          2759000,
          4402000,
          2862000,
          3487000,
          2061000,
          1858000,
          1992000,
          2870000,
          1011000,
          325000,
          1541000,
          1190000,
          2411000,
          4933000,
          2190000,
          2111000,
          3550000,
          4345000,
          417000,
          3772000,
          751000,
          1913000,
          3266000,
          630000,
          1837000,
          201000,
          2629000,
          1215000,
          4323000,
          766000,
          3822000,
          2021000,
          3300000,
          1153000,
          3657000,
          3116000,
          2619000,
          4134000,
          4223000,
          426000,
          3189000,
          1341000,
          3436000,
          2684000,
          2685000,
          1531000,
          1786000,
          3269000,
          2332000,
          4176000,
          3275000,
          1131000,
          2803000,
          3690000,
          4333000,
          2141000,
          4096000,
          642000,
          848000,
          619000,
          994000,
          1324000,
          3260000,
          2609000,
          4528000,
          2651000,
          177000,
          540000,
          4199000,
          197000,
          1619000,
          3500000,
          1609000,
          394000,
          4580000,
          408000,
          724000,
          4595000,
          1476000,
          4700000,
          1964000,
          2466000,
          4728000,
          2343000,
          4313000,
          767000,
          4367000,
          3665000,
          1988000,
          2195000,
          1924000,
          3069000,
          4414000,
          3158000,
          149000,
          1769000,
          4310000,
          537000,
          2178000,
          965000,
          1326000,
          2920000,
          2172000,
          945000,
          2878000,
          1195000,
          2976000,
          3014000,
          1500000,
          4407000,
          1927000,
          1535000,
          1861000,
          3525000,
          231000,
          3809000,
          1344000,
          2466000,
          941000,
          1209000,
          1797000,
          4660000,
          2001000,
          1522000,
          1368000,
          2374000,
          665000,
          4246000,
          4578000,
          1805000,
          2572000,
          3266000,
          1332000,
          2612000,
          1556000,
          3654000,
          1641000,
          559000,
          2109000,
          2358000,
          3092000,
          3517000,
          1452000,
          4490000,
          2106000,
          831000,
          1603000,
          3149000,
          800000,
          167000,
          3027000,
          2858000,
          1321000,
          1874000,
          3887000,
          1480000,
          183000,
          4290000,
          406000,
          221000,
          3051000,
          1464000,
          971000,
          2532000,
          3564000,
          135000,
          2129000,
          3482000,
          2283000,
          333000,
          1665000,
          1306000,
          749000,
          1864000,
          364000,
          293000,
          2345000,
          2198000,
          2379000,
          1503000,
          3702000,
          2859000,
          4806000,
          517000,
          2083000,
          4575000,
          3001000,
          3237000,
          1999000,
          503000,
          2779000,
          2800000,
          754000,
          4526000,
          3895000,
          1336000,
          3897000,
          546000,
          2415000,
          4925000,
          4254000,
          4099000,
          4081000,
          108000,
          888000,
          2626000,
          3096000,
          2398000,
          2695000,
          1024000,
          4184000,
          3055000,
          3724000,
          923000,
          2197000,
          906000,
          332000,
          549000,
          2897000,
          1820000,
          4168000,
          4074000,
          2283000,
          1533000,
          3382000,
          4970000,
          4300000,
          2946000,
          4932000,
          3487000,
          2042000,
          3804000,
          4768000,
          822000,
          1654000,
          663000,
          4634000,
          4443000,
          371000,
          4240000,
          4116000,
          2011000,
          1151000,
          2098000,
          1615000,
          744000,
          2555000,
          2447000,
          2072000,
          2441000,
          4567000,
          329000,
          3988000,
          818000,
          204000,
          3109000,
          2277000,
          4351000,
          475000,
          3589000,
          4048000,
          1874000,
          3297000,
          4499000,
          3924000,
          4161000,
          2283000,
          1609000,
          301000,
          2561000,
          3530000,
          1377000,
          2443000,
          1301000,
          4182000
         ],
         "xaxis": "x",
         "yaxis": "y"
        }
       ],
       "layout": {
        "barmode": "relative",
        "legend": {
         "tracegroupgap": 0
        },
        "template": {
         "data": {
          "bar": [
           {
            "error_x": {
             "color": "#2a3f5f"
            },
            "error_y": {
             "color": "#2a3f5f"
            },
            "marker": {
             "line": {
              "color": "white",
              "width": 0.5
             },
             "pattern": {
              "fillmode": "overlay",
              "size": 10,
              "solidity": 0.2
             }
            },
            "type": "bar"
           }
          ],
          "barpolar": [
           {
            "marker": {
             "line": {
              "color": "white",
              "width": 0.5
             },
             "pattern": {
              "fillmode": "overlay",
              "size": 10,
              "solidity": 0.2
             }
            },
            "type": "barpolar"
           }
          ],
          "carpet": [
           {
            "aaxis": {
             "endlinecolor": "#2a3f5f",
             "gridcolor": "#C8D4E3",
             "linecolor": "#C8D4E3",
             "minorgridcolor": "#C8D4E3",
             "startlinecolor": "#2a3f5f"
            },
            "baxis": {
             "endlinecolor": "#2a3f5f",
             "gridcolor": "#C8D4E3",
             "linecolor": "#C8D4E3",
             "minorgridcolor": "#C8D4E3",
             "startlinecolor": "#2a3f5f"
            },
            "type": "carpet"
           }
          ],
          "choropleth": [
           {
            "colorbar": {
             "outlinewidth": 0,
             "ticks": ""
            },
            "type": "choropleth"
           }
          ],
          "contour": [
           {
            "colorbar": {
             "outlinewidth": 0,
             "ticks": ""
            },
            "colorscale": [
             [
              0,
              "#0d0887"
             ],
             [
              0.1111111111111111,
              "#46039f"
             ],
             [
              0.2222222222222222,
              "#7201a8"
             ],
             [
              0.3333333333333333,
              "#9c179e"
             ],
             [
              0.4444444444444444,
              "#bd3786"
             ],
             [
              0.5555555555555556,
              "#d8576b"
             ],
             [
              0.6666666666666666,
              "#ed7953"
             ],
             [
              0.7777777777777778,
              "#fb9f3a"
             ],
             [
              0.8888888888888888,
              "#fdca26"
             ],
             [
              1,
              "#f0f921"
             ]
            ],
            "type": "contour"
           }
          ],
          "contourcarpet": [
           {
            "colorbar": {
             "outlinewidth": 0,
             "ticks": ""
            },
            "type": "contourcarpet"
           }
          ],
          "heatmap": [
           {
            "colorbar": {
             "outlinewidth": 0,
             "ticks": ""
            },
            "colorscale": [
             [
              0,
              "#0d0887"
             ],
             [
              0.1111111111111111,
              "#46039f"
             ],
             [
              0.2222222222222222,
              "#7201a8"
             ],
             [
              0.3333333333333333,
              "#9c179e"
             ],
             [
              0.4444444444444444,
              "#bd3786"
             ],
             [
              0.5555555555555556,
              "#d8576b"
             ],
             [
              0.6666666666666666,
              "#ed7953"
             ],
             [
              0.7777777777777778,
              "#fb9f3a"
             ],
             [
              0.8888888888888888,
              "#fdca26"
             ],
             [
              1,
              "#f0f921"
             ]
            ],
            "type": "heatmap"
           }
          ],
          "heatmapgl": [
           {
            "colorbar": {
             "outlinewidth": 0,
             "ticks": ""
            },
            "colorscale": [
             [
              0,
              "#0d0887"
             ],
             [
              0.1111111111111111,
              "#46039f"
             ],
             [
              0.2222222222222222,
              "#7201a8"
             ],
             [
              0.3333333333333333,
              "#9c179e"
             ],
             [
              0.4444444444444444,
              "#bd3786"
             ],
             [
              0.5555555555555556,
              "#d8576b"
             ],
             [
              0.6666666666666666,
              "#ed7953"
             ],
             [
              0.7777777777777778,
              "#fb9f3a"
             ],
             [
              0.8888888888888888,
              "#fdca26"
             ],
             [
              1,
              "#f0f921"
             ]
            ],
            "type": "heatmapgl"
           }
          ],
          "histogram": [
           {
            "marker": {
             "pattern": {
              "fillmode": "overlay",
              "size": 10,
              "solidity": 0.2
             }
            },
            "type": "histogram"
           }
          ],
          "histogram2d": [
           {
            "colorbar": {
             "outlinewidth": 0,
             "ticks": ""
            },
            "colorscale": [
             [
              0,
              "#0d0887"
             ],
             [
              0.1111111111111111,
              "#46039f"
             ],
             [
              0.2222222222222222,
              "#7201a8"
             ],
             [
              0.3333333333333333,
              "#9c179e"
             ],
             [
              0.4444444444444444,
              "#bd3786"
             ],
             [
              0.5555555555555556,
              "#d8576b"
             ],
             [
              0.6666666666666666,
              "#ed7953"
             ],
             [
              0.7777777777777778,
              "#fb9f3a"
             ],
             [
              0.8888888888888888,
              "#fdca26"
             ],
             [
              1,
              "#f0f921"
             ]
            ],
            "type": "histogram2d"
           }
          ],
          "histogram2dcontour": [
           {
            "colorbar": {
             "outlinewidth": 0,
             "ticks": ""
            },
            "colorscale": [
             [
              0,
              "#0d0887"
             ],
             [
              0.1111111111111111,
              "#46039f"
             ],
             [
              0.2222222222222222,
              "#7201a8"
             ],
             [
              0.3333333333333333,
              "#9c179e"
             ],
             [
              0.4444444444444444,
              "#bd3786"
             ],
             [
              0.5555555555555556,
              "#d8576b"
             ],
             [
              0.6666666666666666,
              "#ed7953"
             ],
             [
              0.7777777777777778,
              "#fb9f3a"
             ],
             [
              0.8888888888888888,
              "#fdca26"
             ],
             [
              1,
              "#f0f921"
             ]
            ],
            "type": "histogram2dcontour"
           }
          ],
          "mesh3d": [
           {
            "colorbar": {
             "outlinewidth": 0,
             "ticks": ""
            },
            "type": "mesh3d"
           }
          ],
          "parcoords": [
           {
            "line": {
             "colorbar": {
              "outlinewidth": 0,
              "ticks": ""
             }
            },
            "type": "parcoords"
           }
          ],
          "pie": [
           {
            "automargin": true,
            "type": "pie"
           }
          ],
          "scatter": [
           {
            "fillpattern": {
             "fillmode": "overlay",
             "size": 10,
             "solidity": 0.2
            },
            "type": "scatter"
           }
          ],
          "scatter3d": [
           {
            "line": {
             "colorbar": {
              "outlinewidth": 0,
              "ticks": ""
             }
            },
            "marker": {
             "colorbar": {
              "outlinewidth": 0,
              "ticks": ""
             }
            },
            "type": "scatter3d"
           }
          ],
          "scattercarpet": [
           {
            "marker": {
             "colorbar": {
              "outlinewidth": 0,
              "ticks": ""
             }
            },
            "type": "scattercarpet"
           }
          ],
          "scattergeo": [
           {
            "marker": {
             "colorbar": {
              "outlinewidth": 0,
              "ticks": ""
             }
            },
            "type": "scattergeo"
           }
          ],
          "scattergl": [
           {
            "marker": {
             "colorbar": {
              "outlinewidth": 0,
              "ticks": ""
             }
            },
            "type": "scattergl"
           }
          ],
          "scattermapbox": [
           {
            "marker": {
             "colorbar": {
              "outlinewidth": 0,
              "ticks": ""
             }
            },
            "type": "scattermapbox"
           }
          ],
          "scatterpolar": [
           {
            "marker": {
             "colorbar": {
              "outlinewidth": 0,
              "ticks": ""
             }
            },
            "type": "scatterpolar"
           }
          ],
          "scatterpolargl": [
           {
            "marker": {
             "colorbar": {
              "outlinewidth": 0,
              "ticks": ""
             }
            },
            "type": "scatterpolargl"
           }
          ],
          "scatterternary": [
           {
            "marker": {
             "colorbar": {
              "outlinewidth": 0,
              "ticks": ""
             }
            },
            "type": "scatterternary"
           }
          ],
          "surface": [
           {
            "colorbar": {
             "outlinewidth": 0,
             "ticks": ""
            },
            "colorscale": [
             [
              0,
              "#0d0887"
             ],
             [
              0.1111111111111111,
              "#46039f"
             ],
             [
              0.2222222222222222,
              "#7201a8"
             ],
             [
              0.3333333333333333,
              "#9c179e"
             ],
             [
              0.4444444444444444,
              "#bd3786"
             ],
             [
              0.5555555555555556,
              "#d8576b"
             ],
             [
              0.6666666666666666,
              "#ed7953"
             ],
             [
              0.7777777777777778,
              "#fb9f3a"
             ],
             [
              0.8888888888888888,
              "#fdca26"
             ],
             [
              1,
              "#f0f921"
             ]
            ],
            "type": "surface"
           }
          ],
          "table": [
           {
            "cells": {
             "fill": {
              "color": "#EBF0F8"
             },
             "line": {
              "color": "white"
             }
            },
            "header": {
             "fill": {
              "color": "#C8D4E3"
             },
             "line": {
              "color": "white"
             }
            },
            "type": "table"
           }
          ]
         },
         "layout": {
          "annotationdefaults": {
           "arrowcolor": "#2a3f5f",
           "arrowhead": 0,
           "arrowwidth": 1
          },
          "autotypenumbers": "strict",
          "coloraxis": {
           "colorbar": {
            "outlinewidth": 0,
            "ticks": ""
           }
          },
          "colorscale": {
           "diverging": [
            [
             0,
             "#8e0152"
            ],
            [
             0.1,
             "#c51b7d"
            ],
            [
             0.2,
             "#de77ae"
            ],
            [
             0.3,
             "#f1b6da"
            ],
            [
             0.4,
             "#fde0ef"
            ],
            [
             0.5,
             "#f7f7f7"
            ],
            [
             0.6,
             "#e6f5d0"
            ],
            [
             0.7,
             "#b8e186"
            ],
            [
             0.8,
             "#7fbc41"
            ],
            [
             0.9,
             "#4d9221"
            ],
            [
             1,
             "#276419"
            ]
           ],
           "sequential": [
            [
             0,
             "#0d0887"
            ],
            [
             0.1111111111111111,
             "#46039f"
            ],
            [
             0.2222222222222222,
             "#7201a8"
            ],
            [
             0.3333333333333333,
             "#9c179e"
            ],
            [
             0.4444444444444444,
             "#bd3786"
            ],
            [
             0.5555555555555556,
             "#d8576b"
            ],
            [
             0.6666666666666666,
             "#ed7953"
            ],
            [
             0.7777777777777778,
             "#fb9f3a"
            ],
            [
             0.8888888888888888,
             "#fdca26"
            ],
            [
             1,
             "#f0f921"
            ]
           ],
           "sequentialminus": [
            [
             0,
             "#0d0887"
            ],
            [
             0.1111111111111111,
             "#46039f"
            ],
            [
             0.2222222222222222,
             "#7201a8"
            ],
            [
             0.3333333333333333,
             "#9c179e"
            ],
            [
             0.4444444444444444,
             "#bd3786"
            ],
            [
             0.5555555555555556,
             "#d8576b"
            ],
            [
             0.6666666666666666,
             "#ed7953"
            ],
            [
             0.7777777777777778,
             "#fb9f3a"
            ],
            [
             0.8888888888888888,
             "#fdca26"
            ],
            [
             1,
             "#f0f921"
            ]
           ]
          },
          "colorway": [
           "#636efa",
           "#EF553B",
           "#00cc96",
           "#ab63fa",
           "#FFA15A",
           "#19d3f3",
           "#FF6692",
           "#B6E880",
           "#FF97FF",
           "#FECB52"
          ],
          "font": {
           "color": "#2a3f5f"
          },
          "geo": {
           "bgcolor": "white",
           "lakecolor": "white",
           "landcolor": "white",
           "showlakes": true,
           "showland": true,
           "subunitcolor": "#C8D4E3"
          },
          "hoverlabel": {
           "align": "left"
          },
          "hovermode": "closest",
          "mapbox": {
           "style": "light"
          },
          "paper_bgcolor": "white",
          "plot_bgcolor": "white",
          "polar": {
           "angularaxis": {
            "gridcolor": "#EBF0F8",
            "linecolor": "#EBF0F8",
            "ticks": ""
           },
           "bgcolor": "white",
           "radialaxis": {
            "gridcolor": "#EBF0F8",
            "linecolor": "#EBF0F8",
            "ticks": ""
           }
          },
          "scene": {
           "xaxis": {
            "backgroundcolor": "white",
            "gridcolor": "#DFE8F3",
            "gridwidth": 2,
            "linecolor": "#EBF0F8",
            "showbackground": true,
            "ticks": "",
            "zerolinecolor": "#EBF0F8"
           },
           "yaxis": {
            "backgroundcolor": "white",
            "gridcolor": "#DFE8F3",
            "gridwidth": 2,
            "linecolor": "#EBF0F8",
            "showbackground": true,
            "ticks": "",
            "zerolinecolor": "#EBF0F8"
           },
           "zaxis": {
            "backgroundcolor": "white",
            "gridcolor": "#DFE8F3",
            "gridwidth": 2,
            "linecolor": "#EBF0F8",
            "showbackground": true,
            "ticks": "",
            "zerolinecolor": "#EBF0F8"
           }
          },
          "shapedefaults": {
           "line": {
            "color": "#2a3f5f"
           }
          },
          "ternary": {
           "aaxis": {
            "gridcolor": "#DFE8F3",
            "linecolor": "#A2B1C6",
            "ticks": ""
           },
           "baxis": {
            "gridcolor": "#DFE8F3",
            "linecolor": "#A2B1C6",
            "ticks": ""
           },
           "bgcolor": "white",
           "caxis": {
            "gridcolor": "#DFE8F3",
            "linecolor": "#A2B1C6",
            "ticks": ""
           }
          },
          "title": {
           "x": 0.05
          },
          "xaxis": {
           "automargin": true,
           "gridcolor": "#EBF0F8",
           "linecolor": "#EBF0F8",
           "ticks": "",
           "title": {
            "standoff": 15
           },
           "zerolinecolor": "#EBF0F8",
           "zerolinewidth": 2
          },
          "yaxis": {
           "automargin": true,
           "gridcolor": "#EBF0F8",
           "linecolor": "#EBF0F8",
           "ticks": "",
           "title": {
            "standoff": 15
           },
           "zerolinecolor": "#EBF0F8",
           "zerolinewidth": 2
          }
         }
        },
        "title": {
         "text": "Loan Amount Distribution"
        },
        "xaxis": {
         "anchor": "y",
         "domain": [
          0,
          1
         ],
         "title": {
          "text": "Loan Amount"
         }
        },
        "yaxis": {
         "anchor": "x",
         "domain": [
          0,
          1
         ],
         "title": {
          "text": "count"
         }
        }
       }
      }
     },
     "metadata": {},
     "output_type": "display_data"
    }
   ],
   "source": [
    "loan_amount_fig = px.histogram(data, x='Loan Amount', nbins=20, title='Loan Amount Distribution')\n",
    "loan_amount_fig.show()"
   ]
  },
  {
   "cell_type": "markdown",
   "metadata": {},
   "source": [
    "Correlation in the data"
   ]
  },
  {
   "cell_type": "code",
   "execution_count": 211,
   "metadata": {},
   "outputs": [
    {
     "data": {
      "application/vnd.plotly.v1+json": {
       "config": {
        "plotlyServerURL": "https://plot.ly"
       },
       "data": [
        {
         "coloraxis": "coloraxis",
         "hovertemplate": "x: %{x}<br>y: %{y}<br>color: %{z}<extra></extra>",
         "name": "0",
         "type": "heatmap",
         "x": [
          "Credit Utilization Ratio",
          "Payment History",
          "Number of Credit Accounts",
          "Loan Amount",
          "Interest Rate",
          "Loan Term"
         ],
         "xaxis": "x",
         "y": [
          "Credit Utilization Ratio",
          "Payment History",
          "Number of Credit Accounts",
          "Loan Amount",
          "Interest Rate",
          "Loan Term"
         ],
         "yaxis": "y",
         "z": [
          [
           1,
           0.0021141964664825558,
           -0.0018417352448918448,
           -0.014918441087073266,
           0.04823694488220739,
           -0.02292437660519626
          ],
          [
           0.0021141964664825558,
           1,
           0.025022343665911207,
           -0.01908376738110175,
           -0.017618250959028903,
           -0.045531973089473786
          ],
          [
           -0.0018417352448918448,
           0.025022343665911207,
           1,
           0.03223218947381575,
           -0.0010828602014753936,
           0.012793615844397942
          ],
          [
           -0.014918441087073266,
           -0.01908376738110175,
           0.03223218947381575,
           1,
           0.04528807708804023,
           0.014282992331967325
          ],
          [
           0.04823694488220739,
           -0.017618250959028903,
           -0.0010828602014753936,
           0.04528807708804023,
           1,
           0.028189737847988432
          ],
          [
           -0.02292437660519626,
           -0.045531973089473786,
           0.012793615844397942,
           0.014282992331967325,
           0.028189737847988432,
           1
          ]
         ]
        }
       ],
       "layout": {
        "coloraxis": {
         "colorscale": [
          [
           0,
           "#0d0887"
          ],
          [
           0.1111111111111111,
           "#46039f"
          ],
          [
           0.2222222222222222,
           "#7201a8"
          ],
          [
           0.3333333333333333,
           "#9c179e"
          ],
          [
           0.4444444444444444,
           "#bd3786"
          ],
          [
           0.5555555555555556,
           "#d8576b"
          ],
          [
           0.6666666666666666,
           "#ed7953"
          ],
          [
           0.7777777777777778,
           "#fb9f3a"
          ],
          [
           0.8888888888888888,
           "#fdca26"
          ],
          [
           1,
           "#f0f921"
          ]
         ]
        },
        "template": {
         "data": {
          "bar": [
           {
            "error_x": {
             "color": "#2a3f5f"
            },
            "error_y": {
             "color": "#2a3f5f"
            },
            "marker": {
             "line": {
              "color": "white",
              "width": 0.5
             },
             "pattern": {
              "fillmode": "overlay",
              "size": 10,
              "solidity": 0.2
             }
            },
            "type": "bar"
           }
          ],
          "barpolar": [
           {
            "marker": {
             "line": {
              "color": "white",
              "width": 0.5
             },
             "pattern": {
              "fillmode": "overlay",
              "size": 10,
              "solidity": 0.2
             }
            },
            "type": "barpolar"
           }
          ],
          "carpet": [
           {
            "aaxis": {
             "endlinecolor": "#2a3f5f",
             "gridcolor": "#C8D4E3",
             "linecolor": "#C8D4E3",
             "minorgridcolor": "#C8D4E3",
             "startlinecolor": "#2a3f5f"
            },
            "baxis": {
             "endlinecolor": "#2a3f5f",
             "gridcolor": "#C8D4E3",
             "linecolor": "#C8D4E3",
             "minorgridcolor": "#C8D4E3",
             "startlinecolor": "#2a3f5f"
            },
            "type": "carpet"
           }
          ],
          "choropleth": [
           {
            "colorbar": {
             "outlinewidth": 0,
             "ticks": ""
            },
            "type": "choropleth"
           }
          ],
          "contour": [
           {
            "colorbar": {
             "outlinewidth": 0,
             "ticks": ""
            },
            "colorscale": [
             [
              0,
              "#0d0887"
             ],
             [
              0.1111111111111111,
              "#46039f"
             ],
             [
              0.2222222222222222,
              "#7201a8"
             ],
             [
              0.3333333333333333,
              "#9c179e"
             ],
             [
              0.4444444444444444,
              "#bd3786"
             ],
             [
              0.5555555555555556,
              "#d8576b"
             ],
             [
              0.6666666666666666,
              "#ed7953"
             ],
             [
              0.7777777777777778,
              "#fb9f3a"
             ],
             [
              0.8888888888888888,
              "#fdca26"
             ],
             [
              1,
              "#f0f921"
             ]
            ],
            "type": "contour"
           }
          ],
          "contourcarpet": [
           {
            "colorbar": {
             "outlinewidth": 0,
             "ticks": ""
            },
            "type": "contourcarpet"
           }
          ],
          "heatmap": [
           {
            "colorbar": {
             "outlinewidth": 0,
             "ticks": ""
            },
            "colorscale": [
             [
              0,
              "#0d0887"
             ],
             [
              0.1111111111111111,
              "#46039f"
             ],
             [
              0.2222222222222222,
              "#7201a8"
             ],
             [
              0.3333333333333333,
              "#9c179e"
             ],
             [
              0.4444444444444444,
              "#bd3786"
             ],
             [
              0.5555555555555556,
              "#d8576b"
             ],
             [
              0.6666666666666666,
              "#ed7953"
             ],
             [
              0.7777777777777778,
              "#fb9f3a"
             ],
             [
              0.8888888888888888,
              "#fdca26"
             ],
             [
              1,
              "#f0f921"
             ]
            ],
            "type": "heatmap"
           }
          ],
          "heatmapgl": [
           {
            "colorbar": {
             "outlinewidth": 0,
             "ticks": ""
            },
            "colorscale": [
             [
              0,
              "#0d0887"
             ],
             [
              0.1111111111111111,
              "#46039f"
             ],
             [
              0.2222222222222222,
              "#7201a8"
             ],
             [
              0.3333333333333333,
              "#9c179e"
             ],
             [
              0.4444444444444444,
              "#bd3786"
             ],
             [
              0.5555555555555556,
              "#d8576b"
             ],
             [
              0.6666666666666666,
              "#ed7953"
             ],
             [
              0.7777777777777778,
              "#fb9f3a"
             ],
             [
              0.8888888888888888,
              "#fdca26"
             ],
             [
              1,
              "#f0f921"
             ]
            ],
            "type": "heatmapgl"
           }
          ],
          "histogram": [
           {
            "marker": {
             "pattern": {
              "fillmode": "overlay",
              "size": 10,
              "solidity": 0.2
             }
            },
            "type": "histogram"
           }
          ],
          "histogram2d": [
           {
            "colorbar": {
             "outlinewidth": 0,
             "ticks": ""
            },
            "colorscale": [
             [
              0,
              "#0d0887"
             ],
             [
              0.1111111111111111,
              "#46039f"
             ],
             [
              0.2222222222222222,
              "#7201a8"
             ],
             [
              0.3333333333333333,
              "#9c179e"
             ],
             [
              0.4444444444444444,
              "#bd3786"
             ],
             [
              0.5555555555555556,
              "#d8576b"
             ],
             [
              0.6666666666666666,
              "#ed7953"
             ],
             [
              0.7777777777777778,
              "#fb9f3a"
             ],
             [
              0.8888888888888888,
              "#fdca26"
             ],
             [
              1,
              "#f0f921"
             ]
            ],
            "type": "histogram2d"
           }
          ],
          "histogram2dcontour": [
           {
            "colorbar": {
             "outlinewidth": 0,
             "ticks": ""
            },
            "colorscale": [
             [
              0,
              "#0d0887"
             ],
             [
              0.1111111111111111,
              "#46039f"
             ],
             [
              0.2222222222222222,
              "#7201a8"
             ],
             [
              0.3333333333333333,
              "#9c179e"
             ],
             [
              0.4444444444444444,
              "#bd3786"
             ],
             [
              0.5555555555555556,
              "#d8576b"
             ],
             [
              0.6666666666666666,
              "#ed7953"
             ],
             [
              0.7777777777777778,
              "#fb9f3a"
             ],
             [
              0.8888888888888888,
              "#fdca26"
             ],
             [
              1,
              "#f0f921"
             ]
            ],
            "type": "histogram2dcontour"
           }
          ],
          "mesh3d": [
           {
            "colorbar": {
             "outlinewidth": 0,
             "ticks": ""
            },
            "type": "mesh3d"
           }
          ],
          "parcoords": [
           {
            "line": {
             "colorbar": {
              "outlinewidth": 0,
              "ticks": ""
             }
            },
            "type": "parcoords"
           }
          ],
          "pie": [
           {
            "automargin": true,
            "type": "pie"
           }
          ],
          "scatter": [
           {
            "fillpattern": {
             "fillmode": "overlay",
             "size": 10,
             "solidity": 0.2
            },
            "type": "scatter"
           }
          ],
          "scatter3d": [
           {
            "line": {
             "colorbar": {
              "outlinewidth": 0,
              "ticks": ""
             }
            },
            "marker": {
             "colorbar": {
              "outlinewidth": 0,
              "ticks": ""
             }
            },
            "type": "scatter3d"
           }
          ],
          "scattercarpet": [
           {
            "marker": {
             "colorbar": {
              "outlinewidth": 0,
              "ticks": ""
             }
            },
            "type": "scattercarpet"
           }
          ],
          "scattergeo": [
           {
            "marker": {
             "colorbar": {
              "outlinewidth": 0,
              "ticks": ""
             }
            },
            "type": "scattergeo"
           }
          ],
          "scattergl": [
           {
            "marker": {
             "colorbar": {
              "outlinewidth": 0,
              "ticks": ""
             }
            },
            "type": "scattergl"
           }
          ],
          "scattermapbox": [
           {
            "marker": {
             "colorbar": {
              "outlinewidth": 0,
              "ticks": ""
             }
            },
            "type": "scattermapbox"
           }
          ],
          "scatterpolar": [
           {
            "marker": {
             "colorbar": {
              "outlinewidth": 0,
              "ticks": ""
             }
            },
            "type": "scatterpolar"
           }
          ],
          "scatterpolargl": [
           {
            "marker": {
             "colorbar": {
              "outlinewidth": 0,
              "ticks": ""
             }
            },
            "type": "scatterpolargl"
           }
          ],
          "scatterternary": [
           {
            "marker": {
             "colorbar": {
              "outlinewidth": 0,
              "ticks": ""
             }
            },
            "type": "scatterternary"
           }
          ],
          "surface": [
           {
            "colorbar": {
             "outlinewidth": 0,
             "ticks": ""
            },
            "colorscale": [
             [
              0,
              "#0d0887"
             ],
             [
              0.1111111111111111,
              "#46039f"
             ],
             [
              0.2222222222222222,
              "#7201a8"
             ],
             [
              0.3333333333333333,
              "#9c179e"
             ],
             [
              0.4444444444444444,
              "#bd3786"
             ],
             [
              0.5555555555555556,
              "#d8576b"
             ],
             [
              0.6666666666666666,
              "#ed7953"
             ],
             [
              0.7777777777777778,
              "#fb9f3a"
             ],
             [
              0.8888888888888888,
              "#fdca26"
             ],
             [
              1,
              "#f0f921"
             ]
            ],
            "type": "surface"
           }
          ],
          "table": [
           {
            "cells": {
             "fill": {
              "color": "#EBF0F8"
             },
             "line": {
              "color": "white"
             }
            },
            "header": {
             "fill": {
              "color": "#C8D4E3"
             },
             "line": {
              "color": "white"
             }
            },
            "type": "table"
           }
          ]
         },
         "layout": {
          "annotationdefaults": {
           "arrowcolor": "#2a3f5f",
           "arrowhead": 0,
           "arrowwidth": 1
          },
          "autotypenumbers": "strict",
          "coloraxis": {
           "colorbar": {
            "outlinewidth": 0,
            "ticks": ""
           }
          },
          "colorscale": {
           "diverging": [
            [
             0,
             "#8e0152"
            ],
            [
             0.1,
             "#c51b7d"
            ],
            [
             0.2,
             "#de77ae"
            ],
            [
             0.3,
             "#f1b6da"
            ],
            [
             0.4,
             "#fde0ef"
            ],
            [
             0.5,
             "#f7f7f7"
            ],
            [
             0.6,
             "#e6f5d0"
            ],
            [
             0.7,
             "#b8e186"
            ],
            [
             0.8,
             "#7fbc41"
            ],
            [
             0.9,
             "#4d9221"
            ],
            [
             1,
             "#276419"
            ]
           ],
           "sequential": [
            [
             0,
             "#0d0887"
            ],
            [
             0.1111111111111111,
             "#46039f"
            ],
            [
             0.2222222222222222,
             "#7201a8"
            ],
            [
             0.3333333333333333,
             "#9c179e"
            ],
            [
             0.4444444444444444,
             "#bd3786"
            ],
            [
             0.5555555555555556,
             "#d8576b"
            ],
            [
             0.6666666666666666,
             "#ed7953"
            ],
            [
             0.7777777777777778,
             "#fb9f3a"
            ],
            [
             0.8888888888888888,
             "#fdca26"
            ],
            [
             1,
             "#f0f921"
            ]
           ],
           "sequentialminus": [
            [
             0,
             "#0d0887"
            ],
            [
             0.1111111111111111,
             "#46039f"
            ],
            [
             0.2222222222222222,
             "#7201a8"
            ],
            [
             0.3333333333333333,
             "#9c179e"
            ],
            [
             0.4444444444444444,
             "#bd3786"
            ],
            [
             0.5555555555555556,
             "#d8576b"
            ],
            [
             0.6666666666666666,
             "#ed7953"
            ],
            [
             0.7777777777777778,
             "#fb9f3a"
            ],
            [
             0.8888888888888888,
             "#fdca26"
            ],
            [
             1,
             "#f0f921"
            ]
           ]
          },
          "colorway": [
           "#636efa",
           "#EF553B",
           "#00cc96",
           "#ab63fa",
           "#FFA15A",
           "#19d3f3",
           "#FF6692",
           "#B6E880",
           "#FF97FF",
           "#FECB52"
          ],
          "font": {
           "color": "#2a3f5f"
          },
          "geo": {
           "bgcolor": "white",
           "lakecolor": "white",
           "landcolor": "white",
           "showlakes": true,
           "showland": true,
           "subunitcolor": "#C8D4E3"
          },
          "hoverlabel": {
           "align": "left"
          },
          "hovermode": "closest",
          "mapbox": {
           "style": "light"
          },
          "paper_bgcolor": "white",
          "plot_bgcolor": "white",
          "polar": {
           "angularaxis": {
            "gridcolor": "#EBF0F8",
            "linecolor": "#EBF0F8",
            "ticks": ""
           },
           "bgcolor": "white",
           "radialaxis": {
            "gridcolor": "#EBF0F8",
            "linecolor": "#EBF0F8",
            "ticks": ""
           }
          },
          "scene": {
           "xaxis": {
            "backgroundcolor": "white",
            "gridcolor": "#DFE8F3",
            "gridwidth": 2,
            "linecolor": "#EBF0F8",
            "showbackground": true,
            "ticks": "",
            "zerolinecolor": "#EBF0F8"
           },
           "yaxis": {
            "backgroundcolor": "white",
            "gridcolor": "#DFE8F3",
            "gridwidth": 2,
            "linecolor": "#EBF0F8",
            "showbackground": true,
            "ticks": "",
            "zerolinecolor": "#EBF0F8"
           },
           "zaxis": {
            "backgroundcolor": "white",
            "gridcolor": "#DFE8F3",
            "gridwidth": 2,
            "linecolor": "#EBF0F8",
            "showbackground": true,
            "ticks": "",
            "zerolinecolor": "#EBF0F8"
           }
          },
          "shapedefaults": {
           "line": {
            "color": "#2a3f5f"
           }
          },
          "ternary": {
           "aaxis": {
            "gridcolor": "#DFE8F3",
            "linecolor": "#A2B1C6",
            "ticks": ""
           },
           "baxis": {
            "gridcolor": "#DFE8F3",
            "linecolor": "#A2B1C6",
            "ticks": ""
           },
           "bgcolor": "white",
           "caxis": {
            "gridcolor": "#DFE8F3",
            "linecolor": "#A2B1C6",
            "ticks": ""
           }
          },
          "title": {
           "x": 0.05
          },
          "xaxis": {
           "automargin": true,
           "gridcolor": "#EBF0F8",
           "linecolor": "#EBF0F8",
           "ticks": "",
           "title": {
            "standoff": 15
           },
           "zerolinecolor": "#EBF0F8",
           "zerolinewidth": 2
          },
          "yaxis": {
           "automargin": true,
           "gridcolor": "#EBF0F8",
           "linecolor": "#EBF0F8",
           "ticks": "",
           "title": {
            "standoff": 15
           },
           "zerolinecolor": "#EBF0F8",
           "zerolinewidth": 2
          }
         }
        },
        "title": {
         "text": "Correlation Heatmap"
        },
        "xaxis": {
         "anchor": "y",
         "constrain": "domain",
         "domain": [
          0,
          1
         ],
         "scaleanchor": "y"
        },
        "yaxis": {
         "anchor": "x",
         "autorange": "reversed",
         "constrain": "domain",
         "domain": [
          0,
          1
         ]
        }
       }
      }
     },
     "metadata": {},
     "output_type": "display_data"
    }
   ],
   "source": [
    "numeric_df = data[['Credit Utilization Ratio', 'Payment History', 'Number of Credit Accounts', 'Loan Amount', 'Interest Rate', 'Loan Term']]\n",
    "correlation_fig = px.imshow(numeric_df.corr(), title='Correlation Heatmap')\n",
    "correlation_fig.show()"
   ]
  },
  {
   "cell_type": "markdown",
   "metadata": {},
   "source": [
    "Calculating credit score using FICO score method"
   ]
  },
  {
   "cell_type": "code",
   "execution_count": 212,
   "metadata": {},
   "outputs": [
    {
     "name": "stdout",
     "output_type": "stream",
     "text": [
      "   Age  Gender Marital Status  Education Level  Employment Status  \\\n",
      "0   60    Male        Married                3                  1   \n",
      "1   25    Male        Married                1                  0   \n",
      "2   30  Female         Single                3                  1   \n",
      "3   58  Female        Married                4                  0   \n",
      "4   32    Male        Married                2                  2   \n",
      "\n",
      "   Credit Utilization Ratio  Payment History  Number of Credit Accounts  \\\n",
      "0                      0.22           2685.0                          2   \n",
      "1                      0.20           2371.0                          9   \n",
      "2                      0.22           2771.0                          6   \n",
      "3                      0.12           1371.0                          2   \n",
      "4                      0.99            828.0                          2   \n",
      "\n",
      "   Loan Amount  Interest Rate  Loan Term   Type of Loan  Credit Score  \n",
      "0      4675000           2.65         48  Personal Loan       940.516  \n",
      "1      3619000           5.19         60      Auto Loan       831.360  \n",
      "2       957000           2.76         12      Auto Loan       971.216  \n",
      "3      4731000           6.57         60      Auto Loan       480.586  \n",
      "4      3289000           6.28         36  Personal Loan       290.797  \n"
     ]
    }
   ],
   "source": [
    "# Define the mapping for categorical features\n",
    "education_level_mapping = {'High School': 1, 'Bachelor': 2, 'Master': 3, 'PhD': 4}\n",
    "employment_status_mapping = {'Unemployed': 0, 'Employed': 1, 'Self-Employed': 2}\n",
    "\n",
    "# Apply mapping to categorical features\n",
    "data['Education Level'] = data['Education Level'].map(education_level_mapping)\n",
    "data['Employment Status'] = data['Employment Status'].map(employment_status_mapping)\n",
    "\n",
    "# Calculate credit scores using the complete FICO formula\n",
    "credit_scores = []\n",
    "\n",
    "for index, row in data.iterrows():\n",
    "    payment_history = row['Payment History']\n",
    "    credit_utilization_ratio = row['Credit Utilization Ratio']\n",
    "    number_of_credit_accounts = row['Number of Credit Accounts']\n",
    "    education_level = row['Education Level']\n",
    "    employment_status = row['Employment Status']\n",
    "\n",
    "    # Apply the FICO formula to calculate the credit score\n",
    "    credit_score = (payment_history * 0.35) + (credit_utilization_ratio * 0.30) + (number_of_credit_accounts * 0.15) + (education_level * 0.10) + (employment_status * 0.10)\n",
    "    credit_scores.append(credit_score)\n",
    "\n",
    "# Add the credit scores as a new column to the DataFrame\n",
    "data['Credit Score'] = credit_scores\n",
    "\n",
    "print(data.head())"
   ]
  },
  {
   "cell_type": "markdown",
   "metadata": {},
   "source": [
    "Manual Elbow method to select k value"
   ]
  },
  {
   "cell_type": "code",
   "execution_count": 213,
   "metadata": {},
   "outputs": [],
   "source": [
    "from sklearn.cluster import KMeans"
   ]
  },
  {
   "cell_type": "code",
   "execution_count": 214,
   "metadata": {},
   "outputs": [],
   "source": [
    "wcss=[]\n",
    "for k in range(1,11):\n",
    "    kmeans=KMeans(n_clusters=k,init='k-means++')\n",
    "    kmeans.fit(X)\n",
    "    wcss.append(kmeans.inertia_)"
   ]
  },
  {
   "cell_type": "code",
   "execution_count": 215,
   "metadata": {},
   "outputs": [
    {
     "data": {
      "text/plain": [
       "[83893236.16507576,\n",
       " 21193125.3877905,\n",
       " 9412670.29370353,\n",
       " 5192242.84847806,\n",
       " 3394642.2889938345,\n",
       " 2358263.620114067,\n",
       " 1774259.4734416176,\n",
       " 1308458.427723754,\n",
       " 1051241.497328287,\n",
       " 884095.90071516]"
      ]
     },
     "execution_count": 215,
     "metadata": {},
     "output_type": "execute_result"
    }
   ],
   "source": [
    "wcss"
   ]
  },
  {
   "cell_type": "code",
   "execution_count": 216,
   "metadata": {},
   "outputs": [
    {
     "data": {
      "image/png": "[encoded data removed]",
      "text/plain": [
       "<Figure size 640x480 with 1 Axes>"
      ]
     },
     "metadata": {},
     "output_type": "display_data"
    }
   ],
   "source": [
    "##plotting elbow curve\n",
    "plt.plot(range(1,11),wcss)\n",
    "plt.xticks(range(1,11))\n",
    "plt.xlabel(\"Number of clusters\")\n",
    "plt.ylabel(\"WCSS\")\n",
    "plt.show()"
   ]
  },
  {
   "cell_type": "markdown",
   "metadata": {},
   "source": [
    "Knee locator"
   ]
  },
  {
   "cell_type": "code",
   "execution_count": 217,
   "metadata": {},
   "outputs": [
    {
     "data": {
      "text/plain": [
       "3"
      ]
     },
     "execution_count": 217,
     "metadata": {},
     "output_type": "execute_result"
    }
   ],
   "source": [
    "from kneed import KneeLocator\n",
    "kl=KneeLocator(range(1,11),wcss,curve='convex',direction='decreasing')\n",
    "kl.elbow"
   ]
  },
  {
   "cell_type": "markdown",
   "metadata": {},
   "source": [
    "Using the KMeans clustering algorithm to segment customers based on their credit scores"
   ]
  },
  {
   "cell_type": "code",
   "execution_count": 218,
   "metadata": {},
   "outputs": [],
   "source": [
    "\n",
    "\n",
    "X = data[['Credit Score']]\n",
    "kmeans = KMeans(n_clusters=3, n_init=10, random_state=42)\n",
    "kmeans.fit(X)\n",
    "data['Segment'] = kmeans.labels_"
   ]
  },
  {
   "cell_type": "code",
   "execution_count": 219,
   "metadata": {},
   "outputs": [
    {
     "data": {
      "application/vnd.plotly.v1+json": {
       "config": {
        "plotlyServerURL": "https://plot.ly"
       },
       "data": [
        {
         "hovertemplate": "Segment=1<br>index=%{x}<br>Credit Score=%{y}<extra></extra>",
         "legendgroup": "1",
         "marker": {
          "color": "green",
          "symbol": "circle"
         },
         "mode": "markers",
         "name": "1",
         "orientation": "v",
         "showlegend": true,
         "type": "scatter",
         "x": [
          0,
          1,
          2,
          5,
          6,
          13,
          14,
          15,
          19,
          22,
          23,
          26,
          29,
          41,
          48,
          60,
          63,
          64,
          66,
          67,
          70,
          71,
          72,
          73,
          74,
          75,
          79,
          94,
          97,
          102,
          103,
          104,
          108,
          117,
          118,
          121,
          124,
          125,
          127,
          129,
          130,
          135,
          138,
          140,
          144,
          147,
          148,
          149,
          153,
          154,
          155,
          156,
          167,
          169,
          171,
          173,
          175,
          177,
          178,
          183,
          186,
          192,
          193,
          195,
          197,
          200,
          201,
          203,
          209,
          211,
          212,
          213,
          220,
          221,
          223,
          224,
          233,
          236,
          240,
          242,
          244,
          247,
          249,
          250,
          253,
          255,
          264,
          265,
          274,
          278,
          280,
          281,
          284,
          285,
          286,
          288,
          292,
          295,
          298,
          300,
          302,
          304,
          307,
          308,
          310,
          311,
          313,
          314,
          316,
          317,
          322,
          326,
          328,
          332,
          340,
          341,
          342,
          345,
          346,
          350,
          351,
          352,
          355,
          356,
          357,
          358,
          362,
          363,
          364,
          365,
          372,
          373,
          378,
          380,
          381,
          383,
          394,
          395,
          396,
          398,
          402,
          407,
          409,
          416,
          418,
          419,
          420,
          426,
          428,
          431,
          433,
          439,
          441,
          444,
          445,
          447,
          451,
          458,
          461,
          464,
          467,
          468,
          470,
          474,
          477,
          479,
          481,
          483,
          484,
          488,
          489,
          491,
          492,
          494,
          496,
          498,
          504,
          506,
          507,
          508,
          509,
          510,
          513,
          526,
          529,
          533,
          538,
          543,
          544,
          545,
          546,
          547,
          548,
          549,
          551,
          552,
          553,
          555,
          556,
          560,
          563,
          564,
          566,
          568,
          569,
          572,
          576,
          580,
          583,
          587,
          589,
          594,
          596,
          598,
          604,
          606,
          608,
          612,
          614,
          617,
          619,
          620,
          622,
          626,
          637,
          639,
          640,
          642,
          647,
          648,
          649,
          651,
          654,
          661,
          667,
          668,
          669,
          672,
          681,
          683,
          685,
          688,
          689,
          690,
          692,
          695,
          697,
          699,
          701,
          702,
          703,
          711,
          712,
          717,
          721,
          722,
          730,
          734,
          737,
          744,
          746,
          749,
          752,
          753,
          755,
          756,
          763,
          765,
          766,
          768,
          769,
          774,
          780,
          782,
          785,
          786,
          788,
          790,
          791,
          796,
          798,
          801,
          802,
          804,
          806,
          807,
          812,
          813,
          815,
          819,
          821,
          822,
          823,
          829,
          831,
          836,
          840,
          842,
          846,
          855,
          856,
          858,
          859,
          860,
          869,
          874,
          875,
          880,
          881,
          883,
          886,
          888,
          891,
          893,
          894,
          895,
          898,
          899,
          901,
          909,
          913,
          920,
          921,
          926,
          939,
          940,
          942,
          945,
          948,
          949,
          953,
          957,
          958,
          960,
          962,
          970,
          972,
          976,
          984,
          985,
          987,
          988,
          991,
          992,
          994,
          997
         ],
         "xaxis": "x",
         "y": [
          940.5159999999998,
          831.3599999999999,
          971.2159999999999,
          820.5819999999999,
          980.4459999999999,
          700.9480000000001,
          831.5499999999998,
          750.5649999999999,
          700.732,
          671.026,
          720.986,
          831.7939999999999,
          710.5629999999999,
          880.5949999999999,
          840.6270000000001,
          921.644,
          870.574,
          791.1299999999999,
          761.485,
          801.8870000000001,
          731.738,
          741.6039999999999,
          881.3990000000001,
          981.5859999999998,
          961.208,
          801.759,
          971.899,
          680.419,
          1002.1469999999999,
          741.8360000000001,
          981.645,
          850.979,
          890.9039999999999,
          820.6550000000001,
          801.4350000000001,
          730.9230000000001,
          771.005,
          821.068,
          691.7529999999999,
          1001.8410000000001,
          771.196,
          801.662,
          691.1619999999998,
          820.9119999999999,
          951.1030000000001,
          901.581,
          911.551,
          911.2049999999999,
          811.725,
          921.798,
          731.1629999999999,
          880.785,
          671.644,
          841.4990000000001,
          921.318,
          941.6829999999999,
          820.346,
          691.997,
          821.069,
          760.6539999999999,
          740.8249999999999,
          861.3299999999998,
          750.718,
          711.523,
          710.816,
          940.558,
          721.019,
          800.6730000000001,
          750.838,
          761.4309999999998,
          741.607,
          810.9630000000001,
          1001.514,
          900.688,
          681.71,
          861.3939999999999,
          880.9420000000001,
          721.784,
          860.8469999999999,
          980.9889999999998,
          730.802,
          900.7479999999999,
          990.792,
          950.713,
          811.972,
          911.8369999999999,
          1001.1869999999999,
          691.0559999999999,
          731.351,
          981.959,
          721.76,
          770.8180000000001,
          881.143,
          720.6159999999999,
          931.151,
          870.945,
          842.087,
          691.3009999999999,
          930.5279999999999,
          831.6279999999999,
          870.808,
          672.134,
          730.6650000000001,
          820.7230000000001,
          771.245,
          831.1129999999998,
          1001.509,
          921.872,
          871.036,
          911.0459999999999,
          930.9689999999999,
          770.95,
          920.2239999999999,
          991.3829999999999,
          911.492,
          961.0519999999999,
          701.372,
          871.063,
          741.868,
          901.5229999999999,
          941.588,
          900.799,
          821.7719999999999,
          981.5729999999999,
          981.601,
          891.3129999999999,
          951.216,
          731.562,
          780.904,
          921.63,
          961.454,
          971.6619999999999,
          861.483,
          810.741,
          740.9300000000001,
          1001.8799999999999,
          900.3559999999999,
          730.5790000000001,
          681.588,
          890.9119999999999,
          671.189,
          921.0559999999999,
          861.786,
          801.63,
          961.276,
          711.3729999999999,
          780.978,
          930.6479999999999,
          881.474,
          691.4209999999999,
          920.4719999999999,
          861.424,
          690.8219999999999,
          930.9259999999998,
          731.419,
          931.3149999999999,
          981.2479999999998,
          800.905,
          670.8629999999999,
          991.3240000000001,
          781.7929999999999,
          940.262,
          891.484,
          690.858,
          891.6979999999999,
          671.159,
          781.243,
          701.2900000000001,
          861.7990000000001,
          1000.5329999999999,
          671.369,
          841.106,
          981.8589999999999,
          860.5409999999999,
          901.8539999999999,
          772.1310000000001,
          781.7239999999999,
          841.215,
          820.153,
          892.067,
          770.607,
          721.8439999999999,
          881.951,
          981.5919999999999,
          881.5140000000001,
          1000.418,
          801.48,
          971.749,
          921.47,
          941.2299999999998,
          781.566,
          881.839,
          811.98,
          931.6839999999999,
          960.3739999999999,
          901.54,
          810.4879999999999,
          821.461,
          741.182,
          820.4819999999999,
          900.991,
          900.4629999999999,
          961.9699999999999,
          1001.059,
          772.147,
          751.4289999999999,
          730.3530000000001,
          711.84,
          970.5759999999999,
          901.526,
          920.3369999999999,
          800.85,
          691.4999999999999,
          970.5669999999998,
          851.343,
          671.621,
          951.798,
          921.455,
          981.2799999999999,
          770.541,
          801.226,
          891.1959999999999,
          980.906,
          1001.285,
          870.554,
          821.008,
          981.5219999999998,
          761.5809999999999,
          751.39,
          680.1829999999999,
          771.8910000000001,
          680.952,
          751.947,
          960.54,
          871.72,
          692.1419999999999,
          940.919,
          742.043,
          940.867,
          680.548,
          690.794,
          701.5459999999999,
          830.728,
          1001.1469999999999,
          681.6479999999999,
          891.4680000000001,
          971.0219999999999,
          861.872,
          830.6009999999999,
          920.9279999999999,
          730.3240000000001,
          690.9739999999999,
          710.322,
          700.951,
          780.637,
          881.511,
          891.2789999999999,
          771.7490000000001,
          911.5599999999998,
          841.124,
          861.813,
          800.7460000000001,
          800.996,
          941.103,
          921.512,
          960.4929999999999,
          931.308,
          901.4549999999999,
          860.5889999999999,
          681.1399999999999,
          951.3129999999999,
          971.0799999999999,
          691.0939999999999,
          982.1789999999999,
          750.698,
          761.1379999999999,
          931.458,
          740.6750000000001,
          950.8660000000001,
          680.523,
          710.798,
          791.5389999999999,
          880.854,
          680.381,
          891.8589999999999,
          861.9430000000001,
          950.207,
          971.901,
          721.5219999999999,
          951.492,
          991.475,
          981.15,
          971.5469999999999,
          700.5530000000001,
          691.8709999999999,
          700.913,
          701.0889999999999,
          930.7470000000001,
          880.9680000000001,
          990.658,
          900.888,
          951.8720000000001,
          820.068,
          900.8999999999999,
          991.617,
          891.387,
          850.761,
          960.852,
          731.673,
          740.535,
          702.211,
          740.2819999999999,
          731.351,
          731.036,
          750.8389999999999,
          991.289,
          800.697,
          842.17,
          930.866,
          751.4299999999998,
          921.408,
          730.757,
          841.7590000000001,
          891.457,
          980.9419999999999,
          1001.4539999999998,
          721.286,
          920.539,
          950.7420000000001,
          850.797,
          771.3380000000001,
          812.039,
          670.748,
          710.936,
          730.7710000000001,
          840.62,
          791.8629999999999,
          751.043,
          730.91,
          831.5439999999999,
          920.659,
          771.5400000000001,
          850.8510000000001,
          980.947,
          710.92,
          921.8539999999999
         ],
         "yaxis": "y"
        },
        {
         "hovertemplate": "Segment=2<br>index=%{x}<br>Credit Score=%{y}<extra></extra>",
         "legendgroup": "2",
         "marker": {
          "color": "blue",
          "symbol": "circle"
         },
         "mode": "markers",
         "name": "2",
         "orientation": "v",
         "showlegend": true,
         "type": "scatter",
         "x": [
          3,
          7,
          9,
          12,
          17,
          20,
          25,
          32,
          35,
          36,
          37,
          38,
          39,
          40,
          42,
          43,
          45,
          49,
          52,
          54,
          55,
          58,
          59,
          62,
          68,
          69,
          80,
          81,
          82,
          83,
          86,
          87,
          88,
          89,
          90,
          95,
          100,
          101,
          106,
          107,
          111,
          115,
          116,
          119,
          120,
          123,
          131,
          132,
          133,
          137,
          139,
          141,
          143,
          145,
          146,
          150,
          157,
          159,
          160,
          162,
          163,
          164,
          165,
          176,
          180,
          181,
          185,
          189,
          190,
          191,
          198,
          199,
          206,
          207,
          215,
          217,
          218,
          225,
          226,
          228,
          229,
          231,
          234,
          235,
          241,
          243,
          251,
          259,
          260,
          262,
          263,
          268,
          269,
          270,
          271,
          277,
          279,
          287,
          289,
          293,
          294,
          296,
          301,
          303,
          305,
          306,
          312,
          315,
          321,
          325,
          329,
          330,
          331,
          333,
          335,
          336,
          338,
          343,
          349,
          353,
          360,
          368,
          371,
          374,
          376,
          386,
          387,
          391,
          392,
          397,
          401,
          403,
          405,
          406,
          411,
          412,
          415,
          421,
          423,
          429,
          430,
          434,
          440,
          442,
          443,
          446,
          450,
          456,
          460,
          466,
          469,
          471,
          473,
          478,
          480,
          482,
          485,
          487,
          490,
          497,
          500,
          501,
          503,
          514,
          517,
          518,
          519,
          528,
          530,
          535,
          536,
          537,
          539,
          554,
          557,
          559,
          561,
          562,
          565,
          567,
          570,
          571,
          573,
          574,
          577,
          579,
          581,
          590,
          591,
          593,
          600,
          602,
          603,
          605,
          611,
          615,
          616,
          623,
          629,
          630,
          632,
          633,
          638,
          641,
          643,
          644,
          646,
          652,
          655,
          656,
          657,
          660,
          663,
          664,
          665,
          671,
          675,
          676,
          677,
          678,
          679,
          684,
          686,
          693,
          694,
          696,
          698,
          700,
          705,
          708,
          713,
          715,
          718,
          724,
          725,
          726,
          727,
          728,
          731,
          735,
          736,
          738,
          740,
          745,
          748,
          750,
          760,
          761,
          762,
          770,
          772,
          775,
          779,
          787,
          789,
          792,
          794,
          799,
          803,
          808,
          809,
          810,
          816,
          818,
          825,
          827,
          828,
          833,
          834,
          841,
          843,
          845,
          850,
          851,
          852,
          853,
          854,
          862,
          863,
          865,
          868,
          870,
          872,
          873,
          882,
          885,
          889,
          890,
          892,
          896,
          902,
          903,
          906,
          910,
          911,
          912,
          916,
          918,
          919,
          922,
          923,
          928,
          932,
          933,
          934,
          938,
          941,
          943,
          944,
          950,
          952,
          954,
          955,
          966,
          967,
          968,
          971,
          977,
          978,
          980,
          983,
          989,
          995,
          996,
          998,
          999
         ],
         "xaxis": "x",
         "y": [
          480.58599999999996,
          501.59799999999996,
          481.7679999999999,
          390.97900000000004,
          551.0799999999999,
          510.7629999999999,
          640.912,
          601.061,
          550.4119999999999,
          422.285,
          372.02,
          551.737,
          651.674,
          601.672,
          591.5380000000001,
          601.822,
          531.213,
          431.385,
          391.974,
          461.73299999999995,
          411.027,
          510.83700000000005,
          341.30999999999995,
          611.084,
          391.651,
          631.95,
          601.5459999999999,
          580.7589999999999,
          421.774,
          550.7749999999999,
          441.882,
          481.98299999999995,
          360.725,
          391.395,
          461.78700000000003,
          350.63599999999997,
          571.627,
          511.50000000000006,
          540.4319999999999,
          442.055,
          531.433,
          410.60599999999994,
          391.22399999999993,
          601.632,
          471.06199999999995,
          431.92299999999994,
          650.681,
          490.8109999999999,
          600.7370000000001,
          471.142,
          580.434,
          491.72199999999987,
          441.85699999999997,
          491.8109999999999,
          400.76099999999997,
          591.571,
          441.59700000000004,
          631.978,
          450.4659999999999,
          571.6669999999999,
          431.98699999999997,
          601.663,
          381.87199999999996,
          501.59999999999997,
          341.38499999999993,
          591.0010000000001,
          651.6349999999999,
          541.6659999999999,
          531.8430000000001,
          511.572,
          610.6999999999999,
          651.728,
          582.038,
          600.764,
          411.18,
          461.38399999999996,
          501.1029999999999,
          591.7610000000001,
          390.94199999999995,
          590.9180000000001,
          490.7269999999999,
          581.855,
          620.885,
          562.013,
          410.795,
          580.977,
          401.03799999999995,
          340.58399999999995,
          460.48799999999994,
          531.396,
          510.74399999999997,
          501.4789999999999,
          401.08500000000004,
          381.69300000000004,
          380.91499999999996,
          641.573,
          491.27399999999994,
          491.29999999999995,
          480.65099999999995,
          501.59299999999996,
          570.5609999999999,
          500.4399999999999,
          421.22,
          521.7230000000001,
          471.26,
          602.188,
          630.9590000000001,
          421.637,
          581.885,
          660.93,
          461.35499999999996,
          340.938,
          531.005,
          400.128,
          630.9050000000001,
          510.942,
          431.10099999999994,
          411.78,
          481.39799999999997,
          401.684,
          490.9959999999999,
          421.80400000000003,
          370.81899999999996,
          580.7409999999999,
          441.9959999999999,
          660.156,
          541.9549999999999,
          491.162,
          660.955,
          610.6579999999999,
          610.9879999999999,
          400.106,
          461.575,
          481.01800000000003,
          430.924,
          661.7750000000001,
          450.96199999999993,
          581.883,
          531.0160000000001,
          450.5179999999999,
          450.70699999999994,
          410.77299999999997,
          561.4,
          660.6800000000001,
          450.51199999999994,
          480.33399999999995,
          411.88399999999996,
          481.617,
          391.645,
          561.979,
          372.001,
          410.7269999999999,
          571.269,
          480.546,
          401.133,
          520.4,
          520.634,
          400.363,
          660.467,
          421.376,
          431.92099999999994,
          561.2180000000001,
          571.086,
          371.66499999999996,
          561.1220000000001,
          381.46999999999997,
          401.664,
          421.695,
          430.55899999999997,
          390.41499999999996,
          541.14,
          350.86799999999994,
          361.145,
          420.37399999999997,
          621.605,
          631.0600000000001,
          411.54499999999996,
          470.919,
          511.826,
          390.41499999999996,
          441.4529999999999,
          541.3929999999999,
          480.957,
          381.19500000000005,
          531.181,
          660.903,
          611.0759999999999,
          371.665,
          561.783,
          451.5319999999999,
          441.90200000000004,
          410.40599999999995,
          401.15599999999995,
          381.731,
          551.6679999999999,
          351.554,
          600.965,
          531.3599999999999,
          420.718,
          381.286,
          351.561,
          620.922,
          342.13899999999995,
          550.99,
          590.552,
          611.074,
          640.2739999999999,
          561.7220000000001,
          531.6670000000001,
          441.507,
          531.3129999999999,
          621.068,
          561.605,
          531.516,
          661.535,
          641.078,
          561.726,
          600.213,
          660.587,
          390.97599999999994,
          391.844,
          620.6769999999999,
          410.78299999999996,
          400.94999999999993,
          420.83799999999997,
          481.941,
          632.112,
          351.019,
          430.32199999999995,
          541.614,
          591.857,
          421.681,
          391.68199999999996,
          371.57500000000005,
          471.62899999999996,
          371.87,
          421.1650000000001,
          361.33099999999996,
          451.1929999999999,
          660.2180000000001,
          491.4219999999999,
          581.7139999999999,
          500.3209999999999,
          500.80899999999997,
          431.197,
          511.40099999999995,
          610.658,
          540.7279999999998,
          481.93499999999995,
          361.3759999999999,
          370.401,
          461.69599999999997,
          661.4920000000001,
          631.399,
          500.92799999999994,
          600.6800000000001,
          561.689,
          660.7900000000001,
          651.9479999999999,
          481.58899999999994,
          451.58199999999994,
          400.423,
          421.336,
          470.99100000000004,
          350.9200000000001,
          441.408,
          351.987,
          640.7059999999999,
          631.7930000000001,
          551.4689999999999,
          581.429,
          430.42199999999997,
          440.796,
          571.445,
          451.1809999999999,
          631.8760000000001,
          460.27699999999993,
          480.792,
          420.68399999999997,
          390.37699999999995,
          641.398,
          391.68100000000004,
          620.591,
          401.152,
          580.8449999999999,
          521.4999999999999,
          441.835,
          531.252,
          491.2319999999999,
          351.09799999999996,
          511.303,
          571.197,
          400.28599999999994,
          510.752,
          351.416,
          630.8939999999999,
          620.944,
          431.04699999999997,
          461.216,
          651.4,
          510.98699999999997,
          601.605,
          480.37699999999995,
          531.2669999999999,
          441.39099999999996,
          541.1419999999999,
          521.591,
          340.674,
          650.3739999999999,
          490.6859999999999,
          451.64799999999997,
          442.038,
          601.379,
          610.755,
          491.294,
          550.5569999999999,
          461.73999999999995,
          361.82899999999995,
          351.32300000000004,
          590.5319999999999,
          451.60599999999994,
          461.14000000000004,
          451.37199999999996,
          650.6809999999999,
          400.84599999999995,
          361.10099999999994
         ],
         "yaxis": "y"
        },
        {
         "hovertemplate": "Segment=0<br>index=%{x}<br>Credit Score=%{y}<extra></extra>",
         "legendgroup": "0",
         "marker": {
          "color": "yellow",
          "symbol": "circle"
         },
         "mode": "markers",
         "name": "0",
         "orientation": "v",
         "showlegend": true,
         "type": "scatter",
         "x": [
          4,
          8,
          10,
          11,
          16,
          18,
          21,
          24,
          27,
          28,
          30,
          31,
          33,
          34,
          44,
          46,
          47,
          50,
          51,
          53,
          56,
          57,
          61,
          65,
          76,
          77,
          78,
          84,
          85,
          91,
          92,
          93,
          96,
          98,
          99,
          105,
          109,
          110,
          112,
          113,
          114,
          122,
          126,
          128,
          134,
          136,
          142,
          151,
          152,
          158,
          161,
          166,
          168,
          170,
          172,
          174,
          179,
          182,
          184,
          187,
          188,
          194,
          196,
          202,
          204,
          205,
          208,
          210,
          214,
          216,
          219,
          222,
          227,
          230,
          232,
          237,
          238,
          239,
          245,
          246,
          248,
          252,
          254,
          256,
          257,
          258,
          261,
          266,
          267,
          272,
          273,
          275,
          276,
          282,
          283,
          290,
          291,
          297,
          299,
          309,
          318,
          319,
          320,
          323,
          324,
          327,
          334,
          337,
          339,
          344,
          347,
          348,
          354,
          359,
          361,
          366,
          367,
          369,
          370,
          375,
          377,
          379,
          382,
          384,
          385,
          388,
          389,
          390,
          393,
          399,
          400,
          404,
          408,
          410,
          413,
          414,
          417,
          422,
          424,
          425,
          427,
          432,
          435,
          436,
          437,
          438,
          448,
          449,
          452,
          453,
          454,
          455,
          457,
          459,
          462,
          463,
          465,
          472,
          475,
          476,
          486,
          493,
          495,
          499,
          502,
          505,
          511,
          512,
          515,
          516,
          520,
          521,
          522,
          523,
          524,
          525,
          527,
          531,
          532,
          534,
          540,
          541,
          542,
          550,
          558,
          575,
          578,
          582,
          584,
          585,
          586,
          588,
          592,
          595,
          597,
          599,
          601,
          607,
          609,
          610,
          613,
          618,
          621,
          624,
          625,
          627,
          628,
          631,
          634,
          635,
          636,
          645,
          650,
          653,
          658,
          659,
          662,
          666,
          670,
          673,
          674,
          680,
          682,
          687,
          691,
          704,
          706,
          707,
          709,
          710,
          714,
          716,
          719,
          720,
          723,
          729,
          732,
          733,
          739,
          741,
          742,
          743,
          747,
          751,
          754,
          757,
          758,
          759,
          764,
          767,
          771,
          773,
          776,
          777,
          778,
          781,
          783,
          784,
          793,
          795,
          797,
          800,
          805,
          811,
          814,
          817,
          820,
          824,
          826,
          830,
          832,
          835,
          837,
          838,
          839,
          844,
          847,
          848,
          849,
          857,
          861,
          864,
          866,
          867,
          871,
          876,
          877,
          878,
          879,
          884,
          887,
          897,
          900,
          904,
          905,
          907,
          908,
          914,
          915,
          917,
          924,
          925,
          927,
          929,
          930,
          931,
          935,
          936,
          937,
          946,
          947,
          951,
          956,
          959,
          961,
          963,
          964,
          965,
          969,
          973,
          974,
          975,
          979,
          981,
          982,
          986,
          990,
          993
         ],
         "xaxis": "x",
         "y": [
          290.79699999999997,
          280.96999999999997,
          201.53699999999998,
          250.80299999999997,
          271.801,
          130.952,
          270.55699999999996,
          301.116,
          190.87199999999999,
          61.022999999999996,
          50.993,
          30.763999999999996,
          81.049,
          330.424,
          301.413,
          1.1139999999999999,
          31.331999999999997,
          80.316,
          271.48299999999995,
          151.78,
          231.70499999999996,
          100.73499999999999,
          161.313,
          120.68799999999997,
          150.68799999999996,
          181.588,
          1.131,
          311.72900000000004,
          181.17299999999994,
          281.592,
          331.725,
          81.366,
          240.57,
          180.54999999999995,
          20.977,
          161.62199999999999,
          30.438999999999997,
          60.779999999999994,
          50.900999999999996,
          1.799,
          21.561999999999998,
          50.595,
          231.058,
          211.63099999999997,
          301.43399999999997,
          101.79799999999999,
          231.92899999999997,
          91.246,
          70.729,
          180.63499999999996,
          330.92900000000003,
          141.44899999999998,
          191.14299999999997,
          310.944,
          101.238,
          120.966,
          111.706,
          281.133,
          211.262,
          171.354,
          150.70799999999997,
          190.876,
          111.80499999999998,
          210.88699999999997,
          1.8969999999999998,
          121.58299999999998,
          290.776,
          170.77800000000002,
          231.439,
          170.814,
          251.68499999999997,
          191.225,
          50.620999999999995,
          331.438,
          231.14299999999997,
          271.132,
          150.96099999999996,
          72.04299999999999,
          201.58599999999998,
          320.795,
          151.052,
          261.41400000000004,
          221.76499999999996,
          260.474,
          300.78499999999997,
          170.20299999999997,
          0.572,
          70.99700000000001,
          170.93,
          170.79000000000002,
          90.377,
          190.33399999999997,
          251.79199999999997,
          181.81799999999996,
          170.58999999999997,
          212.082,
          300.634,
          211.385,
          182.02299999999997,
          271.7879999999999,
          212.12800000000001,
          41.964,
          281.219,
          321.814,
          151.58199999999997,
          261.15,
          311.448,
          20.775000000000002,
          120.73499999999999,
          171.54000000000002,
          71.115,
          41.425,
          271.35499999999996,
          321.46500000000003,
          131.17899999999997,
          240.97099999999998,
          210.93800000000002,
          171.658,
          41.713,
          221.312,
          270.592,
          171.47699999999998,
          21.189,
          51.57599999999999,
          290.64399999999995,
          321.115,
          200.784,
          110.753,
          300.31199999999995,
          271.84299999999996,
          250.96299999999994,
          301.26500000000004,
          321.46599999999995,
          101.33500000000001,
          130.40099999999998,
          190.278,
          330.86099999999993,
          130.706,
          91.83399999999997,
          41.222,
          140.766,
          331.53999999999996,
          41.757000000000005,
          90.68299999999999,
          72.337,
          241.41699999999994,
          101.489,
          171.38899999999998,
          190.50699999999998,
          21.285,
          180.66899999999998,
          61.436,
          20.778999999999996,
          280.83500000000004,
          180.34599999999998,
          31.589,
          201.19099999999997,
          50.715,
          311.38000000000005,
          41.845,
          190.97099999999998,
          181.046,
          251.84899999999996,
          302.227,
          111.09799999999998,
          31.008,
          110.86699999999998,
          11.461999999999998,
          320.33399999999995,
          301.78399999999993,
          322.14,
          231.357,
          280.985,
          111.78799999999998,
          91.84799999999998,
          71.44900000000001,
          321.471,
          131.35999999999999,
          301.55,
          181.41199999999995,
          41.883,
          151.32199999999997,
          191.13299999999995,
          51.494,
          80.98499999999999,
          81.747,
          211.82999999999998,
          151.022,
          320.38599999999997,
          30.551,
          121.571,
          291.5129999999999,
          251.20799999999997,
          191.054,
          41.088,
          331.11799999999994,
          310.96799999999996,
          321.923,
          300.93799999999993,
          322.09499999999997,
          111.44799999999998,
          301.486,
          231.54199999999997,
          251.24099999999996,
          150.635,
          180.50399999999996,
          171.153,
          161.114,
          201.49099999999996,
          180.95499999999998,
          1.8499999999999999,
          51.174,
          240.29199999999997,
          131.499,
          201.90099999999998,
          330.908,
          201.07299999999998,
          211.84400000000002,
          31.447999999999997,
          131.372,
          161.36799999999997,
          191.40099999999998,
          241.51799999999997,
          150.564,
          0.741,
          120.43899999999998,
          70.58600000000001,
          71.88,
          81.67999999999999,
          231.136,
          51.335,
          241.53699999999995,
          160.79199999999997,
          190.88699999999997,
          301.435,
          261.416,
          170.53699999999998,
          241.60899999999995,
          221.533,
          271.36899999999997,
          321.135,
          241.22,
          0.665,
          271.321,
          311.579,
          281.90999999999997,
          180.71499999999995,
          251.14799999999997,
          91.59699999999998,
          111.28599999999999,
          270.77099999999996,
          10.578,
          170.55200000000002,
          240.42299999999997,
          101.47200000000001,
          281.481,
          110.636,
          1.424,
          301.509,
          122.00699999999999,
          150.74099999999996,
          50.53,
          121.13099999999999,
          11.429,
          141.551,
          101.547,
          41.172000000000004,
          251.54599999999996,
          290.889,
          110.77399999999999,
          321.815,
          201.804,
          61.111000000000004,
          330.514,
          221.04099999999997,
          10.482999999999999,
          280.65,
          141.864,
          100.408,
          200.552,
          281.63599999999997,
          40.760000000000005,
          121.20999999999998,
          41.427,
          110.60799999999999,
          251.48099999999997,
          191.41199999999998,
          270.7939999999999,
          100.881,
          241.85499999999996,
          120.48599999999999,
          230.72799999999998,
          31.557,
          81.77,
          231.35899999999998,
          270.513,
          251.34299999999996,
          50.564,
          150.72399999999996,
          310.81800000000004,
          60.366,
          281.467,
          180.71999999999997,
          211.009,
          11.408,
          280.944,
          201.068,
          1.3970000000000002,
          181.01299999999995,
          260.13,
          302.19399999999996,
          201.35299999999998,
          40.375,
          91.415,
          290.38599999999997,
          330.091,
          71.17299999999999,
          101.722,
          161.47399999999996,
          180.596,
          100.31400000000001,
          231.26299999999998,
          321.981,
          330.982,
          40.583000000000006,
          30.723,
          91.318,
          41.379999999999995
         ],
         "yaxis": "y"
        }
       ],
       "layout": {
        "legend": {
         "title": {
          "text": "Segment"
         },
         "tracegroupgap": 0
        },
        "margin": {
         "t": 60
        },
        "template": {
         "data": {
          "bar": [
           {
            "error_x": {
             "color": "#2a3f5f"
            },
            "error_y": {
             "color": "#2a3f5f"
            },
            "marker": {
             "line": {
              "color": "white",
              "width": 0.5
             },
             "pattern": {
              "fillmode": "overlay",
              "size": 10,
              "solidity": 0.2
             }
            },
            "type": "bar"
           }
          ],
          "barpolar": [
           {
            "marker": {
             "line": {
              "color": "white",
              "width": 0.5
             },
             "pattern": {
              "fillmode": "overlay",
              "size": 10,
              "solidity": 0.2
             }
            },
            "type": "barpolar"
           }
          ],
          "carpet": [
           {
            "aaxis": {
             "endlinecolor": "#2a3f5f",
             "gridcolor": "#C8D4E3",
             "linecolor": "#C8D4E3",
             "minorgridcolor": "#C8D4E3",
             "startlinecolor": "#2a3f5f"
            },
            "baxis": {
             "endlinecolor": "#2a3f5f",
             "gridcolor": "#C8D4E3",
             "linecolor": "#C8D4E3",
             "minorgridcolor": "#C8D4E3",
             "startlinecolor": "#2a3f5f"
            },
            "type": "carpet"
           }
          ],
          "choropleth": [
           {
            "colorbar": {
             "outlinewidth": 0,
             "ticks": ""
            },
            "type": "choropleth"
           }
          ],
          "contour": [
           {
            "colorbar": {
             "outlinewidth": 0,
             "ticks": ""
            },
            "colorscale": [
             [
              0,
              "#0d0887"
             ],
             [
              0.1111111111111111,
              "#46039f"
             ],
             [
              0.2222222222222222,
              "#7201a8"
             ],
             [
              0.3333333333333333,
              "#9c179e"
             ],
             [
              0.4444444444444444,
              "#bd3786"
             ],
             [
              0.5555555555555556,
              "#d8576b"
             ],
             [
              0.6666666666666666,
              "#ed7953"
             ],
             [
              0.7777777777777778,
              "#fb9f3a"
             ],
             [
              0.8888888888888888,
              "#fdca26"
             ],
             [
              1,
              "#f0f921"
             ]
            ],
            "type": "contour"
           }
          ],
          "contourcarpet": [
           {
            "colorbar": {
             "outlinewidth": 0,
             "ticks": ""
            },
            "type": "contourcarpet"
           }
          ],
          "heatmap": [
           {
            "colorbar": {
             "outlinewidth": 0,
             "ticks": ""
            },
            "colorscale": [
             [
              0,
              "#0d0887"
             ],
             [
              0.1111111111111111,
              "#46039f"
             ],
             [
              0.2222222222222222,
              "#7201a8"
             ],
             [
              0.3333333333333333,
              "#9c179e"
             ],
             [
              0.4444444444444444,
              "#bd3786"
             ],
             [
              0.5555555555555556,
              "#d8576b"
             ],
             [
              0.6666666666666666,
              "#ed7953"
             ],
             [
              0.7777777777777778,
              "#fb9f3a"
             ],
             [
              0.8888888888888888,
              "#fdca26"
             ],
             [
              1,
              "#f0f921"
             ]
            ],
            "type": "heatmap"
           }
          ],
          "heatmapgl": [
           {
            "colorbar": {
             "outlinewidth": 0,
             "ticks": ""
            },
            "colorscale": [
             [
              0,
              "#0d0887"
             ],
             [
              0.1111111111111111,
              "#46039f"
             ],
             [
              0.2222222222222222,
              "#7201a8"
             ],
             [
              0.3333333333333333,
              "#9c179e"
             ],
             [
              0.4444444444444444,
              "#bd3786"
             ],
             [
              0.5555555555555556,
              "#d8576b"
             ],
             [
              0.6666666666666666,
              "#ed7953"
             ],
             [
              0.7777777777777778,
              "#fb9f3a"
             ],
             [
              0.8888888888888888,
              "#fdca26"
             ],
             [
              1,
              "#f0f921"
             ]
            ],
            "type": "heatmapgl"
           }
          ],
          "histogram": [
           {
            "marker": {
             "pattern": {
              "fillmode": "overlay",
              "size": 10,
              "solidity": 0.2
             }
            },
            "type": "histogram"
           }
          ],
          "histogram2d": [
           {
            "colorbar": {
             "outlinewidth": 0,
             "ticks": ""
            },
            "colorscale": [
             [
              0,
              "#0d0887"
             ],
             [
              0.1111111111111111,
              "#46039f"
             ],
             [
              0.2222222222222222,
              "#7201a8"
             ],
             [
              0.3333333333333333,
              "#9c179e"
             ],
             [
              0.4444444444444444,
              "#bd3786"
             ],
             [
              0.5555555555555556,
              "#d8576b"
             ],
             [
              0.6666666666666666,
              "#ed7953"
             ],
             [
              0.7777777777777778,
              "#fb9f3a"
             ],
             [
              0.8888888888888888,
              "#fdca26"
             ],
             [
              1,
              "#f0f921"
             ]
            ],
            "type": "histogram2d"
           }
          ],
          "histogram2dcontour": [
           {
            "colorbar": {
             "outlinewidth": 0,
             "ticks": ""
            },
            "colorscale": [
             [
              0,
              "#0d0887"
             ],
             [
              0.1111111111111111,
              "#46039f"
             ],
             [
              0.2222222222222222,
              "#7201a8"
             ],
             [
              0.3333333333333333,
              "#9c179e"
             ],
             [
              0.4444444444444444,
              "#bd3786"
             ],
             [
              0.5555555555555556,
              "#d8576b"
             ],
             [
              0.6666666666666666,
              "#ed7953"
             ],
             [
              0.7777777777777778,
              "#fb9f3a"
             ],
             [
              0.8888888888888888,
              "#fdca26"
             ],
             [
              1,
              "#f0f921"
             ]
            ],
            "type": "histogram2dcontour"
           }
          ],
          "mesh3d": [
           {
            "colorbar": {
             "outlinewidth": 0,
             "ticks": ""
            },
            "type": "mesh3d"
           }
          ],
          "parcoords": [
           {
            "line": {
             "colorbar": {
              "outlinewidth": 0,
              "ticks": ""
             }
            },
            "type": "parcoords"
           }
          ],
          "pie": [
           {
            "automargin": true,
            "type": "pie"
           }
          ],
          "scatter": [
           {
            "fillpattern": {
             "fillmode": "overlay",
             "size": 10,
             "solidity": 0.2
            },
            "type": "scatter"
           }
          ],
          "scatter3d": [
           {
            "line": {
             "colorbar": {
              "outlinewidth": 0,
              "ticks": ""
             }
            },
            "marker": {
             "colorbar": {
              "outlinewidth": 0,
              "ticks": ""
             }
            },
            "type": "scatter3d"
           }
          ],
          "scattercarpet": [
           {
            "marker": {
             "colorbar": {
              "outlinewidth": 0,
              "ticks": ""
             }
            },
            "type": "scattercarpet"
           }
          ],
          "scattergeo": [
           {
            "marker": {
             "colorbar": {
              "outlinewidth": 0,
              "ticks": ""
             }
            },
            "type": "scattergeo"
           }
          ],
          "scattergl": [
           {
            "marker": {
             "colorbar": {
              "outlinewidth": 0,
              "ticks": ""
             }
            },
            "type": "scattergl"
           }
          ],
          "scattermapbox": [
           {
            "marker": {
             "colorbar": {
              "outlinewidth": 0,
              "ticks": ""
             }
            },
            "type": "scattermapbox"
           }
          ],
          "scatterpolar": [
           {
            "marker": {
             "colorbar": {
              "outlinewidth": 0,
              "ticks": ""
             }
            },
            "type": "scatterpolar"
           }
          ],
          "scatterpolargl": [
           {
            "marker": {
             "colorbar": {
              "outlinewidth": 0,
              "ticks": ""
             }
            },
            "type": "scatterpolargl"
           }
          ],
          "scatterternary": [
           {
            "marker": {
             "colorbar": {
              "outlinewidth": 0,
              "ticks": ""
             }
            },
            "type": "scatterternary"
           }
          ],
          "surface": [
           {
            "colorbar": {
             "outlinewidth": 0,
             "ticks": ""
            },
            "colorscale": [
             [
              0,
              "#0d0887"
             ],
             [
              0.1111111111111111,
              "#46039f"
             ],
             [
              0.2222222222222222,
              "#7201a8"
             ],
             [
              0.3333333333333333,
              "#9c179e"
             ],
             [
              0.4444444444444444,
              "#bd3786"
             ],
             [
              0.5555555555555556,
              "#d8576b"
             ],
             [
              0.6666666666666666,
              "#ed7953"
             ],
             [
              0.7777777777777778,
              "#fb9f3a"
             ],
             [
              0.8888888888888888,
              "#fdca26"
             ],
             [
              1,
              "#f0f921"
             ]
            ],
            "type": "surface"
           }
          ],
          "table": [
           {
            "cells": {
             "fill": {
              "color": "#EBF0F8"
             },
             "line": {
              "color": "white"
             }
            },
            "header": {
             "fill": {
              "color": "#C8D4E3"
             },
             "line": {
              "color": "white"
             }
            },
            "type": "table"
           }
          ]
         },
         "layout": {
          "annotationdefaults": {
           "arrowcolor": "#2a3f5f",
           "arrowhead": 0,
           "arrowwidth": 1
          },
          "autotypenumbers": "strict",
          "coloraxis": {
           "colorbar": {
            "outlinewidth": 0,
            "ticks": ""
           }
          },
          "colorscale": {
           "diverging": [
            [
             0,
             "#8e0152"
            ],
            [
             0.1,
             "#c51b7d"
            ],
            [
             0.2,
             "#de77ae"
            ],
            [
             0.3,
             "#f1b6da"
            ],
            [
             0.4,
             "#fde0ef"
            ],
            [
             0.5,
             "#f7f7f7"
            ],
            [
             0.6,
             "#e6f5d0"
            ],
            [
             0.7,
             "#b8e186"
            ],
            [
             0.8,
             "#7fbc41"
            ],
            [
             0.9,
             "#4d9221"
            ],
            [
             1,
             "#276419"
            ]
           ],
           "sequential": [
            [
             0,
             "#0d0887"
            ],
            [
             0.1111111111111111,
             "#46039f"
            ],
            [
             0.2222222222222222,
             "#7201a8"
            ],
            [
             0.3333333333333333,
             "#9c179e"
            ],
            [
             0.4444444444444444,
             "#bd3786"
            ],
            [
             0.5555555555555556,
             "#d8576b"
            ],
            [
             0.6666666666666666,
             "#ed7953"
            ],
            [
             0.7777777777777778,
             "#fb9f3a"
            ],
            [
             0.8888888888888888,
             "#fdca26"
            ],
            [
             1,
             "#f0f921"
            ]
           ],
           "sequentialminus": [
            [
             0,
             "#0d0887"
            ],
            [
             0.1111111111111111,
             "#46039f"
            ],
            [
             0.2222222222222222,
             "#7201a8"
            ],
            [
             0.3333333333333333,
             "#9c179e"
            ],
            [
             0.4444444444444444,
             "#bd3786"
            ],
            [
             0.5555555555555556,
             "#d8576b"
            ],
            [
             0.6666666666666666,
             "#ed7953"
            ],
            [
             0.7777777777777778,
             "#fb9f3a"
            ],
            [
             0.8888888888888888,
             "#fdca26"
            ],
            [
             1,
             "#f0f921"
            ]
           ]
          },
          "colorway": [
           "#636efa",
           "#EF553B",
           "#00cc96",
           "#ab63fa",
           "#FFA15A",
           "#19d3f3",
           "#FF6692",
           "#B6E880",
           "#FF97FF",
           "#FECB52"
          ],
          "font": {
           "color": "#2a3f5f"
          },
          "geo": {
           "bgcolor": "white",
           "lakecolor": "white",
           "landcolor": "white",
           "showlakes": true,
           "showland": true,
           "subunitcolor": "#C8D4E3"
          },
          "hoverlabel": {
           "align": "left"
          },
          "hovermode": "closest",
          "mapbox": {
           "style": "light"
          },
          "paper_bgcolor": "white",
          "plot_bgcolor": "white",
          "polar": {
           "angularaxis": {
            "gridcolor": "#EBF0F8",
            "linecolor": "#EBF0F8",
            "ticks": ""
           },
           "bgcolor": "white",
           "radialaxis": {
            "gridcolor": "#EBF0F8",
            "linecolor": "#EBF0F8",
            "ticks": ""
           }
          },
          "scene": {
           "xaxis": {
            "backgroundcolor": "white",
            "gridcolor": "#DFE8F3",
            "gridwidth": 2,
            "linecolor": "#EBF0F8",
            "showbackground": true,
            "ticks": "",
            "zerolinecolor": "#EBF0F8"
           },
           "yaxis": {
            "backgroundcolor": "white",
            "gridcolor": "#DFE8F3",
            "gridwidth": 2,
            "linecolor": "#EBF0F8",
            "showbackground": true,
            "ticks": "",
            "zerolinecolor": "#EBF0F8"
           },
           "zaxis": {
            "backgroundcolor": "white",
            "gridcolor": "#DFE8F3",
            "gridwidth": 2,
            "linecolor": "#EBF0F8",
            "showbackground": true,
            "ticks": "",
            "zerolinecolor": "#EBF0F8"
           }
          },
          "shapedefaults": {
           "line": {
            "color": "#2a3f5f"
           }
          },
          "ternary": {
           "aaxis": {
            "gridcolor": "#DFE8F3",
            "linecolor": "#A2B1C6",
            "ticks": ""
           },
           "baxis": {
            "gridcolor": "#DFE8F3",
            "linecolor": "#A2B1C6",
            "ticks": ""
           },
           "bgcolor": "white",
           "caxis": {
            "gridcolor": "#DFE8F3",
            "linecolor": "#A2B1C6",
            "ticks": ""
           }
          },
          "title": {
           "x": 0.05
          },
          "xaxis": {
           "automargin": true,
           "gridcolor": "#EBF0F8",
           "linecolor": "#EBF0F8",
           "ticks": "",
           "title": {
            "standoff": 15
           },
           "zerolinecolor": "#EBF0F8",
           "zerolinewidth": 2
          },
          "yaxis": {
           "automargin": true,
           "gridcolor": "#EBF0F8",
           "linecolor": "#EBF0F8",
           "ticks": "",
           "title": {
            "standoff": 15
           },
           "zerolinecolor": "#EBF0F8",
           "zerolinewidth": 2
          }
         }
        },
        "title": {
         "text": "Customer Segmentation based on Credit Scores"
        },
        "xaxis": {
         "anchor": "y",
         "domain": [
          0,
          1
         ],
         "title": {
          "text": "Customer Index"
         }
        },
        "yaxis": {
         "anchor": "x",
         "domain": [
          0,
          1
         ],
         "title": {
          "text": "Credit Score"
         }
        }
       }
      }
     },
     "metadata": {},
     "output_type": "display_data"
    }
   ],
   "source": [
    "# Convert the 'Segment' column to category data type\n",
    "data['Segment'] = data['Segment'].astype('category')\n",
    "\n",
    "# Visualize the segments using Plotly\n",
    "fig = px.scatter(data, x=data.index, y='Credit Score', color='Segment',color_discrete_sequence=['green', 'blue', 'yellow', ])\n",
    "fig.update_layout(xaxis_title='Customer Index',yaxis_title='Credit Score',title='Customer Segmentation based on Credit Scores')\n",
    "fig.show()"
   ]
  },
  {
   "cell_type": "code",
   "execution_count": 220,
   "metadata": {},
   "outputs": [
    {
     "data": {
      "application/vnd.plotly.v1+json": {
       "config": {
        "plotlyServerURL": "https://plot.ly"
       },
       "data": [
        {
         "hovertemplate": "Segment=Excellent<br>index=%{x}<br>Credit Score=%{y}<extra></extra>",
         "legendgroup": "Excellent",
         "marker": {
          "color": "green",
          "symbol": "circle"
         },
         "mode": "markers",
         "name": "Excellent",
         "orientation": "v",
         "showlegend": true,
         "type": "scatter",
         "x": [
          0,
          1,
          2,
          5,
          6,
          13,
          14,
          15,
          19,
          22,
          23,
          26,
          29,
          41,
          48,
          60,
          63,
          64,
          66,
          67,
          70,
          71,
          72,
          73,
          74,
          75,
          79,
          94,
          97,
          102,
          103,
          104,
          108,
          117,
          118,
          121,
          124,
          125,
          127,
          129,
          130,
          135,
          138,
          140,
          144,
          147,
          148,
          149,
          153,
          154,
          155,
          156,
          167,
          169,
          171,
          173,
          175,
          177,
          178,
          183,
          186,
          192,
          193,
          195,
          197,
          200,
          201,
          203,
          209,
          211,
          212,
          213,
          220,
          221,
          223,
          224,
          233,
          236,
          240,
          242,
          244,
          247,
          249,
          250,
          253,
          255,
          264,
          265,
          274,
          278,
          280,
          281,
          284,
          285,
          286,
          288,
          292,
          295,
          298,
          300,
          302,
          304,
          307,
          308,
          310,
          311,
          313,
          314,
          316,
          317,
          322,
          326,
          328,
          332,
          340,
          341,
          342,
          345,
          346,
          350,
          351,
          352,
          355,
          356,
          357,
          358,
          362,
          363,
          364,
          365,
          372,
          373,
          378,
          380,
          381,
          383,
          394,
          395,
          396,
          398,
          402,
          407,
          409,
          416,
          418,
          419,
          420,
          426,
          428,
          431,
          433,
          439,
          441,
          444,
          445,
          447,
          451,
          458,
          461,
          464,
          467,
          468,
          470,
          474,
          477,
          479,
          481,
          483,
          484,
          488,
          489,
          491,
          492,
          494,
          496,
          498,
          504,
          506,
          507,
          508,
          509,
          510,
          513,
          526,
          529,
          533,
          538,
          543,
          544,
          545,
          546,
          547,
          548,
          549,
          551,
          552,
          553,
          555,
          556,
          560,
          563,
          564,
          566,
          568,
          569,
          572,
          576,
          580,
          583,
          587,
          589,
          594,
          596,
          598,
          604,
          606,
          608,
          612,
          614,
          617,
          619,
          620,
          622,
          626,
          637,
          639,
          640,
          642,
          647,
          648,
          649,
          651,
          654,
          661,
          667,
          668,
          669,
          672,
          681,
          683,
          685,
          688,
          689,
          690,
          692,
          695,
          697,
          699,
          701,
          702,
          703,
          711,
          712,
          717,
          721,
          722,
          730,
          734,
          737,
          744,
          746,
          749,
          752,
          753,
          755,
          756,
          763,
          765,
          766,
          768,
          769,
          774,
          780,
          782,
          785,
          786,
          788,
          790,
          791,
          796,
          798,
          801,
          802,
          804,
          806,
          807,
          812,
          813,
          815,
          819,
          821,
          822,
          823,
          829,
          831,
          836,
          840,
          842,
          846,
          855,
          856,
          858,
          859,
          860,
          869,
          874,
          875,
          880,
          881,
          883,
          886,
          888,
          891,
          893,
          894,
          895,
          898,
          899,
          901,
          909,
          913,
          920,
          921,
          926,
          939,
          940,
          942,
          945,
          948,
          949,
          953,
          957,
          958,
          960,
          962,
          970,
          972,
          976,
          984,
          985,
          987,
          988,
          991,
          992,
          994,
          997
         ],
         "xaxis": "x",
         "y": [
          940.5159999999998,
          831.3599999999999,
          971.2159999999999,
          820.5819999999999,
          980.4459999999999,
          700.9480000000001,
          831.5499999999998,
          750.5649999999999,
          700.732,
          671.026,
          720.986,
          831.7939999999999,
          710.5629999999999,
          880.5949999999999,
          840.6270000000001,
          921.644,
          870.574,
          791.1299999999999,
          761.485,
          801.8870000000001,
          731.738,
          741.6039999999999,
          881.3990000000001,
          981.5859999999998,
          961.208,
          801.759,
          971.899,
          680.419,
          1002.1469999999999,
          741.8360000000001,
          981.645,
          850.979,
          890.9039999999999,
          820.6550000000001,
          801.4350000000001,
          730.9230000000001,
          771.005,
          821.068,
          691.7529999999999,
          1001.8410000000001,
          771.196,
          801.662,
          691.1619999999998,
          820.9119999999999,
          951.1030000000001,
          901.581,
          911.551,
          911.2049999999999,
          811.725,
          921.798,
          731.1629999999999,
          880.785,
          671.644,
          841.4990000000001,
          921.318,
          941.6829999999999,
          820.346,
          691.997,
          821.069,
          760.6539999999999,
          740.8249999999999,
          861.3299999999998,
          750.718,
          711.523,
          710.816,
          940.558,
          721.019,
          800.6730000000001,
          750.838,
          761.4309999999998,
          741.607,
          810.9630000000001,
          1001.514,
          900.688,
          681.71,
          861.3939999999999,
          880.9420000000001,
          721.784,
          860.8469999999999,
          980.9889999999998,
          730.802,
          900.7479999999999,
          990.792,
          950.713,
          811.972,
          911.8369999999999,
          1001.1869999999999,
          691.0559999999999,
          731.351,
          981.959,
          721.76,
          770.8180000000001,
          881.143,
          720.6159999999999,
          931.151,
          870.945,
          842.087,
          691.3009999999999,
          930.5279999999999,
          831.6279999999999,
          870.808,
          672.134,
          730.6650000000001,
          820.7230000000001,
          771.245,
          831.1129999999998,
          1001.509,
          921.872,
          871.036,
          911.0459999999999,
          930.9689999999999,
          770.95,
          920.2239999999999,
          991.3829999999999,
          911.492,
          961.0519999999999,
          701.372,
          871.063,
          741.868,
          901.5229999999999,
          941.588,
          900.799,
          821.7719999999999,
          981.5729999999999,
          981.601,
          891.3129999999999,
          951.216,
          731.562,
          780.904,
          921.63,
          961.454,
          971.6619999999999,
          861.483,
          810.741,
          740.9300000000001,
          1001.8799999999999,
          900.3559999999999,
          730.5790000000001,
          681.588,
          890.9119999999999,
          671.189,
          921.0559999999999,
          861.786,
          801.63,
          961.276,
          711.3729999999999,
          780.978,
          930.6479999999999,
          881.474,
          691.4209999999999,
          920.4719999999999,
          861.424,
          690.8219999999999,
          930.9259999999998,
          731.419,
          931.3149999999999,
          981.2479999999998,
          800.905,
          670.8629999999999,
          991.3240000000001,
          781.7929999999999,
          940.262,
          891.484,
          690.858,
          891.6979999999999,
          671.159,
          781.243,
          701.2900000000001,
          861.7990000000001,
          1000.5329999999999,
          671.369,
          841.106,
          981.8589999999999,
          860.5409999999999,
          901.8539999999999,
          772.1310000000001,
          781.7239999999999,
          841.215,
          820.153,
          892.067,
          770.607,
          721.8439999999999,
          881.951,
          981.5919999999999,
          881.5140000000001,
          1000.418,
          801.48,
          971.749,
          921.47,
          941.2299999999998,
          781.566,
          881.839,
          811.98,
          931.6839999999999,
          960.3739999999999,
          901.54,
          810.4879999999999,
          821.461,
          741.182,
          820.4819999999999,
          900.991,
          900.4629999999999,
          961.9699999999999,
          1001.059,
          772.147,
          751.4289999999999,
          730.3530000000001,
          711.84,
          970.5759999999999,
          901.526,
          920.3369999999999,
          800.85,
          691.4999999999999,
          970.5669999999998,
          851.343,
          671.621,
          951.798,
          921.455,
          981.2799999999999,
          770.541,
          801.226,
          891.1959999999999,
          980.906,
          1001.285,
          870.554,
          821.008,
          981.5219999999998,
          761.5809999999999,
          751.39,
          680.1829999999999,
          771.8910000000001,
          680.952,
          751.947,
          960.54,
          871.72,
          692.1419999999999,
          940.919,
          742.043,
          940.867,
          680.548,
          690.794,
          701.5459999999999,
          830.728,
          1001.1469999999999,
          681.6479999999999,
          891.4680000000001,
          971.0219999999999,
          861.872,
          830.6009999999999,
          920.9279999999999,
          730.3240000000001,
          690.9739999999999,
          710.322,
          700.951,
          780.637,
          881.511,
          891.2789999999999,
          771.7490000000001,
          911.5599999999998,
          841.124,
          861.813,
          800.7460000000001,
          800.996,
          941.103,
          921.512,
          960.4929999999999,
          931.308,
          901.4549999999999,
          860.5889999999999,
          681.1399999999999,
          951.3129999999999,
          971.0799999999999,
          691.0939999999999,
          982.1789999999999,
          750.698,
          761.1379999999999,
          931.458,
          740.6750000000001,
          950.8660000000001,
          680.523,
          710.798,
          791.5389999999999,
          880.854,
          680.381,
          891.8589999999999,
          861.9430000000001,
          950.207,
          971.901,
          721.5219999999999,
          951.492,
          991.475,
          981.15,
          971.5469999999999,
          700.5530000000001,
          691.8709999999999,
          700.913,
          701.0889999999999,
          930.7470000000001,
          880.9680000000001,
          990.658,
          900.888,
          951.8720000000001,
          820.068,
          900.8999999999999,
          991.617,
          891.387,
          850.761,
          960.852,
          731.673,
          740.535,
          702.211,
          740.2819999999999,
          731.351,
          731.036,
          750.8389999999999,
          991.289,
          800.697,
          842.17,
          930.866,
          751.4299999999998,
          921.408,
          730.757,
          841.7590000000001,
          891.457,
          980.9419999999999,
          1001.4539999999998,
          721.286,
          920.539,
          950.7420000000001,
          850.797,
          771.3380000000001,
          812.039,
          670.748,
          710.936,
          730.7710000000001,
          840.62,
          791.8629999999999,
          751.043,
          730.91,
          831.5439999999999,
          920.659,
          771.5400000000001,
          850.8510000000001,
          980.947,
          710.92,
          921.8539999999999
         ],
         "yaxis": "y"
        },
        {
         "hovertemplate": "Segment=Good<br>index=%{x}<br>Credit Score=%{y}<extra></extra>",
         "legendgroup": "Good",
         "marker": {
          "color": "blue",
          "symbol": "circle"
         },
         "mode": "markers",
         "name": "Good",
         "orientation": "v",
         "showlegend": true,
         "type": "scatter",
         "x": [
          3,
          7,
          9,
          12,
          17,
          20,
          25,
          32,
          35,
          36,
          37,
          38,
          39,
          40,
          42,
          43,
          45,
          49,
          52,
          54,
          55,
          58,
          59,
          62,
          68,
          69,
          80,
          81,
          82,
          83,
          86,
          87,
          88,
          89,
          90,
          95,
          100,
          101,
          106,
          107,
          111,
          115,
          116,
          119,
          120,
          123,
          131,
          132,
          133,
          137,
          139,
          141,
          143,
          145,
          146,
          150,
          157,
          159,
          160,
          162,
          163,
          164,
          165,
          176,
          180,
          181,
          185,
          189,
          190,
          191,
          198,
          199,
          206,
          207,
          215,
          217,
          218,
          225,
          226,
          228,
          229,
          231,
          234,
          235,
          241,
          243,
          251,
          259,
          260,
          262,
          263,
          268,
          269,
          270,
          271,
          277,
          279,
          287,
          289,
          293,
          294,
          296,
          301,
          303,
          305,
          306,
          312,
          315,
          321,
          325,
          329,
          330,
          331,
          333,
          335,
          336,
          338,
          343,
          349,
          353,
          360,
          368,
          371,
          374,
          376,
          386,
          387,
          391,
          392,
          397,
          401,
          403,
          405,
          406,
          411,
          412,
          415,
          421,
          423,
          429,
          430,
          434,
          440,
          442,
          443,
          446,
          450,
          456,
          460,
          466,
          469,
          471,
          473,
          478,
          480,
          482,
          485,
          487,
          490,
          497,
          500,
          501,
          503,
          514,
          517,
          518,
          519,
          528,
          530,
          535,
          536,
          537,
          539,
          554,
          557,
          559,
          561,
          562,
          565,
          567,
          570,
          571,
          573,
          574,
          577,
          579,
          581,
          590,
          591,
          593,
          600,
          602,
          603,
          605,
          611,
          615,
          616,
          623,
          629,
          630,
          632,
          633,
          638,
          641,
          643,
          644,
          646,
          652,
          655,
          656,
          657,
          660,
          663,
          664,
          665,
          671,
          675,
          676,
          677,
          678,
          679,
          684,
          686,
          693,
          694,
          696,
          698,
          700,
          705,
          708,
          713,
          715,
          718,
          724,
          725,
          726,
          727,
          728,
          731,
          735,
          736,
          738,
          740,
          745,
          748,
          750,
          760,
          761,
          762,
          770,
          772,
          775,
          779,
          787,
          789,
          792,
          794,
          799,
          803,
          808,
          809,
          810,
          816,
          818,
          825,
          827,
          828,
          833,
          834,
          841,
          843,
          845,
          850,
          851,
          852,
          853,
          854,
          862,
          863,
          865,
          868,
          870,
          872,
          873,
          882,
          885,
          889,
          890,
          892,
          896,
          902,
          903,
          906,
          910,
          911,
          912,
          916,
          918,
          919,
          922,
          923,
          928,
          932,
          933,
          934,
          938,
          941,
          943,
          944,
          950,
          952,
          954,
          955,
          966,
          967,
          968,
          971,
          977,
          978,
          980,
          983,
          989,
          995,
          996,
          998,
          999
         ],
         "xaxis": "x",
         "y": [
          480.58599999999996,
          501.59799999999996,
          481.7679999999999,
          390.97900000000004,
          551.0799999999999,
          510.7629999999999,
          640.912,
          601.061,
          550.4119999999999,
          422.285,
          372.02,
          551.737,
          651.674,
          601.672,
          591.5380000000001,
          601.822,
          531.213,
          431.385,
          391.974,
          461.73299999999995,
          411.027,
          510.83700000000005,
          341.30999999999995,
          611.084,
          391.651,
          631.95,
          601.5459999999999,
          580.7589999999999,
          421.774,
          550.7749999999999,
          441.882,
          481.98299999999995,
          360.725,
          391.395,
          461.78700000000003,
          350.63599999999997,
          571.627,
          511.50000000000006,
          540.4319999999999,
          442.055,
          531.433,
          410.60599999999994,
          391.22399999999993,
          601.632,
          471.06199999999995,
          431.92299999999994,
          650.681,
          490.8109999999999,
          600.7370000000001,
          471.142,
          580.434,
          491.72199999999987,
          441.85699999999997,
          491.8109999999999,
          400.76099999999997,
          591.571,
          441.59700000000004,
          631.978,
          450.4659999999999,
          571.6669999999999,
          431.98699999999997,
          601.663,
          381.87199999999996,
          501.59999999999997,
          341.38499999999993,
          591.0010000000001,
          651.6349999999999,
          541.6659999999999,
          531.8430000000001,
          511.572,
          610.6999999999999,
          651.728,
          582.038,
          600.764,
          411.18,
          461.38399999999996,
          501.1029999999999,
          591.7610000000001,
          390.94199999999995,
          590.9180000000001,
          490.7269999999999,
          581.855,
          620.885,
          562.013,
          410.795,
          580.977,
          401.03799999999995,
          340.58399999999995,
          460.48799999999994,
          531.396,
          510.74399999999997,
          501.4789999999999,
          401.08500000000004,
          381.69300000000004,
          380.91499999999996,
          641.573,
          491.27399999999994,
          491.29999999999995,
          480.65099999999995,
          501.59299999999996,
          570.5609999999999,
          500.4399999999999,
          421.22,
          521.7230000000001,
          471.26,
          602.188,
          630.9590000000001,
          421.637,
          581.885,
          660.93,
          461.35499999999996,
          340.938,
          531.005,
          400.128,
          630.9050000000001,
          510.942,
          431.10099999999994,
          411.78,
          481.39799999999997,
          401.684,
          490.9959999999999,
          421.80400000000003,
          370.81899999999996,
          580.7409999999999,
          441.9959999999999,
          660.156,
          541.9549999999999,
          491.162,
          660.955,
          610.6579999999999,
          610.9879999999999,
          400.106,
          461.575,
          481.01800000000003,
          430.924,
          661.7750000000001,
          450.96199999999993,
          581.883,
          531.0160000000001,
          450.5179999999999,
          450.70699999999994,
          410.77299999999997,
          561.4,
          660.6800000000001,
          450.51199999999994,
          480.33399999999995,
          411.88399999999996,
          481.617,
          391.645,
          561.979,
          372.001,
          410.7269999999999,
          571.269,
          480.546,
          401.133,
          520.4,
          520.634,
          400.363,
          660.467,
          421.376,
          431.92099999999994,
          561.2180000000001,
          571.086,
          371.66499999999996,
          561.1220000000001,
          381.46999999999997,
          401.664,
          421.695,
          430.55899999999997,
          390.41499999999996,
          541.14,
          350.86799999999994,
          361.145,
          420.37399999999997,
          621.605,
          631.0600000000001,
          411.54499999999996,
          470.919,
          511.826,
          390.41499999999996,
          441.4529999999999,
          541.3929999999999,
          480.957,
          381.19500000000005,
          531.181,
          660.903,
          611.0759999999999,
          371.665,
          561.783,
          451.5319999999999,
          441.90200000000004,
          410.40599999999995,
          401.15599999999995,
          381.731,
          551.6679999999999,
          351.554,
          600.965,
          531.3599999999999,
          420.718,
          381.286,
          351.561,
          620.922,
          342.13899999999995,
          550.99,
          590.552,
          611.074,
          640.2739999999999,
          561.7220000000001,
          531.6670000000001,
          441.507,
          531.3129999999999,
          621.068,
          561.605,
          531.516,
          661.535,
          641.078,
          561.726,
          600.213,
          660.587,
          390.97599999999994,
          391.844,
          620.6769999999999,
          410.78299999999996,
          400.94999999999993,
          420.83799999999997,
          481.941,
          632.112,
          351.019,
          430.32199999999995,
          541.614,
          591.857,
          421.681,
          391.68199999999996,
          371.57500000000005,
          471.62899999999996,
          371.87,
          421.1650000000001,
          361.33099999999996,
          451.1929999999999,
          660.2180000000001,
          491.4219999999999,
          581.7139999999999,
          500.3209999999999,
          500.80899999999997,
          431.197,
          511.40099999999995,
          610.658,
          540.7279999999998,
          481.93499999999995,
          361.3759999999999,
          370.401,
          461.69599999999997,
          661.4920000000001,
          631.399,
          500.92799999999994,
          600.6800000000001,
          561.689,
          660.7900000000001,
          651.9479999999999,
          481.58899999999994,
          451.58199999999994,
          400.423,
          421.336,
          470.99100000000004,
          350.9200000000001,
          441.408,
          351.987,
          640.7059999999999,
          631.7930000000001,
          551.4689999999999,
          581.429,
          430.42199999999997,
          440.796,
          571.445,
          451.1809999999999,
          631.8760000000001,
          460.27699999999993,
          480.792,
          420.68399999999997,
          390.37699999999995,
          641.398,
          391.68100000000004,
          620.591,
          401.152,
          580.8449999999999,
          521.4999999999999,
          441.835,
          531.252,
          491.2319999999999,
          351.09799999999996,
          511.303,
          571.197,
          400.28599999999994,
          510.752,
          351.416,
          630.8939999999999,
          620.944,
          431.04699999999997,
          461.216,
          651.4,
          510.98699999999997,
          601.605,
          480.37699999999995,
          531.2669999999999,
          441.39099999999996,
          541.1419999999999,
          521.591,
          340.674,
          650.3739999999999,
          490.6859999999999,
          451.64799999999997,
          442.038,
          601.379,
          610.755,
          491.294,
          550.5569999999999,
          461.73999999999995,
          361.82899999999995,
          351.32300000000004,
          590.5319999999999,
          451.60599999999994,
          461.14000000000004,
          451.37199999999996,
          650.6809999999999,
          400.84599999999995,
          361.10099999999994
         ],
         "yaxis": "y"
        },
        {
         "hovertemplate": "Segment=Low<br>index=%{x}<br>Credit Score=%{y}<extra></extra>",
         "legendgroup": "Low",
         "marker": {
          "color": "yellow",
          "symbol": "circle"
         },
         "mode": "markers",
         "name": "Low",
         "orientation": "v",
         "showlegend": true,
         "type": "scatter",
         "x": [
          4,
          8,
          10,
          11,
          16,
          18,
          21,
          24,
          27,
          28,
          30,
          31,
          33,
          34,
          44,
          46,
          47,
          50,
          51,
          53,
          56,
          57,
          61,
          65,
          76,
          77,
          78,
          84,
          85,
          91,
          92,
          93,
          96,
          98,
          99,
          105,
          109,
          110,
          112,
          113,
          114,
          122,
          126,
          128,
          134,
          136,
          142,
          151,
          152,
          158,
          161,
          166,
          168,
          170,
          172,
          174,
          179,
          182,
          184,
          187,
          188,
          194,
          196,
          202,
          204,
          205,
          208,
          210,
          214,
          216,
          219,
          222,
          227,
          230,
          232,
          237,
          238,
          239,
          245,
          246,
          248,
          252,
          254,
          256,
          257,
          258,
          261,
          266,
          267,
          272,
          273,
          275,
          276,
          282,
          283,
          290,
          291,
          297,
          299,
          309,
          318,
          319,
          320,
          323,
          324,
          327,
          334,
          337,
          339,
          344,
          347,
          348,
          354,
          359,
          361,
          366,
          367,
          369,
          370,
          375,
          377,
          379,
          382,
          384,
          385,
          388,
          389,
          390,
          393,
          399,
          400,
          404,
          408,
          410,
          413,
          414,
          417,
          422,
          424,
          425,
          427,
          432,
          435,
          436,
          437,
          438,
          448,
          449,
          452,
          453,
          454,
          455,
          457,
          459,
          462,
          463,
          465,
          472,
          475,
          476,
          486,
          493,
          495,
          499,
          502,
          505,
          511,
          512,
          515,
          516,
          520,
          521,
          522,
          523,
          524,
          525,
          527,
          531,
          532,
          534,
          540,
          541,
          542,
          550,
          558,
          575,
          578,
          582,
          584,
          585,
          586,
          588,
          592,
          595,
          597,
          599,
          601,
          607,
          609,
          610,
          613,
          618,
          621,
          624,
          625,
          627,
          628,
          631,
          634,
          635,
          636,
          645,
          650,
          653,
          658,
          659,
          662,
          666,
          670,
          673,
          674,
          680,
          682,
          687,
          691,
          704,
          706,
          707,
          709,
          710,
          714,
          716,
          719,
          720,
          723,
          729,
          732,
          733,
          739,
          741,
          742,
          743,
          747,
          751,
          754,
          757,
          758,
          759,
          764,
          767,
          771,
          773,
          776,
          777,
          778,
          781,
          783,
          784,
          793,
          795,
          797,
          800,
          805,
          811,
          814,
          817,
          820,
          824,
          826,
          830,
          832,
          835,
          837,
          838,
          839,
          844,
          847,
          848,
          849,
          857,
          861,
          864,
          866,
          867,
          871,
          876,
          877,
          878,
          879,
          884,
          887,
          897,
          900,
          904,
          905,
          907,
          908,
          914,
          915,
          917,
          924,
          925,
          927,
          929,
          930,
          931,
          935,
          936,
          937,
          946,
          947,
          951,
          956,
          959,
          961,
          963,
          964,
          965,
          969,
          973,
          974,
          975,
          979,
          981,
          982,
          986,
          990,
          993
         ],
         "xaxis": "x",
         "y": [
          290.79699999999997,
          280.96999999999997,
          201.53699999999998,
          250.80299999999997,
          271.801,
          130.952,
          270.55699999999996,
          301.116,
          190.87199999999999,
          61.022999999999996,
          50.993,
          30.763999999999996,
          81.049,
          330.424,
          301.413,
          1.1139999999999999,
          31.331999999999997,
          80.316,
          271.48299999999995,
          151.78,
          231.70499999999996,
          100.73499999999999,
          161.313,
          120.68799999999997,
          150.68799999999996,
          181.588,
          1.131,
          311.72900000000004,
          181.17299999999994,
          281.592,
          331.725,
          81.366,
          240.57,
          180.54999999999995,
          20.977,
          161.62199999999999,
          30.438999999999997,
          60.779999999999994,
          50.900999999999996,
          1.799,
          21.561999999999998,
          50.595,
          231.058,
          211.63099999999997,
          301.43399999999997,
          101.79799999999999,
          231.92899999999997,
          91.246,
          70.729,
          180.63499999999996,
          330.92900000000003,
          141.44899999999998,
          191.14299999999997,
          310.944,
          101.238,
          120.966,
          111.706,
          281.133,
          211.262,
          171.354,
          150.70799999999997,
          190.876,
          111.80499999999998,
          210.88699999999997,
          1.8969999999999998,
          121.58299999999998,
          290.776,
          170.77800000000002,
          231.439,
          170.814,
          251.68499999999997,
          191.225,
          50.620999999999995,
          331.438,
          231.14299999999997,
          271.132,
          150.96099999999996,
          72.04299999999999,
          201.58599999999998,
          320.795,
          151.052,
          261.41400000000004,
          221.76499999999996,
          260.474,
          300.78499999999997,
          170.20299999999997,
          0.572,
          70.99700000000001,
          170.93,
          170.79000000000002,
          90.377,
          190.33399999999997,
          251.79199999999997,
          181.81799999999996,
          170.58999999999997,
          212.082,
          300.634,
          211.385,
          182.02299999999997,
          271.7879999999999,
          212.12800000000001,
          41.964,
          281.219,
          321.814,
          151.58199999999997,
          261.15,
          311.448,
          20.775000000000002,
          120.73499999999999,
          171.54000000000002,
          71.115,
          41.425,
          271.35499999999996,
          321.46500000000003,
          131.17899999999997,
          240.97099999999998,
          210.93800000000002,
          171.658,
          41.713,
          221.312,
          270.592,
          171.47699999999998,
          21.189,
          51.57599999999999,
          290.64399999999995,
          321.115,
          200.784,
          110.753,
          300.31199999999995,
          271.84299999999996,
          250.96299999999994,
          301.26500000000004,
          321.46599999999995,
          101.33500000000001,
          130.40099999999998,
          190.278,
          330.86099999999993,
          130.706,
          91.83399999999997,
          41.222,
          140.766,
          331.53999999999996,
          41.757000000000005,
          90.68299999999999,
          72.337,
          241.41699999999994,
          101.489,
          171.38899999999998,
          190.50699999999998,
          21.285,
          180.66899999999998,
          61.436,
          20.778999999999996,
          280.83500000000004,
          180.34599999999998,
          31.589,
          201.19099999999997,
          50.715,
          311.38000000000005,
          41.845,
          190.97099999999998,
          181.046,
          251.84899999999996,
          302.227,
          111.09799999999998,
          31.008,
          110.86699999999998,
          11.461999999999998,
          320.33399999999995,
          301.78399999999993,
          322.14,
          231.357,
          280.985,
          111.78799999999998,
          91.84799999999998,
          71.44900000000001,
          321.471,
          131.35999999999999,
          301.55,
          181.41199999999995,
          41.883,
          151.32199999999997,
          191.13299999999995,
          51.494,
          80.98499999999999,
          81.747,
          211.82999999999998,
          151.022,
          320.38599999999997,
          30.551,
          121.571,
          291.5129999999999,
          251.20799999999997,
          191.054,
          41.088,
          331.11799999999994,
          310.96799999999996,
          321.923,
          300.93799999999993,
          322.09499999999997,
          111.44799999999998,
          301.486,
          231.54199999999997,
          251.24099999999996,
          150.635,
          180.50399999999996,
          171.153,
          161.114,
          201.49099999999996,
          180.95499999999998,
          1.8499999999999999,
          51.174,
          240.29199999999997,
          131.499,
          201.90099999999998,
          330.908,
          201.07299999999998,
          211.84400000000002,
          31.447999999999997,
          131.372,
          161.36799999999997,
          191.40099999999998,
          241.51799999999997,
          150.564,
          0.741,
          120.43899999999998,
          70.58600000000001,
          71.88,
          81.67999999999999,
          231.136,
          51.335,
          241.53699999999995,
          160.79199999999997,
          190.88699999999997,
          301.435,
          261.416,
          170.53699999999998,
          241.60899999999995,
          221.533,
          271.36899999999997,
          321.135,
          241.22,
          0.665,
          271.321,
          311.579,
          281.90999999999997,
          180.71499999999995,
          251.14799999999997,
          91.59699999999998,
          111.28599999999999,
          270.77099999999996,
          10.578,
          170.55200000000002,
          240.42299999999997,
          101.47200000000001,
          281.481,
          110.636,
          1.424,
          301.509,
          122.00699999999999,
          150.74099999999996,
          50.53,
          121.13099999999999,
          11.429,
          141.551,
          101.547,
          41.172000000000004,
          251.54599999999996,
          290.889,
          110.77399999999999,
          321.815,
          201.804,
          61.111000000000004,
          330.514,
          221.04099999999997,
          10.482999999999999,
          280.65,
          141.864,
          100.408,
          200.552,
          281.63599999999997,
          40.760000000000005,
          121.20999999999998,
          41.427,
          110.60799999999999,
          251.48099999999997,
          191.41199999999998,
          270.7939999999999,
          100.881,
          241.85499999999996,
          120.48599999999999,
          230.72799999999998,
          31.557,
          81.77,
          231.35899999999998,
          270.513,
          251.34299999999996,
          50.564,
          150.72399999999996,
          310.81800000000004,
          60.366,
          281.467,
          180.71999999999997,
          211.009,
          11.408,
          280.944,
          201.068,
          1.3970000000000002,
          181.01299999999995,
          260.13,
          302.19399999999996,
          201.35299999999998,
          40.375,
          91.415,
          290.38599999999997,
          330.091,
          71.17299999999999,
          101.722,
          161.47399999999996,
          180.596,
          100.31400000000001,
          231.26299999999998,
          321.981,
          330.982,
          40.583000000000006,
          30.723,
          91.318,
          41.379999999999995
         ],
         "yaxis": "y"
        }
       ],
       "layout": {
        "legend": {
         "title": {
          "text": "Segment"
         },
         "tracegroupgap": 0
        },
        "margin": {
         "t": 60
        },
        "template": {
         "data": {
          "bar": [
           {
            "error_x": {
             "color": "#2a3f5f"
            },
            "error_y": {
             "color": "#2a3f5f"
            },
            "marker": {
             "line": {
              "color": "white",
              "width": 0.5
             },
             "pattern": {
              "fillmode": "overlay",
              "size": 10,
              "solidity": 0.2
             }
            },
            "type": "bar"
           }
          ],
          "barpolar": [
           {
            "marker": {
             "line": {
              "color": "white",
              "width": 0.5
             },
             "pattern": {
              "fillmode": "overlay",
              "size": 10,
              "solidity": 0.2
             }
            },
            "type": "barpolar"
           }
          ],
          "carpet": [
           {
            "aaxis": {
             "endlinecolor": "#2a3f5f",
             "gridcolor": "#C8D4E3",
             "linecolor": "#C8D4E3",
             "minorgridcolor": "#C8D4E3",
             "startlinecolor": "#2a3f5f"
            },
            "baxis": {
             "endlinecolor": "#2a3f5f",
             "gridcolor": "#C8D4E3",
             "linecolor": "#C8D4E3",
             "minorgridcolor": "#C8D4E3",
             "startlinecolor": "#2a3f5f"
            },
            "type": "carpet"
           }
          ],
          "choropleth": [
           {
            "colorbar": {
             "outlinewidth": 0,
             "ticks": ""
            },
            "type": "choropleth"
           }
          ],
          "contour": [
           {
            "colorbar": {
             "outlinewidth": 0,
             "ticks": ""
            },
            "colorscale": [
             [
              0,
              "#0d0887"
             ],
             [
              0.1111111111111111,
              "#46039f"
             ],
             [
              0.2222222222222222,
              "#7201a8"
             ],
             [
              0.3333333333333333,
              "#9c179e"
             ],
             [
              0.4444444444444444,
              "#bd3786"
             ],
             [
              0.5555555555555556,
              "#d8576b"
             ],
             [
              0.6666666666666666,
              "#ed7953"
             ],
             [
              0.7777777777777778,
              "#fb9f3a"
             ],
             [
              0.8888888888888888,
              "#fdca26"
             ],
             [
              1,
              "#f0f921"
             ]
            ],
            "type": "contour"
           }
          ],
          "contourcarpet": [
           {
            "colorbar": {
             "outlinewidth": 0,
             "ticks": ""
            },
            "type": "contourcarpet"
           }
          ],
          "heatmap": [
           {
            "colorbar": {
             "outlinewidth": 0,
             "ticks": ""
            },
            "colorscale": [
             [
              0,
              "#0d0887"
             ],
             [
              0.1111111111111111,
              "#46039f"
             ],
             [
              0.2222222222222222,
              "#7201a8"
             ],
             [
              0.3333333333333333,
              "#9c179e"
             ],
             [
              0.4444444444444444,
              "#bd3786"
             ],
             [
              0.5555555555555556,
              "#d8576b"
             ],
             [
              0.6666666666666666,
              "#ed7953"
             ],
             [
              0.7777777777777778,
              "#fb9f3a"
             ],
             [
              0.8888888888888888,
              "#fdca26"
             ],
             [
              1,
              "#f0f921"
             ]
            ],
            "type": "heatmap"
           }
          ],
          "heatmapgl": [
           {
            "colorbar": {
             "outlinewidth": 0,
             "ticks": ""
            },
            "colorscale": [
             [
              0,
              "#0d0887"
             ],
             [
              0.1111111111111111,
              "#46039f"
             ],
             [
              0.2222222222222222,
              "#7201a8"
             ],
             [
              0.3333333333333333,
              "#9c179e"
             ],
             [
              0.4444444444444444,
              "#bd3786"
             ],
             [
              0.5555555555555556,
              "#d8576b"
             ],
             [
              0.6666666666666666,
              "#ed7953"
             ],
             [
              0.7777777777777778,
              "#fb9f3a"
             ],
             [
              0.8888888888888888,
              "#fdca26"
             ],
             [
              1,
              "#f0f921"
             ]
            ],
            "type": "heatmapgl"
           }
          ],
          "histogram": [
           {
            "marker": {
             "pattern": {
              "fillmode": "overlay",
              "size": 10,
              "solidity": 0.2
             }
            },
            "type": "histogram"
           }
          ],
          "histogram2d": [
           {
            "colorbar": {
             "outlinewidth": 0,
             "ticks": ""
            },
            "colorscale": [
             [
              0,
              "#0d0887"
             ],
             [
              0.1111111111111111,
              "#46039f"
             ],
             [
              0.2222222222222222,
              "#7201a8"
             ],
             [
              0.3333333333333333,
              "#9c179e"
             ],
             [
              0.4444444444444444,
              "#bd3786"
             ],
             [
              0.5555555555555556,
              "#d8576b"
             ],
             [
              0.6666666666666666,
              "#ed7953"
             ],
             [
              0.7777777777777778,
              "#fb9f3a"
             ],
             [
              0.8888888888888888,
              "#fdca26"
             ],
             [
              1,
              "#f0f921"
             ]
            ],
            "type": "histogram2d"
           }
          ],
          "histogram2dcontour": [
           {
            "colorbar": {
             "outlinewidth": 0,
             "ticks": ""
            },
            "colorscale": [
             [
              0,
              "#0d0887"
             ],
             [
              0.1111111111111111,
              "#46039f"
             ],
             [
              0.2222222222222222,
              "#7201a8"
             ],
             [
              0.3333333333333333,
              "#9c179e"
             ],
             [
              0.4444444444444444,
              "#bd3786"
             ],
             [
              0.5555555555555556,
              "#d8576b"
             ],
             [
              0.6666666666666666,
              "#ed7953"
             ],
             [
              0.7777777777777778,
              "#fb9f3a"
             ],
             [
              0.8888888888888888,
              "#fdca26"
             ],
             [
              1,
              "#f0f921"
             ]
            ],
            "type": "histogram2dcontour"
           }
          ],
          "mesh3d": [
           {
            "colorbar": {
             "outlinewidth": 0,
             "ticks": ""
            },
            "type": "mesh3d"
           }
          ],
          "parcoords": [
           {
            "line": {
             "colorbar": {
              "outlinewidth": 0,
              "ticks": ""
             }
            },
            "type": "parcoords"
           }
          ],
          "pie": [
           {
            "automargin": true,
            "type": "pie"
           }
          ],
          "scatter": [
           {
            "fillpattern": {
             "fillmode": "overlay",
             "size": 10,
             "solidity": 0.2
            },
            "type": "scatter"
           }
          ],
          "scatter3d": [
           {
            "line": {
             "colorbar": {
              "outlinewidth": 0,
              "ticks": ""
             }
            },
            "marker": {
             "colorbar": {
              "outlinewidth": 0,
              "ticks": ""
             }
            },
            "type": "scatter3d"
           }
          ],
          "scattercarpet": [
           {
            "marker": {
             "colorbar": {
              "outlinewidth": 0,
              "ticks": ""
             }
            },
            "type": "scattercarpet"
           }
          ],
          "scattergeo": [
           {
            "marker": {
             "colorbar": {
              "outlinewidth": 0,
              "ticks": ""
             }
            },
            "type": "scattergeo"
           }
          ],
          "scattergl": [
           {
            "marker": {
             "colorbar": {
              "outlinewidth": 0,
              "ticks": ""
             }
            },
            "type": "scattergl"
           }
          ],
          "scattermapbox": [
           {
            "marker": {
             "colorbar": {
              "outlinewidth": 0,
              "ticks": ""
             }
            },
            "type": "scattermapbox"
           }
          ],
          "scatterpolar": [
           {
            "marker": {
             "colorbar": {
              "outlinewidth": 0,
              "ticks": ""
             }
            },
            "type": "scatterpolar"
           }
          ],
          "scatterpolargl": [
           {
            "marker": {
             "colorbar": {
              "outlinewidth": 0,
              "ticks": ""
             }
            },
            "type": "scatterpolargl"
           }
          ],
          "scatterternary": [
           {
            "marker": {
             "colorbar": {
              "outlinewidth": 0,
              "ticks": ""
             }
            },
            "type": "scatterternary"
           }
          ],
          "surface": [
           {
            "colorbar": {
             "outlinewidth": 0,
             "ticks": ""
            },
            "colorscale": [
             [
              0,
              "#0d0887"
             ],
             [
              0.1111111111111111,
              "#46039f"
             ],
             [
              0.2222222222222222,
              "#7201a8"
             ],
             [
              0.3333333333333333,
              "#9c179e"
             ],
             [
              0.4444444444444444,
              "#bd3786"
             ],
             [
              0.5555555555555556,
              "#d8576b"
             ],
             [
              0.6666666666666666,
              "#ed7953"
             ],
             [
              0.7777777777777778,
              "#fb9f3a"
             ],
             [
              0.8888888888888888,
              "#fdca26"
             ],
             [
              1,
              "#f0f921"
             ]
            ],
            "type": "surface"
           }
          ],
          "table": [
           {
            "cells": {
             "fill": {
              "color": "#EBF0F8"
             },
             "line": {
              "color": "white"
             }
            },
            "header": {
             "fill": {
              "color": "#C8D4E3"
             },
             "line": {
              "color": "white"
             }
            },
            "type": "table"
           }
          ]
         },
         "layout": {
          "annotationdefaults": {
           "arrowcolor": "#2a3f5f",
           "arrowhead": 0,
           "arrowwidth": 1
          },
          "autotypenumbers": "strict",
          "coloraxis": {
           "colorbar": {
            "outlinewidth": 0,
            "ticks": ""
           }
          },
          "colorscale": {
           "diverging": [
            [
             0,
             "#8e0152"
            ],
            [
             0.1,
             "#c51b7d"
            ],
            [
             0.2,
             "#de77ae"
            ],
            [
             0.3,
             "#f1b6da"
            ],
            [
             0.4,
             "#fde0ef"
            ],
            [
             0.5,
             "#f7f7f7"
            ],
            [
             0.6,
             "#e6f5d0"
            ],
            [
             0.7,
             "#b8e186"
            ],
            [
             0.8,
             "#7fbc41"
            ],
            [
             0.9,
             "#4d9221"
            ],
            [
             1,
             "#276419"
            ]
           ],
           "sequential": [
            [
             0,
             "#0d0887"
            ],
            [
             0.1111111111111111,
             "#46039f"
            ],
            [
             0.2222222222222222,
             "#7201a8"
            ],
            [
             0.3333333333333333,
             "#9c179e"
            ],
            [
             0.4444444444444444,
             "#bd3786"
            ],
            [
             0.5555555555555556,
             "#d8576b"
            ],
            [
             0.6666666666666666,
             "#ed7953"
            ],
            [
             0.7777777777777778,
             "#fb9f3a"
            ],
            [
             0.8888888888888888,
             "#fdca26"
            ],
            [
             1,
             "#f0f921"
            ]
           ],
           "sequentialminus": [
            [
             0,
             "#0d0887"
            ],
            [
             0.1111111111111111,
             "#46039f"
            ],
            [
             0.2222222222222222,
             "#7201a8"
            ],
            [
             0.3333333333333333,
             "#9c179e"
            ],
            [
             0.4444444444444444,
             "#bd3786"
            ],
            [
             0.5555555555555556,
             "#d8576b"
            ],
            [
             0.6666666666666666,
             "#ed7953"
            ],
            [
             0.7777777777777778,
             "#fb9f3a"
            ],
            [
             0.8888888888888888,
             "#fdca26"
            ],
            [
             1,
             "#f0f921"
            ]
           ]
          },
          "colorway": [
           "#636efa",
           "#EF553B",
           "#00cc96",
           "#ab63fa",
           "#FFA15A",
           "#19d3f3",
           "#FF6692",
           "#B6E880",
           "#FF97FF",
           "#FECB52"
          ],
          "font": {
           "color": "#2a3f5f"
          },
          "geo": {
           "bgcolor": "white",
           "lakecolor": "white",
           "landcolor": "white",
           "showlakes": true,
           "showland": true,
           "subunitcolor": "#C8D4E3"
          },
          "hoverlabel": {
           "align": "left"
          },
          "hovermode": "closest",
          "mapbox": {
           "style": "light"
          },
          "paper_bgcolor": "white",
          "plot_bgcolor": "white",
          "polar": {
           "angularaxis": {
            "gridcolor": "#EBF0F8",
            "linecolor": "#EBF0F8",
            "ticks": ""
           },
           "bgcolor": "white",
           "radialaxis": {
            "gridcolor": "#EBF0F8",
            "linecolor": "#EBF0F8",
            "ticks": ""
           }
          },
          "scene": {
           "xaxis": {
            "backgroundcolor": "white",
            "gridcolor": "#DFE8F3",
            "gridwidth": 2,
            "linecolor": "#EBF0F8",
            "showbackground": true,
            "ticks": "",
            "zerolinecolor": "#EBF0F8"
           },
           "yaxis": {
            "backgroundcolor": "white",
            "gridcolor": "#DFE8F3",
            "gridwidth": 2,
            "linecolor": "#EBF0F8",
            "showbackground": true,
            "ticks": "",
            "zerolinecolor": "#EBF0F8"
           },
           "zaxis": {
            "backgroundcolor": "white",
            "gridcolor": "#DFE8F3",
            "gridwidth": 2,
            "linecolor": "#EBF0F8",
            "showbackground": true,
            "ticks": "",
            "zerolinecolor": "#EBF0F8"
           }
          },
          "shapedefaults": {
           "line": {
            "color": "#2a3f5f"
           }
          },
          "ternary": {
           "aaxis": {
            "gridcolor": "#DFE8F3",
            "linecolor": "#A2B1C6",
            "ticks": ""
           },
           "baxis": {
            "gridcolor": "#DFE8F3",
            "linecolor": "#A2B1C6",
            "ticks": ""
           },
           "bgcolor": "white",
           "caxis": {
            "gridcolor": "#DFE8F3",
            "linecolor": "#A2B1C6",
            "ticks": ""
           }
          },
          "title": {
           "x": 0.05
          },
          "xaxis": {
           "automargin": true,
           "gridcolor": "#EBF0F8",
           "linecolor": "#EBF0F8",
           "ticks": "",
           "title": {
            "standoff": 15
           },
           "zerolinecolor": "#EBF0F8",
           "zerolinewidth": 2
          },
          "yaxis": {
           "automargin": true,
           "gridcolor": "#EBF0F8",
           "linecolor": "#EBF0F8",
           "ticks": "",
           "title": {
            "standoff": 15
           },
           "zerolinecolor": "#EBF0F8",
           "zerolinewidth": 2
          }
         }
        },
        "title": {
         "text": "Customer Segmentation based on Credit Scores"
        },
        "xaxis": {
         "anchor": "y",
         "domain": [
          0,
          1
         ],
         "title": {
          "text": "Customer Index"
         }
        },
        "yaxis": {
         "anchor": "x",
         "domain": [
          0,
          1
         ],
         "title": {
          "text": "Credit Score"
         }
        }
       }
      }
     },
     "metadata": {},
     "output_type": "display_data"
    }
   ],
   "source": [
    "#Naming the segments based on above clusters\n",
    "data['Segment'] = data['Segment'].map({  0: 'Low', 1: 'Excellent',2:'Good' })\n",
    "\n",
    "# Convert the 'Segment' column to category data type\n",
    "data['Segment'] = data['Segment'].astype('category')\n",
    "\n",
    "# Visualize the segments using Plotly\n",
    "fig = px.scatter(data, x=data.index, y='Credit Score', color='Segment', color_discrete_sequence=['green', 'blue', 'yellow', 'red'])\n",
    "fig.update_layout(xaxis_title='Customer Index',yaxis_title='Credit Score',title='Customer Segmentation based on Credit Scores')\n",
    "fig.show()"
   ]
  },
  {
   "cell_type": "code",
   "execution_count": 221,
   "metadata": {},
   "outputs": [],
   "source": [
    "##Performance matrix--silhoutte score\n",
    "from sklearn.metrics import silhouette_score "
   ]
  },
  {
   "cell_type": "code",
   "execution_count": 222,
   "metadata": {},
   "outputs": [],
   "source": [
    "silhouette_coefficients=[]\n",
    "for k in range(2,11):\n",
    "    kmeans=KMeans(n_clusters=k,init='k-means++')\n",
    "    kmeans.fit(X)\n",
    "    score=silhouette_score(X,kmeans.labels_)\n",
    "    silhouette_coefficients.append(score)"
   ]
  },
  {
   "cell_type": "code",
   "execution_count": 223,
   "metadata": {},
   "outputs": [
    {
     "data": {
      "text/plain": [
       "[0.6250188790041277,\n",
       " 0.5904804317521523,\n",
       " 0.5816098443725243,\n",
       " 0.5676166295799988,\n",
       " 0.5551547363423853,\n",
       " 0.5442221627339877,\n",
       " 0.5546359312999889,\n",
       " 0.5466030387327145,\n",
       " 0.5248969109364093]"
      ]
     },
     "execution_count": 223,
     "metadata": {},
     "output_type": "execute_result"
    }
   ],
   "source": [
    "silhouette_coefficients"
   ]
  },
  {
   "cell_type": "code",
   "execution_count": 224,
   "metadata": {},
   "outputs": [
    {
     "data": {
      "image/png": "[encoded data removed]",
      "text/plain": [
       "<Figure size 640x480 with 1 Axes>"
      ]
     },
     "metadata": {},
     "output_type": "display_data"
    }
   ],
   "source": [
    "##plotting silhouette score\n",
    "plt.plot(range(2,11),silhouette_coefficients)\n",
    "plt.xticks(range(2,11))\n",
    "plt.xlabel(\"Number of clusters\")\n",
    "plt.ylabel(\"Silhouette coeffiients\")\n",
    "plt.show()"
   ]
  },
  {
   "cell_type": "markdown",
   "metadata": {},
   "source": [
    "Hierarchical Clustering"
   ]
  },
  {
   "cell_type": "code",
   "execution_count": 225,
   "metadata": {},
   "outputs": [
    {
     "data": {
      "image/png": "[encoded data removed]",
      "text/plain": [
       "<Figure size 1000x700 with 1 Axes>"
      ]
     },
     "metadata": {},
     "output_type": "display_data"
    }
   ],
   "source": [
    "##aglomerative clustering\n",
    "## to construct a dendogram\n",
    "import scipy.cluster.hierarchy as sc\n",
    "from scipy.cluster.hierarchy import dendrogram, linkage\n",
    "from sklearn.cluster import AgglomerativeClustering\n",
    "\n",
    "\n",
    "# Creating the linkage matrix\n",
    "Z = linkage(data[['Credit Score']], method='ward')\n",
    "\n",
    "# Plotting the dendrogram\n",
    "plt.figure(figsize=(10, 7))\n",
    "dendrogram(Z)\n",
    "plt.title('Dendrogram')\n",
    "plt.xlabel('Customers')\n",
    "plt.ylabel('Euclidean distances')\n",
    "plt.show()"
   ]
  },
  {
   "cell_type": "code",
   "execution_count": 226,
   "metadata": {},
   "outputs": [],
   "source": [
    "# Create the model\n",
    "hc = AgglomerativeClustering(n_clusters=3, metric='euclidean', linkage='ward')\n",
    "\n",
    "# Fit the model\n",
    "data['Segment'] = hc.fit_predict(data[['Credit Score']])"
   ]
  },
  {
   "cell_type": "code",
   "execution_count": 227,
   "metadata": {},
   "outputs": [
    {
     "data": {
      "application/vnd.plotly.v1+json": {
       "config": {
        "plotlyServerURL": "https://plot.ly"
       },
       "data": [
        {
         "hovertemplate": "Segment=Excellent<br>index=%{x}<br>Credit Score=%{y}<extra></extra>",
         "legendgroup": "Excellent",
         "marker": {
          "color": "green",
          "symbol": "circle"
         },
         "mode": "markers",
         "name": "Excellent",
         "orientation": "v",
         "showlegend": true,
         "type": "scatter",
         "x": [
          0,
          1,
          2,
          5,
          6,
          13,
          14,
          15,
          19,
          22,
          23,
          25,
          26,
          29,
          32,
          39,
          40,
          41,
          42,
          43,
          48,
          60,
          62,
          63,
          64,
          66,
          67,
          69,
          70,
          71,
          72,
          73,
          74,
          75,
          79,
          80,
          81,
          94,
          97,
          100,
          102,
          103,
          104,
          108,
          117,
          118,
          119,
          121,
          124,
          125,
          127,
          129,
          130,
          131,
          133,
          135,
          138,
          139,
          140,
          144,
          147,
          148,
          149,
          150,
          153,
          154,
          155,
          156,
          159,
          162,
          164,
          167,
          169,
          171,
          173,
          175,
          177,
          178,
          181,
          183,
          185,
          186,
          192,
          193,
          195,
          197,
          198,
          199,
          200,
          201,
          203,
          206,
          207,
          209,
          211,
          212,
          213,
          220,
          221,
          223,
          224,
          225,
          228,
          231,
          233,
          234,
          235,
          236,
          240,
          242,
          243,
          244,
          247,
          249,
          250,
          253,
          255,
          264,
          265,
          274,
          277,
          278,
          280,
          281,
          284,
          285,
          286,
          288,
          292,
          294,
          295,
          298,
          300,
          302,
          304,
          306,
          307,
          308,
          310,
          311,
          312,
          313,
          314,
          316,
          317,
          321,
          322,
          325,
          326,
          328,
          332,
          335,
          340,
          341,
          342,
          345,
          346,
          350,
          351,
          352,
          355,
          356,
          357,
          358,
          362,
          363,
          364,
          365,
          372,
          373,
          374,
          378,
          380,
          381,
          383,
          386,
          392,
          394,
          395,
          396,
          397,
          398,
          401,
          402,
          407,
          409,
          412,
          416,
          418,
          419,
          420,
          421,
          426,
          428,
          431,
          433,
          439,
          440,
          441,
          442,
          444,
          445,
          447,
          451,
          458,
          461,
          464,
          466,
          467,
          468,
          470,
          473,
          474,
          477,
          479,
          481,
          483,
          484,
          488,
          489,
          490,
          491,
          492,
          494,
          496,
          498,
          501,
          503,
          504,
          506,
          507,
          508,
          509,
          510,
          513,
          517,
          526,
          529,
          533,
          538,
          543,
          544,
          545,
          546,
          547,
          548,
          549,
          551,
          552,
          553,
          555,
          556,
          557,
          559,
          560,
          563,
          564,
          566,
          568,
          569,
          572,
          576,
          579,
          580,
          581,
          583,
          587,
          589,
          591,
          594,
          596,
          598,
          604,
          606,
          608,
          612,
          614,
          616,
          617,
          619,
          620,
          622,
          626,
          633,
          637,
          639,
          640,
          642,
          643,
          644,
          646,
          647,
          648,
          649,
          651,
          652,
          654,
          660,
          661,
          663,
          665,
          667,
          668,
          669,
          671,
          672,
          675,
          676,
          677,
          681,
          683,
          684,
          685,
          688,
          689,
          690,
          692,
          695,
          697,
          698,
          699,
          701,
          702,
          703,
          711,
          712,
          713,
          717,
          721,
          722,
          730,
          734,
          735,
          737,
          738,
          744,
          746,
          749,
          752,
          753,
          755,
          756,
          760,
          763,
          765,
          766,
          768,
          769,
          774,
          779,
          780,
          782,
          785,
          786,
          787,
          788,
          790,
          791,
          792,
          794,
          796,
          798,
          799,
          801,
          802,
          803,
          804,
          806,
          807,
          812,
          813,
          815,
          819,
          821,
          822,
          823,
          829,
          831,
          833,
          834,
          836,
          840,
          842,
          843,
          846,
          851,
          853,
          855,
          856,
          858,
          859,
          860,
          868,
          869,
          872,
          874,
          875,
          880,
          881,
          882,
          883,
          886,
          888,
          891,
          893,
          894,
          895,
          898,
          899,
          901,
          903,
          909,
          912,
          913,
          916,
          920,
          921,
          922,
          926,
          928,
          939,
          940,
          942,
          944,
          945,
          948,
          949,
          953,
          955,
          957,
          958,
          960,
          962,
          966,
          970,
          972,
          976,
          980,
          984,
          985,
          987,
          988,
          991,
          992,
          994,
          996,
          997
         ],
         "xaxis": "x",
         "y": [
          940.5159999999998,
          831.3599999999999,
          971.2159999999999,
          820.5819999999999,
          980.4459999999999,
          700.9480000000001,
          831.5499999999998,
          750.5649999999999,
          700.732,
          671.026,
          720.986,
          640.912,
          831.7939999999999,
          710.5629999999999,
          601.061,
          651.674,
          601.672,
          880.5949999999999,
          591.5380000000001,
          601.822,
          840.6270000000001,
          921.644,
          611.084,
          870.574,
          791.1299999999999,
          761.485,
          801.8870000000001,
          631.95,
          731.738,
          741.6039999999999,
          881.3990000000001,
          981.5859999999998,
          961.208,
          801.759,
          971.899,
          601.5459999999999,
          580.7589999999999,
          680.419,
          1002.1469999999999,
          571.627,
          741.8360000000001,
          981.645,
          850.979,
          890.9039999999999,
          820.6550000000001,
          801.4350000000001,
          601.632,
          730.9230000000001,
          771.005,
          821.068,
          691.7529999999999,
          1001.8410000000001,
          771.196,
          650.681,
          600.7370000000001,
          801.662,
          691.1619999999998,
          580.434,
          820.9119999999999,
          951.1030000000001,
          901.581,
          911.551,
          911.2049999999999,
          591.571,
          811.725,
          921.798,
          731.1629999999999,
          880.785,
          631.978,
          571.6669999999999,
          601.663,
          671.644,
          841.4990000000001,
          921.318,
          941.6829999999999,
          820.346,
          691.997,
          821.069,
          591.0010000000001,
          760.6539999999999,
          651.6349999999999,
          740.8249999999999,
          861.3299999999998,
          750.718,
          711.523,
          710.816,
          610.6999999999999,
          651.728,
          940.558,
          721.019,
          800.6730000000001,
          582.038,
          600.764,
          750.838,
          761.4309999999998,
          741.607,
          810.9630000000001,
          1001.514,
          900.688,
          681.71,
          861.3939999999999,
          591.7610000000001,
          590.9180000000001,
          581.855,
          880.9420000000001,
          620.885,
          562.013,
          721.784,
          860.8469999999999,
          980.9889999999998,
          580.977,
          730.802,
          900.7479999999999,
          990.792,
          950.713,
          811.972,
          911.8369999999999,
          1001.1869999999999,
          691.0559999999999,
          731.351,
          641.573,
          981.959,
          721.76,
          770.8180000000001,
          881.143,
          720.6159999999999,
          931.151,
          870.945,
          842.087,
          570.5609999999999,
          691.3009999999999,
          930.5279999999999,
          831.6279999999999,
          870.808,
          672.134,
          602.188,
          730.6650000000001,
          820.7230000000001,
          771.245,
          831.1129999999998,
          630.9590000000001,
          1001.509,
          921.872,
          871.036,
          911.0459999999999,
          581.885,
          930.9689999999999,
          660.93,
          770.95,
          920.2239999999999,
          991.3829999999999,
          630.9050000000001,
          911.492,
          961.0519999999999,
          701.372,
          871.063,
          741.868,
          901.5229999999999,
          941.588,
          900.799,
          821.7719999999999,
          981.5729999999999,
          981.601,
          891.3129999999999,
          951.216,
          731.562,
          780.904,
          921.63,
          961.454,
          971.6619999999999,
          580.7409999999999,
          861.483,
          810.741,
          740.9300000000001,
          1001.8799999999999,
          660.156,
          660.955,
          900.3559999999999,
          730.5790000000001,
          681.588,
          610.6579999999999,
          890.9119999999999,
          610.9879999999999,
          671.189,
          921.0559999999999,
          861.786,
          661.7750000000001,
          801.63,
          961.276,
          711.3729999999999,
          780.978,
          581.883,
          930.6479999999999,
          881.474,
          691.4209999999999,
          920.4719999999999,
          861.424,
          561.4,
          690.8219999999999,
          660.6800000000001,
          930.9259999999998,
          731.419,
          931.3149999999999,
          981.2479999999998,
          800.905,
          670.8629999999999,
          991.3240000000001,
          561.979,
          781.7929999999999,
          940.262,
          891.484,
          571.269,
          690.858,
          891.6979999999999,
          671.159,
          781.243,
          701.2900000000001,
          861.7990000000001,
          1000.5329999999999,
          671.369,
          660.467,
          841.106,
          981.8589999999999,
          860.5409999999999,
          901.8539999999999,
          772.1310000000001,
          561.2180000000001,
          571.086,
          781.7239999999999,
          841.215,
          820.153,
          892.067,
          770.607,
          721.8439999999999,
          881.951,
          561.1220000000001,
          981.5919999999999,
          881.5140000000001,
          1000.418,
          801.48,
          971.749,
          921.47,
          941.2299999999998,
          781.566,
          881.839,
          811.98,
          931.6839999999999,
          960.3739999999999,
          901.54,
          810.4879999999999,
          821.461,
          741.182,
          621.605,
          631.0600000000001,
          820.4819999999999,
          900.991,
          900.4629999999999,
          961.9699999999999,
          1001.059,
          772.147,
          751.4289999999999,
          730.3530000000001,
          660.903,
          711.84,
          611.0759999999999,
          970.5759999999999,
          901.526,
          920.3369999999999,
          561.783,
          800.85,
          691.4999999999999,
          970.5669999999998,
          851.343,
          671.621,
          951.798,
          921.455,
          981.2799999999999,
          600.965,
          770.541,
          801.226,
          891.1959999999999,
          980.906,
          1001.285,
          620.922,
          870.554,
          821.008,
          981.5219999999998,
          761.5809999999999,
          590.552,
          611.074,
          640.2739999999999,
          751.39,
          680.1829999999999,
          771.8910000000001,
          680.952,
          561.7220000000001,
          751.947,
          621.068,
          960.54,
          561.605,
          661.535,
          871.72,
          692.1419999999999,
          940.919,
          641.078,
          742.043,
          561.726,
          600.213,
          660.587,
          940.867,
          680.548,
          620.6769999999999,
          690.794,
          701.5459999999999,
          830.728,
          1001.1469999999999,
          681.6479999999999,
          891.4680000000001,
          971.0219999999999,
          632.112,
          861.872,
          830.6009999999999,
          920.9279999999999,
          730.3240000000001,
          690.9739999999999,
          710.322,
          591.857,
          700.951,
          780.637,
          881.511,
          891.2789999999999,
          771.7490000000001,
          660.2180000000001,
          911.5599999999998,
          581.7139999999999,
          841.124,
          861.813,
          800.7460000000001,
          800.996,
          941.103,
          921.512,
          960.4929999999999,
          610.658,
          931.308,
          901.4549999999999,
          860.5889999999999,
          681.1399999999999,
          951.3129999999999,
          971.0799999999999,
          661.4920000000001,
          691.0939999999999,
          982.1789999999999,
          750.698,
          761.1379999999999,
          631.399,
          931.458,
          740.6750000000001,
          950.8660000000001,
          600.6800000000001,
          561.689,
          680.523,
          710.798,
          660.7900000000001,
          791.5389999999999,
          880.854,
          651.9479999999999,
          680.381,
          891.8589999999999,
          861.9430000000001,
          950.207,
          971.901,
          721.5219999999999,
          951.492,
          991.475,
          981.15,
          971.5469999999999,
          700.5530000000001,
          691.8709999999999,
          640.7059999999999,
          631.7930000000001,
          700.913,
          701.0889999999999,
          930.7470000000001,
          581.429,
          880.9680000000001,
          571.445,
          631.8760000000001,
          990.658,
          900.888,
          951.8720000000001,
          820.068,
          900.8999999999999,
          641.398,
          991.617,
          620.591,
          891.387,
          850.761,
          960.852,
          731.673,
          580.8449999999999,
          740.535,
          702.211,
          740.2819999999999,
          731.351,
          731.036,
          750.8389999999999,
          991.289,
          800.697,
          842.17,
          930.866,
          571.197,
          751.4299999999998,
          630.8939999999999,
          921.408,
          620.944,
          730.757,
          841.7590000000001,
          651.4,
          891.457,
          601.605,
          980.9419999999999,
          1001.4539999999998,
          721.286,
          650.3739999999999,
          920.539,
          950.7420000000001,
          850.797,
          771.3380000000001,
          601.379,
          812.039,
          670.748,
          710.936,
          730.7710000000001,
          610.755,
          840.62,
          791.8629999999999,
          751.043,
          590.5319999999999,
          730.91,
          831.5439999999999,
          920.659,
          771.5400000000001,
          850.8510000000001,
          980.947,
          710.92,
          650.6809999999999,
          921.8539999999999
         ],
         "yaxis": "y"
        },
        {
         "hovertemplate": "Segment=Good<br>index=%{x}<br>Credit Score=%{y}<extra></extra>",
         "legendgroup": "Good",
         "marker": {
          "color": "blue",
          "symbol": "circle"
         },
         "mode": "markers",
         "name": "Good",
         "orientation": "v",
         "showlegend": true,
         "type": "scatter",
         "x": [
          3,
          7,
          9,
          12,
          17,
          20,
          35,
          36,
          37,
          38,
          45,
          49,
          52,
          54,
          55,
          58,
          59,
          68,
          82,
          83,
          86,
          87,
          88,
          89,
          90,
          95,
          101,
          106,
          107,
          111,
          115,
          116,
          120,
          123,
          132,
          137,
          141,
          143,
          145,
          146,
          157,
          160,
          163,
          165,
          176,
          180,
          189,
          190,
          191,
          215,
          217,
          218,
          226,
          229,
          241,
          251,
          259,
          260,
          262,
          263,
          268,
          269,
          270,
          271,
          279,
          287,
          289,
          293,
          296,
          301,
          303,
          305,
          315,
          329,
          330,
          331,
          333,
          336,
          338,
          343,
          349,
          353,
          360,
          368,
          371,
          376,
          387,
          391,
          403,
          405,
          406,
          411,
          415,
          423,
          429,
          430,
          434,
          443,
          446,
          450,
          456,
          460,
          469,
          471,
          478,
          480,
          482,
          485,
          487,
          497,
          500,
          514,
          518,
          519,
          528,
          530,
          535,
          536,
          537,
          539,
          554,
          561,
          562,
          565,
          567,
          570,
          571,
          573,
          574,
          577,
          590,
          593,
          600,
          602,
          603,
          605,
          611,
          615,
          623,
          629,
          630,
          632,
          638,
          641,
          655,
          656,
          657,
          664,
          678,
          679,
          686,
          693,
          694,
          696,
          700,
          705,
          708,
          715,
          718,
          724,
          725,
          726,
          727,
          728,
          731,
          736,
          740,
          745,
          748,
          750,
          761,
          762,
          770,
          772,
          775,
          789,
          808,
          809,
          810,
          816,
          818,
          825,
          827,
          828,
          841,
          845,
          850,
          852,
          854,
          862,
          863,
          865,
          870,
          873,
          885,
          889,
          890,
          892,
          896,
          902,
          906,
          910,
          911,
          918,
          919,
          923,
          932,
          933,
          934,
          938,
          941,
          943,
          950,
          952,
          954,
          967,
          968,
          971,
          977,
          978,
          983,
          989,
          995,
          998,
          999
         ],
         "xaxis": "x",
         "y": [
          480.58599999999996,
          501.59799999999996,
          481.7679999999999,
          390.97900000000004,
          551.0799999999999,
          510.7629999999999,
          550.4119999999999,
          422.285,
          372.02,
          551.737,
          531.213,
          431.385,
          391.974,
          461.73299999999995,
          411.027,
          510.83700000000005,
          341.30999999999995,
          391.651,
          421.774,
          550.7749999999999,
          441.882,
          481.98299999999995,
          360.725,
          391.395,
          461.78700000000003,
          350.63599999999997,
          511.50000000000006,
          540.4319999999999,
          442.055,
          531.433,
          410.60599999999994,
          391.22399999999993,
          471.06199999999995,
          431.92299999999994,
          490.8109999999999,
          471.142,
          491.72199999999987,
          441.85699999999997,
          491.8109999999999,
          400.76099999999997,
          441.59700000000004,
          450.4659999999999,
          431.98699999999997,
          381.87199999999996,
          501.59999999999997,
          341.38499999999993,
          541.6659999999999,
          531.8430000000001,
          511.572,
          411.18,
          461.38399999999996,
          501.1029999999999,
          390.94199999999995,
          490.7269999999999,
          410.795,
          401.03799999999995,
          340.58399999999995,
          460.48799999999994,
          531.396,
          510.74399999999997,
          501.4789999999999,
          401.08500000000004,
          381.69300000000004,
          380.91499999999996,
          491.27399999999994,
          491.29999999999995,
          480.65099999999995,
          501.59299999999996,
          500.4399999999999,
          421.22,
          521.7230000000001,
          471.26,
          421.637,
          461.35499999999996,
          340.938,
          531.005,
          400.128,
          510.942,
          431.10099999999994,
          411.78,
          481.39799999999997,
          401.684,
          490.9959999999999,
          421.80400000000003,
          370.81899999999996,
          441.9959999999999,
          541.9549999999999,
          491.162,
          400.106,
          461.575,
          481.01800000000003,
          430.924,
          450.96199999999993,
          531.0160000000001,
          450.5179999999999,
          450.70699999999994,
          410.77299999999997,
          450.51199999999994,
          480.33399999999995,
          411.88399999999996,
          481.617,
          391.645,
          372.001,
          410.7269999999999,
          480.546,
          401.133,
          520.4,
          520.634,
          400.363,
          421.376,
          431.92099999999994,
          371.66499999999996,
          381.46999999999997,
          401.664,
          421.695,
          430.55899999999997,
          390.41499999999996,
          541.14,
          350.86799999999994,
          361.145,
          420.37399999999997,
          411.54499999999996,
          470.919,
          511.826,
          390.41499999999996,
          441.4529999999999,
          541.3929999999999,
          480.957,
          381.19500000000005,
          531.181,
          371.665,
          451.5319999999999,
          441.90200000000004,
          410.40599999999995,
          401.15599999999995,
          381.731,
          551.6679999999999,
          351.554,
          531.3599999999999,
          420.718,
          381.286,
          351.561,
          342.13899999999995,
          550.99,
          531.6670000000001,
          441.507,
          531.3129999999999,
          531.516,
          390.97599999999994,
          391.844,
          410.78299999999996,
          400.94999999999993,
          420.83799999999997,
          481.941,
          351.019,
          430.32199999999995,
          541.614,
          421.681,
          391.68199999999996,
          371.57500000000005,
          471.62899999999996,
          371.87,
          421.1650000000001,
          361.33099999999996,
          451.1929999999999,
          491.4219999999999,
          500.3209999999999,
          500.80899999999997,
          431.197,
          511.40099999999995,
          540.7279999999998,
          481.93499999999995,
          361.3759999999999,
          370.401,
          461.69599999999997,
          500.92799999999994,
          481.58899999999994,
          451.58199999999994,
          400.423,
          421.336,
          470.99100000000004,
          350.9200000000001,
          441.408,
          351.987,
          551.4689999999999,
          430.42199999999997,
          440.796,
          451.1809999999999,
          460.27699999999993,
          480.792,
          420.68399999999997,
          390.37699999999995,
          391.68100000000004,
          401.152,
          521.4999999999999,
          441.835,
          531.252,
          491.2319999999999,
          351.09799999999996,
          511.303,
          400.28599999999994,
          510.752,
          351.416,
          431.04699999999997,
          461.216,
          510.98699999999997,
          480.37699999999995,
          531.2669999999999,
          441.39099999999996,
          541.1419999999999,
          521.591,
          340.674,
          490.6859999999999,
          451.64799999999997,
          442.038,
          491.294,
          550.5569999999999,
          461.73999999999995,
          361.82899999999995,
          351.32300000000004,
          451.60599999999994,
          461.14000000000004,
          451.37199999999996,
          400.84599999999995,
          361.10099999999994
         ],
         "yaxis": "y"
        },
        {
         "hovertemplate": "Segment=Low<br>index=%{x}<br>Credit Score=%{y}<extra></extra>",
         "legendgroup": "Low",
         "marker": {
          "color": "yellow",
          "symbol": "circle"
         },
         "mode": "markers",
         "name": "Low",
         "orientation": "v",
         "showlegend": true,
         "type": "scatter",
         "x": [
          4,
          8,
          10,
          11,
          16,
          18,
          21,
          24,
          27,
          28,
          30,
          31,
          33,
          34,
          44,
          46,
          47,
          50,
          51,
          53,
          56,
          57,
          61,
          65,
          76,
          77,
          78,
          84,
          85,
          91,
          92,
          93,
          96,
          98,
          99,
          105,
          109,
          110,
          112,
          113,
          114,
          122,
          126,
          128,
          134,
          136,
          142,
          151,
          152,
          158,
          161,
          166,
          168,
          170,
          172,
          174,
          179,
          182,
          184,
          187,
          188,
          194,
          196,
          202,
          204,
          205,
          208,
          210,
          214,
          216,
          219,
          222,
          227,
          230,
          232,
          237,
          238,
          239,
          245,
          246,
          248,
          252,
          254,
          256,
          257,
          258,
          261,
          266,
          267,
          272,
          273,
          275,
          276,
          282,
          283,
          290,
          291,
          297,
          299,
          309,
          318,
          319,
          320,
          323,
          324,
          327,
          334,
          337,
          339,
          344,
          347,
          348,
          354,
          359,
          361,
          366,
          367,
          369,
          370,
          375,
          377,
          379,
          382,
          384,
          385,
          388,
          389,
          390,
          393,
          399,
          400,
          404,
          408,
          410,
          413,
          414,
          417,
          422,
          424,
          425,
          427,
          432,
          435,
          436,
          437,
          438,
          448,
          449,
          452,
          453,
          454,
          455,
          457,
          459,
          462,
          463,
          465,
          472,
          475,
          476,
          486,
          493,
          495,
          499,
          502,
          505,
          511,
          512,
          515,
          516,
          520,
          521,
          522,
          523,
          524,
          525,
          527,
          531,
          532,
          534,
          540,
          541,
          542,
          550,
          558,
          575,
          578,
          582,
          584,
          585,
          586,
          588,
          592,
          595,
          597,
          599,
          601,
          607,
          609,
          610,
          613,
          618,
          621,
          624,
          625,
          627,
          628,
          631,
          634,
          635,
          636,
          645,
          650,
          653,
          658,
          659,
          662,
          666,
          670,
          673,
          674,
          680,
          682,
          687,
          691,
          704,
          706,
          707,
          709,
          710,
          714,
          716,
          719,
          720,
          723,
          729,
          732,
          733,
          739,
          741,
          742,
          743,
          747,
          751,
          754,
          757,
          758,
          759,
          764,
          767,
          771,
          773,
          776,
          777,
          778,
          781,
          783,
          784,
          793,
          795,
          797,
          800,
          805,
          811,
          814,
          817,
          820,
          824,
          826,
          830,
          832,
          835,
          837,
          838,
          839,
          844,
          847,
          848,
          849,
          857,
          861,
          864,
          866,
          867,
          871,
          876,
          877,
          878,
          879,
          884,
          887,
          897,
          900,
          904,
          905,
          907,
          908,
          914,
          915,
          917,
          924,
          925,
          927,
          929,
          930,
          931,
          935,
          936,
          937,
          946,
          947,
          951,
          956,
          959,
          961,
          963,
          964,
          965,
          969,
          973,
          974,
          975,
          979,
          981,
          982,
          986,
          990,
          993
         ],
         "xaxis": "x",
         "y": [
          290.79699999999997,
          280.96999999999997,
          201.53699999999998,
          250.80299999999997,
          271.801,
          130.952,
          270.55699999999996,
          301.116,
          190.87199999999999,
          61.022999999999996,
          50.993,
          30.763999999999996,
          81.049,
          330.424,
          301.413,
          1.1139999999999999,
          31.331999999999997,
          80.316,
          271.48299999999995,
          151.78,
          231.70499999999996,
          100.73499999999999,
          161.313,
          120.68799999999997,
          150.68799999999996,
          181.588,
          1.131,
          311.72900000000004,
          181.17299999999994,
          281.592,
          331.725,
          81.366,
          240.57,
          180.54999999999995,
          20.977,
          161.62199999999999,
          30.438999999999997,
          60.779999999999994,
          50.900999999999996,
          1.799,
          21.561999999999998,
          50.595,
          231.058,
          211.63099999999997,
          301.43399999999997,
          101.79799999999999,
          231.92899999999997,
          91.246,
          70.729,
          180.63499999999996,
          330.92900000000003,
          141.44899999999998,
          191.14299999999997,
          310.944,
          101.238,
          120.966,
          111.706,
          281.133,
          211.262,
          171.354,
          150.70799999999997,
          190.876,
          111.80499999999998,
          210.88699999999997,
          1.8969999999999998,
          121.58299999999998,
          290.776,
          170.77800000000002,
          231.439,
          170.814,
          251.68499999999997,
          191.225,
          50.620999999999995,
          331.438,
          231.14299999999997,
          271.132,
          150.96099999999996,
          72.04299999999999,
          201.58599999999998,
          320.795,
          151.052,
          261.41400000000004,
          221.76499999999996,
          260.474,
          300.78499999999997,
          170.20299999999997,
          0.572,
          70.99700000000001,
          170.93,
          170.79000000000002,
          90.377,
          190.33399999999997,
          251.79199999999997,
          181.81799999999996,
          170.58999999999997,
          212.082,
          300.634,
          211.385,
          182.02299999999997,
          271.7879999999999,
          212.12800000000001,
          41.964,
          281.219,
          321.814,
          151.58199999999997,
          261.15,
          311.448,
          20.775000000000002,
          120.73499999999999,
          171.54000000000002,
          71.115,
          41.425,
          271.35499999999996,
          321.46500000000003,
          131.17899999999997,
          240.97099999999998,
          210.93800000000002,
          171.658,
          41.713,
          221.312,
          270.592,
          171.47699999999998,
          21.189,
          51.57599999999999,
          290.64399999999995,
          321.115,
          200.784,
          110.753,
          300.31199999999995,
          271.84299999999996,
          250.96299999999994,
          301.26500000000004,
          321.46599999999995,
          101.33500000000001,
          130.40099999999998,
          190.278,
          330.86099999999993,
          130.706,
          91.83399999999997,
          41.222,
          140.766,
          331.53999999999996,
          41.757000000000005,
          90.68299999999999,
          72.337,
          241.41699999999994,
          101.489,
          171.38899999999998,
          190.50699999999998,
          21.285,
          180.66899999999998,
          61.436,
          20.778999999999996,
          280.83500000000004,
          180.34599999999998,
          31.589,
          201.19099999999997,
          50.715,
          311.38000000000005,
          41.845,
          190.97099999999998,
          181.046,
          251.84899999999996,
          302.227,
          111.09799999999998,
          31.008,
          110.86699999999998,
          11.461999999999998,
          320.33399999999995,
          301.78399999999993,
          322.14,
          231.357,
          280.985,
          111.78799999999998,
          91.84799999999998,
          71.44900000000001,
          321.471,
          131.35999999999999,
          301.55,
          181.41199999999995,
          41.883,
          151.32199999999997,
          191.13299999999995,
          51.494,
          80.98499999999999,
          81.747,
          211.82999999999998,
          151.022,
          320.38599999999997,
          30.551,
          121.571,
          291.5129999999999,
          251.20799999999997,
          191.054,
          41.088,
          331.11799999999994,
          310.96799999999996,
          321.923,
          300.93799999999993,
          322.09499999999997,
          111.44799999999998,
          301.486,
          231.54199999999997,
          251.24099999999996,
          150.635,
          180.50399999999996,
          171.153,
          161.114,
          201.49099999999996,
          180.95499999999998,
          1.8499999999999999,
          51.174,
          240.29199999999997,
          131.499,
          201.90099999999998,
          330.908,
          201.07299999999998,
          211.84400000000002,
          31.447999999999997,
          131.372,
          161.36799999999997,
          191.40099999999998,
          241.51799999999997,
          150.564,
          0.741,
          120.43899999999998,
          70.58600000000001,
          71.88,
          81.67999999999999,
          231.136,
          51.335,
          241.53699999999995,
          160.79199999999997,
          190.88699999999997,
          301.435,
          261.416,
          170.53699999999998,
          241.60899999999995,
          221.533,
          271.36899999999997,
          321.135,
          241.22,
          0.665,
          271.321,
          311.579,
          281.90999999999997,
          180.71499999999995,
          251.14799999999997,
          91.59699999999998,
          111.28599999999999,
          270.77099999999996,
          10.578,
          170.55200000000002,
          240.42299999999997,
          101.47200000000001,
          281.481,
          110.636,
          1.424,
          301.509,
          122.00699999999999,
          150.74099999999996,
          50.53,
          121.13099999999999,
          11.429,
          141.551,
          101.547,
          41.172000000000004,
          251.54599999999996,
          290.889,
          110.77399999999999,
          321.815,
          201.804,
          61.111000000000004,
          330.514,
          221.04099999999997,
          10.482999999999999,
          280.65,
          141.864,
          100.408,
          200.552,
          281.63599999999997,
          40.760000000000005,
          121.20999999999998,
          41.427,
          110.60799999999999,
          251.48099999999997,
          191.41199999999998,
          270.7939999999999,
          100.881,
          241.85499999999996,
          120.48599999999999,
          230.72799999999998,
          31.557,
          81.77,
          231.35899999999998,
          270.513,
          251.34299999999996,
          50.564,
          150.72399999999996,
          310.81800000000004,
          60.366,
          281.467,
          180.71999999999997,
          211.009,
          11.408,
          280.944,
          201.068,
          1.3970000000000002,
          181.01299999999995,
          260.13,
          302.19399999999996,
          201.35299999999998,
          40.375,
          91.415,
          290.38599999999997,
          330.091,
          71.17299999999999,
          101.722,
          161.47399999999996,
          180.596,
          100.31400000000001,
          231.26299999999998,
          321.981,
          330.982,
          40.583000000000006,
          30.723,
          91.318,
          41.379999999999995
         ],
         "yaxis": "y"
        }
       ],
       "layout": {
        "legend": {
         "title": {
          "text": "Segment"
         },
         "tracegroupgap": 0
        },
        "margin": {
         "t": 60
        },
        "template": {
         "data": {
          "bar": [
           {
            "error_x": {
             "color": "#2a3f5f"
            },
            "error_y": {
             "color": "#2a3f5f"
            },
            "marker": {
             "line": {
              "color": "white",
              "width": 0.5
             },
             "pattern": {
              "fillmode": "overlay",
              "size": 10,
              "solidity": 0.2
             }
            },
            "type": "bar"
           }
          ],
          "barpolar": [
           {
            "marker": {
             "line": {
              "color": "white",
              "width": 0.5
             },
             "pattern": {
              "fillmode": "overlay",
              "size": 10,
              "solidity": 0.2
             }
            },
            "type": "barpolar"
           }
          ],
          "carpet": [
           {
            "aaxis": {
             "endlinecolor": "#2a3f5f",
             "gridcolor": "#C8D4E3",
             "linecolor": "#C8D4E3",
             "minorgridcolor": "#C8D4E3",
             "startlinecolor": "#2a3f5f"
            },
            "baxis": {
             "endlinecolor": "#2a3f5f",
             "gridcolor": "#C8D4E3",
             "linecolor": "#C8D4E3",
             "minorgridcolor": "#C8D4E3",
             "startlinecolor": "#2a3f5f"
            },
            "type": "carpet"
           }
          ],
          "choropleth": [
           {
            "colorbar": {
             "outlinewidth": 0,
             "ticks": ""
            },
            "type": "choropleth"
           }
          ],
          "contour": [
           {
            "colorbar": {
             "outlinewidth": 0,
             "ticks": ""
            },
            "colorscale": [
             [
              0,
              "#0d0887"
             ],
             [
              0.1111111111111111,
              "#46039f"
             ],
             [
              0.2222222222222222,
              "#7201a8"
             ],
             [
              0.3333333333333333,
              "#9c179e"
             ],
             [
              0.4444444444444444,
              "#bd3786"
             ],
             [
              0.5555555555555556,
              "#d8576b"
             ],
             [
              0.6666666666666666,
              "#ed7953"
             ],
             [
              0.7777777777777778,
              "#fb9f3a"
             ],
             [
              0.8888888888888888,
              "#fdca26"
             ],
             [
              1,
              "#f0f921"
             ]
            ],
            "type": "contour"
           }
          ],
          "contourcarpet": [
           {
            "colorbar": {
             "outlinewidth": 0,
             "ticks": ""
            },
            "type": "contourcarpet"
           }
          ],
          "heatmap": [
           {
            "colorbar": {
             "outlinewidth": 0,
             "ticks": ""
            },
            "colorscale": [
             [
              0,
              "#0d0887"
             ],
             [
              0.1111111111111111,
              "#46039f"
             ],
             [
              0.2222222222222222,
              "#7201a8"
             ],
             [
              0.3333333333333333,
              "#9c179e"
             ],
             [
              0.4444444444444444,
              "#bd3786"
             ],
             [
              0.5555555555555556,
              "#d8576b"
             ],
             [
              0.6666666666666666,
              "#ed7953"
             ],
             [
              0.7777777777777778,
              "#fb9f3a"
             ],
             [
              0.8888888888888888,
              "#fdca26"
             ],
             [
              1,
              "#f0f921"
             ]
            ],
            "type": "heatmap"
           }
          ],
          "heatmapgl": [
           {
            "colorbar": {
             "outlinewidth": 0,
             "ticks": ""
            },
            "colorscale": [
             [
              0,
              "#0d0887"
             ],
             [
              0.1111111111111111,
              "#46039f"
             ],
             [
              0.2222222222222222,
              "#7201a8"
             ],
             [
              0.3333333333333333,
              "#9c179e"
             ],
             [
              0.4444444444444444,
              "#bd3786"
             ],
             [
              0.5555555555555556,
              "#d8576b"
             ],
             [
              0.6666666666666666,
              "#ed7953"
             ],
             [
              0.7777777777777778,
              "#fb9f3a"
             ],
             [
              0.8888888888888888,
              "#fdca26"
             ],
             [
              1,
              "#f0f921"
             ]
            ],
            "type": "heatmapgl"
           }
          ],
          "histogram": [
           {
            "marker": {
             "pattern": {
              "fillmode": "overlay",
              "size": 10,
              "solidity": 0.2
             }
            },
            "type": "histogram"
           }
          ],
          "histogram2d": [
           {
            "colorbar": {
             "outlinewidth": 0,
             "ticks": ""
            },
            "colorscale": [
             [
              0,
              "#0d0887"
             ],
             [
              0.1111111111111111,
              "#46039f"
             ],
             [
              0.2222222222222222,
              "#7201a8"
             ],
             [
              0.3333333333333333,
              "#9c179e"
             ],
             [
              0.4444444444444444,
              "#bd3786"
             ],
             [
              0.5555555555555556,
              "#d8576b"
             ],
             [
              0.6666666666666666,
              "#ed7953"
             ],
             [
              0.7777777777777778,
              "#fb9f3a"
             ],
             [
              0.8888888888888888,
              "#fdca26"
             ],
             [
              1,
              "#f0f921"
             ]
            ],
            "type": "histogram2d"
           }
          ],
          "histogram2dcontour": [
           {
            "colorbar": {
             "outlinewidth": 0,
             "ticks": ""
            },
            "colorscale": [
             [
              0,
              "#0d0887"
             ],
             [
              0.1111111111111111,
              "#46039f"
             ],
             [
              0.2222222222222222,
              "#7201a8"
             ],
             [
              0.3333333333333333,
              "#9c179e"
             ],
             [
              0.4444444444444444,
              "#bd3786"
             ],
             [
              0.5555555555555556,
              "#d8576b"
             ],
             [
              0.6666666666666666,
              "#ed7953"
             ],
             [
              0.7777777777777778,
              "#fb9f3a"
             ],
             [
              0.8888888888888888,
              "#fdca26"
             ],
             [
              1,
              "#f0f921"
             ]
            ],
            "type": "histogram2dcontour"
           }
          ],
          "mesh3d": [
           {
            "colorbar": {
             "outlinewidth": 0,
             "ticks": ""
            },
            "type": "mesh3d"
           }
          ],
          "parcoords": [
           {
            "line": {
             "colorbar": {
              "outlinewidth": 0,
              "ticks": ""
             }
            },
            "type": "parcoords"
           }
          ],
          "pie": [
           {
            "automargin": true,
            "type": "pie"
           }
          ],
          "scatter": [
           {
            "fillpattern": {
             "fillmode": "overlay",
             "size": 10,
             "solidity": 0.2
            },
            "type": "scatter"
           }
          ],
          "scatter3d": [
           {
            "line": {
             "colorbar": {
              "outlinewidth": 0,
              "ticks": ""
             }
            },
            "marker": {
             "colorbar": {
              "outlinewidth": 0,
              "ticks": ""
             }
            },
            "type": "scatter3d"
           }
          ],
          "scattercarpet": [
           {
            "marker": {
             "colorbar": {
              "outlinewidth": 0,
              "ticks": ""
             }
            },
            "type": "scattercarpet"
           }
          ],
          "scattergeo": [
           {
            "marker": {
             "colorbar": {
              "outlinewidth": 0,
              "ticks": ""
             }
            },
            "type": "scattergeo"
           }
          ],
          "scattergl": [
           {
            "marker": {
             "colorbar": {
              "outlinewidth": 0,
              "ticks": ""
             }
            },
            "type": "scattergl"
           }
          ],
          "scattermapbox": [
           {
            "marker": {
             "colorbar": {
              "outlinewidth": 0,
              "ticks": ""
             }
            },
            "type": "scattermapbox"
           }
          ],
          "scatterpolar": [
           {
            "marker": {
             "colorbar": {
              "outlinewidth": 0,
              "ticks": ""
             }
            },
            "type": "scatterpolar"
           }
          ],
          "scatterpolargl": [
           {
            "marker": {
             "colorbar": {
              "outlinewidth": 0,
              "ticks": ""
             }
            },
            "type": "scatterpolargl"
           }
          ],
          "scatterternary": [
           {
            "marker": {
             "colorbar": {
              "outlinewidth": 0,
              "ticks": ""
             }
            },
            "type": "scatterternary"
           }
          ],
          "surface": [
           {
            "colorbar": {
             "outlinewidth": 0,
             "ticks": ""
            },
            "colorscale": [
             [
              0,
              "#0d0887"
             ],
             [
              0.1111111111111111,
              "#46039f"
             ],
             [
              0.2222222222222222,
              "#7201a8"
             ],
             [
              0.3333333333333333,
              "#9c179e"
             ],
             [
              0.4444444444444444,
              "#bd3786"
             ],
             [
              0.5555555555555556,
              "#d8576b"
             ],
             [
              0.6666666666666666,
              "#ed7953"
             ],
             [
              0.7777777777777778,
              "#fb9f3a"
             ],
             [
              0.8888888888888888,
              "#fdca26"
             ],
             [
              1,
              "#f0f921"
             ]
            ],
            "type": "surface"
           }
          ],
          "table": [
           {
            "cells": {
             "fill": {
              "color": "#EBF0F8"
             },
             "line": {
              "color": "white"
             }
            },
            "header": {
             "fill": {
              "color": "#C8D4E3"
             },
             "line": {
              "color": "white"
             }
            },
            "type": "table"
           }
          ]
         },
         "layout": {
          "annotationdefaults": {
           "arrowcolor": "#2a3f5f",
           "arrowhead": 0,
           "arrowwidth": 1
          },
          "autotypenumbers": "strict",
          "coloraxis": {
           "colorbar": {
            "outlinewidth": 0,
            "ticks": ""
           }
          },
          "colorscale": {
           "diverging": [
            [
             0,
             "#8e0152"
            ],
            [
             0.1,
             "#c51b7d"
            ],
            [
             0.2,
             "#de77ae"
            ],
            [
             0.3,
             "#f1b6da"
            ],
            [
             0.4,
             "#fde0ef"
            ],
            [
             0.5,
             "#f7f7f7"
            ],
            [
             0.6,
             "#e6f5d0"
            ],
            [
             0.7,
             "#b8e186"
            ],
            [
             0.8,
             "#7fbc41"
            ],
            [
             0.9,
             "#4d9221"
            ],
            [
             1,
             "#276419"
            ]
           ],
           "sequential": [
            [
             0,
             "#0d0887"
            ],
            [
             0.1111111111111111,
             "#46039f"
            ],
            [
             0.2222222222222222,
             "#7201a8"
            ],
            [
             0.3333333333333333,
             "#9c179e"
            ],
            [
             0.4444444444444444,
             "#bd3786"
            ],
            [
             0.5555555555555556,
             "#d8576b"
            ],
            [
             0.6666666666666666,
             "#ed7953"
            ],
            [
             0.7777777777777778,
             "#fb9f3a"
            ],
            [
             0.8888888888888888,
             "#fdca26"
            ],
            [
             1,
             "#f0f921"
            ]
           ],
           "sequentialminus": [
            [
             0,
             "#0d0887"
            ],
            [
             0.1111111111111111,
             "#46039f"
            ],
            [
             0.2222222222222222,
             "#7201a8"
            ],
            [
             0.3333333333333333,
             "#9c179e"
            ],
            [
             0.4444444444444444,
             "#bd3786"
            ],
            [
             0.5555555555555556,
             "#d8576b"
            ],
            [
             0.6666666666666666,
             "#ed7953"
            ],
            [
             0.7777777777777778,
             "#fb9f3a"
            ],
            [
             0.8888888888888888,
             "#fdca26"
            ],
            [
             1,
             "#f0f921"
            ]
           ]
          },
          "colorway": [
           "#636efa",
           "#EF553B",
           "#00cc96",
           "#ab63fa",
           "#FFA15A",
           "#19d3f3",
           "#FF6692",
           "#B6E880",
           "#FF97FF",
           "#FECB52"
          ],
          "font": {
           "color": "#2a3f5f"
          },
          "geo": {
           "bgcolor": "white",
           "lakecolor": "white",
           "landcolor": "white",
           "showlakes": true,
           "showland": true,
           "subunitcolor": "#C8D4E3"
          },
          "hoverlabel": {
           "align": "left"
          },
          "hovermode": "closest",
          "mapbox": {
           "style": "light"
          },
          "paper_bgcolor": "white",
          "plot_bgcolor": "white",
          "polar": {
           "angularaxis": {
            "gridcolor": "#EBF0F8",
            "linecolor": "#EBF0F8",
            "ticks": ""
           },
           "bgcolor": "white",
           "radialaxis": {
            "gridcolor": "#EBF0F8",
            "linecolor": "#EBF0F8",
            "ticks": ""
           }
          },
          "scene": {
           "xaxis": {
            "backgroundcolor": "white",
            "gridcolor": "#DFE8F3",
            "gridwidth": 2,
            "linecolor": "#EBF0F8",
            "showbackground": true,
            "ticks": "",
            "zerolinecolor": "#EBF0F8"
           },
           "yaxis": {
            "backgroundcolor": "white",
            "gridcolor": "#DFE8F3",
            "gridwidth": 2,
            "linecolor": "#EBF0F8",
            "showbackground": true,
            "ticks": "",
            "zerolinecolor": "#EBF0F8"
           },
           "zaxis": {
            "backgroundcolor": "white",
            "gridcolor": "#DFE8F3",
            "gridwidth": 2,
            "linecolor": "#EBF0F8",
            "showbackground": true,
            "ticks": "",
            "zerolinecolor": "#EBF0F8"
           }
          },
          "shapedefaults": {
           "line": {
            "color": "#2a3f5f"
           }
          },
          "ternary": {
           "aaxis": {
            "gridcolor": "#DFE8F3",
            "linecolor": "#A2B1C6",
            "ticks": ""
           },
           "baxis": {
            "gridcolor": "#DFE8F3",
            "linecolor": "#A2B1C6",
            "ticks": ""
           },
           "bgcolor": "white",
           "caxis": {
            "gridcolor": "#DFE8F3",
            "linecolor": "#A2B1C6",
            "ticks": ""
           }
          },
          "title": {
           "x": 0.05
          },
          "xaxis": {
           "automargin": true,
           "gridcolor": "#EBF0F8",
           "linecolor": "#EBF0F8",
           "ticks": "",
           "title": {
            "standoff": 15
           },
           "zerolinecolor": "#EBF0F8",
           "zerolinewidth": 2
          },
          "yaxis": {
           "automargin": true,
           "gridcolor": "#EBF0F8",
           "linecolor": "#EBF0F8",
           "ticks": "",
           "title": {
            "standoff": 15
           },
           "zerolinecolor": "#EBF0F8",
           "zerolinewidth": 2
          }
         }
        },
        "title": {
         "text": "Customer Segmentation based on Credit Scores (Hierarchical Clustering)"
        },
        "xaxis": {
         "anchor": "y",
         "domain": [
          0,
          1
         ],
         "title": {
          "text": "Customer Index"
         }
        },
        "yaxis": {
         "anchor": "x",
         "domain": [
          0,
          1
         ],
         "title": {
          "text": "Credit Score"
         }
        }
       }
      }
     },
     "metadata": {},
     "output_type": "display_data"
    }
   ],
   "source": [
    "# Map the clusters to meaningful segment names (based on your analysis)\n",
    "data['Segment'] = data['Segment'].map({0: 'Excellent', 1: 'Low', 2: 'Good'})\n",
    "\n",
    "# Convert the 'Segment' column to category data type\n",
    "data['Segment'] = data['Segment'].astype('category')\n",
    "\n",
    "# Visualize the segments\n",
    "fig = px.scatter(data, x=data.index, y='Credit Score', color='Segment', color_discrete_sequence=['green', 'blue', 'yellow', 'red'])\n",
    "fig.update_layout(\n",
    "    xaxis_title='Customer Index',\n",
    "    yaxis_title='Credit Score',\n",
    "    title='Customer Segmentation based on Credit Scores (Hierarchical Clustering)'\n",
    ")\n",
    "fig.show()"
   ]
  },
  {
   "cell_type": "code",
   "execution_count": 228,
   "metadata": {},
   "outputs": [
    {
     "name": "stdout",
     "output_type": "stream",
     "text": [
      "Silhouette Score for Hierarchical Clustering: 0.54\n"
     ]
    }
   ],
   "source": [
    "# Calculate Silhouette Score\n",
    "silhouette_avg = silhouette_score(X, data['Segment'])\n",
    "print(f'Silhouette Score for Hierarchical Clustering: {silhouette_avg:.2f}')"
   ]
  }
 ],
 "metadata": {
  "kernelspec": {
   "display_name": "Python 3",
   "language": "python",
   "name": "python3"
  },
  "language_info": {
   "codemirror_mode": {
    "name": "ipython",
    "version": 3
   },
   "file_extension": ".py",
   "mimetype": "text/x-python",
   "name": "python",
   "nbconvert_exporter": "python",
   "pygments_lexer": "ipython3",
   "version": "3.12.3"
  }
 },
 "nbformat": 4,
 "nbformat_minor": 2
}
